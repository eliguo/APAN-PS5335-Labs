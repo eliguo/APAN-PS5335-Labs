{
 "cells": [
  {
   "cell_type": "markdown",
   "metadata": {},
   "source": [
    "# Home Work 6 (112)\n",
    "## (APANPS5335_002_2023_3 - MACHINE LEARNING: CONCEPTS & APPLICATION)\n",
    "\n",
    "## Submitted by: Eli Guo\n",
    "## UNI: yg2869\n",
    "### Posted: 11/21/2023 | Due: 12/05/2023 by 11:59 pm"
   ]
  },
  {
   "cell_type": "markdown",
   "metadata": {},
   "source": [
    "Please submit your well-organized PDF and notebook to Gradescope, ensuring alignment with each question or task. Minimize any extraneous output in your Jupyter notebooks or PDFs. Thank you!"
   ]
  },
  {
   "cell_type": "markdown",
   "metadata": {
    "id": "pWvc_sLKvJPy"
   },
   "source": [
    "## Sentiment Analysis and Evaluation (112 points)"
   ]
  },
  {
   "cell_type": "code",
   "execution_count": 1,
   "metadata": {},
   "outputs": [],
   "source": [
    "import pandas as pd\n",
    "import numpy as np\n",
    "import re\n",
    "import seaborn as sns\n",
    "import matplotlib.pyplot as plt\n",
    "import string\n",
    "from nltk.corpus import stopwords\n",
    "from nltk.tokenize import word_tokenize\n",
    "from sklearn.model_selection import train_test_split\n",
    "from gensim.models import Word2Vec\n",
    "from sklearn.manifold import TSNE\n",
    "from sklearn.feature_extraction.text import CountVectorizer\n",
    "from sklearn.linear_model import LogisticRegression\n",
    "from sklearn.metrics import classification_report, confusion_matrix, accuracy_score, precision_score, recall_score, f1_score\n",
    "from sklearn.feature_extraction.text import TfidfVectorizer"
   ]
  },
  {
   "cell_type": "code",
   "execution_count": 2,
   "metadata": {},
   "outputs": [],
   "source": [
    "stop_words = set(stopwords.words('english'))"
   ]
  },
  {
   "cell_type": "markdown",
   "metadata": {},
   "source": [
    "## Task 1 (28 points) Data Preprocessing \n",
    "Dataset: IMDb Movie Reviews <br>\n",
    "The dataset consists of movie reviews from the IMDb website, along with their corresponding sentiment labels (positive or negative). The dataset is divided into a training set and a test set, with 25,000 reviews in each set."
   ]
  },
  {
   "cell_type": "markdown",
   "metadata": {},
   "source": [
    "### 1.1 (1 points) Load Data "
   ]
  },
  {
   "cell_type": "code",
   "execution_count": 3,
   "metadata": {},
   "outputs": [],
   "source": [
    "df = pd.read_csv('IMDB-Dataset-F2023.csv')"
   ]
  },
  {
   "cell_type": "code",
   "execution_count": 4,
   "metadata": {},
   "outputs": [
    {
     "data": {
      "text/html": [
       "<div>\n",
       "<style scoped>\n",
       "    .dataframe tbody tr th:only-of-type {\n",
       "        vertical-align: middle;\n",
       "    }\n",
       "\n",
       "    .dataframe tbody tr th {\n",
       "        vertical-align: top;\n",
       "    }\n",
       "\n",
       "    .dataframe thead th {\n",
       "        text-align: right;\n",
       "    }\n",
       "</style>\n",
       "<table border=\"1\" class=\"dataframe\">\n",
       "  <thead>\n",
       "    <tr style=\"text-align: right;\">\n",
       "      <th></th>\n",
       "      <th>review</th>\n",
       "      <th>sentiment</th>\n",
       "    </tr>\n",
       "  </thead>\n",
       "  <tbody>\n",
       "    <tr>\n",
       "      <th>0</th>\n",
       "      <td>One of the other reviewers has mentioned that ...</td>\n",
       "      <td>positive</td>\n",
       "    </tr>\n",
       "    <tr>\n",
       "      <th>1</th>\n",
       "      <td>A wonderful little production. &lt;br /&gt;&lt;br /&gt;The...</td>\n",
       "      <td>positive</td>\n",
       "    </tr>\n",
       "    <tr>\n",
       "      <th>2</th>\n",
       "      <td>I thought this was a wonderful way to spend ti...</td>\n",
       "      <td>positive</td>\n",
       "    </tr>\n",
       "    <tr>\n",
       "      <th>3</th>\n",
       "      <td>Basically there's a family where a little boy ...</td>\n",
       "      <td>negative</td>\n",
       "    </tr>\n",
       "    <tr>\n",
       "      <th>4</th>\n",
       "      <td>Petter Mattei's \"Love in the Time of Money\" is...</td>\n",
       "      <td>positive</td>\n",
       "    </tr>\n",
       "  </tbody>\n",
       "</table>\n",
       "</div>"
      ],
      "text/plain": [
       "                                              review sentiment\n",
       "0  One of the other reviewers has mentioned that ...  positive\n",
       "1  A wonderful little production. <br /><br />The...  positive\n",
       "2  I thought this was a wonderful way to spend ti...  positive\n",
       "3  Basically there's a family where a little boy ...  negative\n",
       "4  Petter Mattei's \"Love in the Time of Money\" is...  positive"
      ]
     },
     "execution_count": 4,
     "metadata": {},
     "output_type": "execute_result"
    }
   ],
   "source": [
    "df.head()"
   ]
  },
  {
   "cell_type": "code",
   "execution_count": 5,
   "metadata": {},
   "outputs": [
    {
     "name": "stdout",
     "output_type": "stream",
     "text": [
      "<class 'pandas.core.frame.DataFrame'>\n",
      "RangeIndex: 50100 entries, 0 to 50099\n",
      "Data columns (total 2 columns):\n",
      " #   Column     Non-Null Count  Dtype \n",
      "---  ------     --------------  ----- \n",
      " 0   review     50050 non-null  object\n",
      " 1   sentiment  50038 non-null  object\n",
      "dtypes: object(2)\n",
      "memory usage: 782.9+ KB\n"
     ]
    }
   ],
   "source": [
    "df.info()"
   ]
  },
  {
   "cell_type": "markdown",
   "metadata": {},
   "source": [
    "### 1.2 (6 points) Any missing values?\n",
    "\n",
    "- (2 points) Begin by describing the extent of missing data in the dataset.\n",
    "- (2 points) If missing values are present, explain their impact on your analysis and the dataset, and demonstrate how you would handle them.\n",
    "- (2 points) For educational purposes, comment on various methods commonly used in the field for handling missing values, and provide examples.\n",
    "\n",
    "Please be sure to include evidence or plots to support your analysis."
   ]
  },
  {
   "cell_type": "code",
   "execution_count": 6,
   "metadata": {},
   "outputs": [
    {
     "name": "stdout",
     "output_type": "stream",
     "text": [
      "review       50\n",
      "sentiment    62\n",
      "dtype: int64\n"
     ]
    }
   ],
   "source": [
    "# Checking for missing values in each column\n",
    "print(df.isnull().sum())"
   ]
  },
  {
   "cell_type": "code",
   "execution_count": 7,
   "metadata": {},
   "outputs": [
    {
     "name": "stdout",
     "output_type": "stream",
     "text": [
      "review       0.099800\n",
      "sentiment    0.123752\n",
      "dtype: float64\n"
     ]
    }
   ],
   "source": [
    "# Percentage of missing values\n",
    "print(df.isnull().mean() * 100)"
   ]
  },
  {
   "cell_type": "markdown",
   "metadata": {},
   "source": [
    "The dataset contains missing values in both the 'review' and 'sentiment' columns, with approximately 0.1% missing in 'review' and 0.12% in 'sentiment'. The impact of these missing values on analysis and modeling can be significant. Missing text in the 'review' column directly affects the quality of input data for sentiment analysis, potentially skewing the language model's performance. Without complete textual data, the model's ability to accurately understand and predict sentiments can be compromised. Similarly, missing values in the 'sentiment' column result in a lack of labels, essential for supervised learning models. Unlabeled data can diminish the effectiveness of the training process, leading to a model that may not generalize well on unseen data.\n",
    "\n",
    "Given the low percentage of missing data, a suitable approach to handling these missing values is the removal of rows containing any missing data. This method ensures that the model is trained on a dataset with complete information, thus maintaining the integrity and quality of the training process."
   ]
  },
  {
   "cell_type": "code",
   "execution_count": 8,
   "metadata": {},
   "outputs": [
    {
     "name": "stdout",
     "output_type": "stream",
     "text": [
      "(49989, 2)\n"
     ]
    }
   ],
   "source": [
    "# Remove rows with missing values\n",
    "df = df.dropna()\n",
    "\n",
    "print(df.shape)"
   ]
  },
  {
   "cell_type": "markdown",
   "metadata": {},
   "source": [
    "**Please comment on various methods commonly used for handling missing data and provide examples if necessary**\n",
    "\n",
    "Handling missing data is a fundamental step in preparing datasets for analysis or machine learning. The method chosen depends on the nature and extent of the missing data, as well as the type of analysis or modeling being performed.\n",
    "\n",
    "One common approach is deletion, where rows or columns with missing values are entirely removed. This is straightforward but can lead to a significant loss of data, especially if missing values are widespread. Deletion is often used when the missing values are random and don't form a large portion of the data. For example, in a survey dataset with few missing responses, rows with missing data can be dropped without much impact on the overall analysis.\n",
    "\n",
    "Another widely used method is imputation, which involves filling in missing values with substitutes. Simple imputation techniques include using the mean, median, or mode of a column to replace missing values. This approach works well when the missing data is randomly distributed and the substituted value is a reasonable estimate for the missing one. For instance, in a dataset with missing age values, filling in the missing entries with the average age can be a practical solution.\n",
    "\n",
    "More sophisticated imputation techniques involve using predictive models. Here, algorithms like linear regression, decision trees, or k-nearest neighbors are used to predict and fill in missing values based on other attributes in the data. This method is particularly useful when there are patterns or relationships in the data that can help predict the missing values. For example, in a housing price dataset, missing values for house size could be predicted based on other features like the number of rooms, location, and price.\n",
    "\n",
    "In the case of categorical data, a common method is to treat missing values as a separate category. This is particularly useful when the missing value itself holds information. For instance, in a dataset of customer preferences, missing values in a column like 'preferred product category' can be assigned a label like 'Unknown', indicating that these customers haven't expressed a preference.\n",
    "\n",
    "Lastly, some machine learning algorithms can handle missing values inherently. For example, tree-based models like Random Forests can split nodes using only the non-missing values, effectively working around the missing data. This approach is beneficial when the dataset has a significant amount of missing data, and deletion or imputation might lead to biased or inaccurate models.\n",
    "\n",
    "Each of these methods has its advantages and drawbacks, and the choice largely depends on the specific context of the dataset and the goals of the analysis or model building. The key is to understand the nature of the missing data and select a method that best preserves the integrity and representativeness of the dataset."
   ]
  },
  {
   "cell_type": "markdown",
   "metadata": {},
   "source": [
    "### 1.3 (6 points) Any duplicate records?\n",
    "- (2 points) Start by checking for the presence of duplicate records in the dataset and quantifying them.\n",
    "- (2 points) If duplicates are found, demonstrate how you would handle them.\n",
    "- (2 points) For educational purposes, please list various methods commonly used in the field for handling duplicate records, and provide examples. <br>\n",
    "\n",
    "Please be sure to include evidence or plots to support your analysis."
   ]
  },
  {
   "cell_type": "code",
   "execution_count": 9,
   "metadata": {},
   "outputs": [
    {
     "name": "stdout",
     "output_type": "stream",
     "text": [
      "516\n"
     ]
    }
   ],
   "source": [
    "# Check for duplicate records\n",
    "duplicate_rows = df[df.duplicated()]\n",
    "print(duplicate_rows.shape[0])"
   ]
  },
  {
   "cell_type": "code",
   "execution_count": 10,
   "metadata": {},
   "outputs": [
    {
     "name": "stdout",
     "output_type": "stream",
     "text": [
      "(49473, 2)\n"
     ]
    }
   ],
   "source": [
    "# Remove duplicate records\n",
    "df = df.drop_duplicates()\n",
    "\n",
    "print(df.shape)"
   ]
  },
  {
   "cell_type": "markdown",
   "metadata": {},
   "source": [
    "**Please comment on various methods commonly used for handling duplicate records and provide examples if necessary**\n",
    "\n",
    "In the field of data preprocessing, handling duplicate records is a crucial step to ensure the integrity and quality of the data. There are several methods employed to address this issue, each suited to different scenarios and requirements.\n",
    "\n",
    "One common approach is the outright removal of all duplicate rows. This method is straightforward and often used when duplicates do not carry any significance for the analysis. For instance, in a dataset where each row should represent a unique entry, any repetition might be a result of data entry errors or data merging processes. In such cases, using a simple drop_duplicates() function in Pandas would suffice to eliminate these redundancies.\n",
    "\n",
    "Another technique involves keeping either the first or the last occurrence of the duplicate. This method is particularly useful in datasets where entries are time-stamped and the most recent or the earliest record holds more relevance. For example, in a dataset tracking price changes of products, keeping the latest price (i.e., the last duplicate) might be more beneficial for analyzing current market trends.\n",
    "\n",
    "Sometimes, duplicates are identified and handled based on specific columns rather than the entire row. This approach is essential when a combination of certain fields needs to be unique, but other fields can vary. For instance, in a customer transaction dataset, while customer IDs and transaction dates should be unique together, other details like transaction amount or items purchased might differ.\n",
    "\n",
    "In more complex scenarios, custom logic might be applied to decide which duplicates to keep. This often involves grouping data based on certain criteria and then applying a function to determine the retention or removal of duplicates. For example, in a survey dataset, if multiple entries from the same participant exist, one might choose to keep the entry with the most complete information or the average of the values provided.\n",
    "\n",
    "Each of these methods has its unique applications and considerations. The choice largely depends on the nature of the dataset, the context of the analysis, and the specific requirements of the task at hand. It's crucial to understand the data thoroughly to make an informed decision about which method to apply for handling duplicates."
   ]
  },
  {
   "cell_type": "markdown",
   "metadata": {},
   "source": [
    "### 1.4 (8 points) Balance? \n",
    "Analyze the balance of sentiment labels in the IMDB movie review dataset. Please provide evidence or plots to support your analysis.\n",
    "\n",
    "- (2 points) Calculate the distribution of sentiment labels in the dataset.\n",
    "- (2 points) Create a bar plot to visualize the balance of sentiment labels.\n",
    "- (2 points) If the data is imbalanced, demonstrate how you would address this issue.\n",
    "- (2 points) For educational purposes, please comment on various methods commonly used in the field for handling imbalanced data, and provide examples."
   ]
  },
  {
   "cell_type": "code",
   "execution_count": 11,
   "metadata": {},
   "outputs": [
    {
     "name": "stdout",
     "output_type": "stream",
     "text": [
      "sentiment\n",
      "positive    24831\n",
      "negative    24642\n",
      "Name: count, dtype: int64\n"
     ]
    }
   ],
   "source": [
    "# Calculate the distribution of sentiment labels\n",
    "label_distribution = df['sentiment'].value_counts()\n",
    "print(label_distribution)"
   ]
  },
  {
   "cell_type": "code",
   "execution_count": 12,
   "metadata": {},
   "outputs": [
    {
     "data": {
      "image/png": "[encoded data removed]",
      "text/plain": [
       "<Figure size 640x480 with 1 Axes>"
      ]
     },
     "metadata": {},
     "output_type": "display_data"
    }
   ],
   "source": [
    "# Plotting the distribution of sentiments as a bar chart\n",
    "label_distribution.plot(kind='bar')\n",
    "plt.title('Distribution of Sentiment Labels')\n",
    "plt.xlabel('Sentiment')\n",
    "plt.ylabel('Count')\n",
    "plt.show()"
   ]
  },
  {
   "cell_type": "markdown",
   "metadata": {},
   "source": [
    "**Please Analyze the Results**:<br>\n",
    "\n",
    "The distribution of sentiment labels in the IMDb movie review dataset indicates a fairly balanced scenario between positive and negative reviews. With 24,831 positive and 24,642 negative reviews, the dataset presents a nearly equal split between the two sentiment categories. This balance is crucial in sentiment analysis tasks, as it suggests that the machine learning models trained on this dataset will not be inherently biased towards one sentiment over the other.\n",
    "\n",
    "In datasets where one category significantly outnumbers the other, models can develop a bias, tending to predict the majority class more often. This is not ideal for achieving accurate and unbiased predictions. However, in your case, the slight difference between the counts of positive and negative reviews is marginal and unlikely to cause significant bias in predictive modeling. This balance allows for more reliable training and validation of models, as it provides an equal representation of both sentiments.\n",
    "\n",
    "Moreover, the balanced nature of this dataset might simplify some aspects of the data preprocessing and model training phases. There might be no need for techniques like oversampling or undersampling, which are typically employed to address class imbalance issues. This can lead to more straightforward model training and evaluation processes. Overall, the near-equal distribution of sentiment labels in your dataset is a positive indicator for the robustness and fairness of any sentiment analysis models you develop using this data."
   ]
  },
  {
   "cell_type": "markdown",
   "metadata": {
    "jp-MarkdownHeadingCollapsed": true
   },
   "source": [
    "**Please comment on various methods commonly used for handling imbalanced data and provide examples if necessary:** <br>\n",
    "\n",
    "Handling imbalanced data is a common challenge in machine learning, especially in classification problems where the distribution of classes is skewed. One straightforward approach is resampling, which can be either undersampling or oversampling. Undersampling involves reducing the instances of the majority class to balance the dataset. While this can mitigate imbalance, it also leads to loss of potentially valuable data. Oversampling, on the other hand, increases the instances of the minority class, either by duplicating existing instances or, more effectively, by generating synthetic samples. A popular technique for synthetic sample generation is Synthetic Minority Over-sampling Technique (SMOTE), which creates new, plausible examples of the minority class by interpolating between existing ones.\n",
    "\n",
    "Another approach is to use algorithm-level solutions that inherently manage imbalance. Some algorithms, like decision trees, can handle imbalance to a certain extent due to their hierarchical structure. However, more sophisticated methods involve modifying existing algorithms to make them more sensitive to the minority class. This could involve incorporating class weights, where higher significance is given to the minority class during the training process.\n",
    "\n",
    "Cost-sensitive learning is also a valuable strategy. This technique assigns a higher cost to misclassifying the minority class compared to the majority class, thereby nudging the algorithm to pay more attention to the minority class. Ensemble methods like Random Forest can be adapted to be cost-sensitive, improving their performance on imbalanced datasets.\n",
    "\n",
    "A more nuanced approach involves changing the evaluation metrics used to assess model performance. Traditional metrics like accuracy can be misleading in imbalanced settings. Metrics such as Precision-Recall AUC, F1-Score, or the G-mean provide a more realistic picture of a model's performance in the context of class imbalance.\n",
    "\n",
    "Lastly, anomaly detection techniques can sometimes be employed, especially in cases where the minority class is not just underrepresented but also significantly different from the majority class. These techniques focus on identifying the 'anomalous' or rare instances, which are often the points of interest.\n",
    "\n",
    "In practice, the choice of method depends on the specific context of the problem, the degree of imbalance, and the nature of the data. It's not uncommon to combine several of these approaches to achieve a more robust and effective model."
   ]
  },
  {
   "cell_type": "markdown",
   "metadata": {},
   "source": [
    "### 1.5 (2 points) Data Splitting\n",
    "Split the clean dataset into training and testing sets"
   ]
  },
  {
   "cell_type": "code",
   "execution_count": 13,
   "metadata": {},
   "outputs": [],
   "source": [
    "# Split into 80% training and 20% testing sets using train_test_split and random_state=42, taking into account the balanced distribution of the 'sentiment' classes\n",
    "train_df, test_df = train_test_split(df, test_size=0.20, random_state=42, stratify=df['sentiment'])"
   ]
  },
  {
   "cell_type": "markdown",
   "metadata": {},
   "source": [
    "### 1.6 (5 points) Clean the text data\n",
    "Provide code examples for cleaning text data, including removing punctuation, digits, and stop words, tokenizing, and converting to lowercase.\n",
    "[Hint: Utilize libraries or functions like NLTK or regular expressions for this purpose.]."
   ]
  },
  {
   "cell_type": "code",
   "execution_count": 14,
   "metadata": {},
   "outputs": [],
   "source": [
    "def clean_text(text):\n",
    "    # Convert text to lowercase\n",
    "    text = text.lower()\n",
    "    \n",
    "    # Remove punctuation\n",
    "    text = text.translate(str.maketrans('', '', string.punctuation))\n",
    "    \n",
    "    # Remove digits\n",
    "    text = re.sub(r'\\d+', '', text)\n",
    "    \n",
    "    # Tokenize text\n",
    "    tokens = word_tokenize(text)\n",
    "    \n",
    "    # Remove stopwords\n",
    "    tokens = [word for word in tokens if word not in stop_words]\n",
    "    \n",
    "    # Join the tokens back into a string\n",
    "    clean_text = ' '.join(tokens)\n",
    "    \n",
    "    return clean_text\n",
    "\n",
    "train_df['cleaned_review'] = train_df['review'].apply(clean_text)\n",
    "test_df['cleaned_review'] = test_df['review'].apply(clean_text)"
   ]
  },
  {
   "cell_type": "markdown",
   "metadata": {},
   "source": [
    "## Task 2 (46 points) Sentiment Analysis: Bag of Words and simple Features\n",
    "**For Each Model**\n",
    "- Train a model on the cleaned text data in the training set.\n",
    "- Use the trained logistic regression model to predict the sentiment labels in the testing set(positive or negative).\n",
    "- Compute the accuracy, precision, recall, F1 score, and provide a comprehensive classification report for the sentiment analysis model you've developed.\n",
    "- Visualize the confusion matrix of the sentiment analysis model."
   ]
  },
  {
   "cell_type": "markdown",
   "metadata": {},
   "source": [
    "### 2.1 (12 points) Simple Text-Based Model Using a Bag-of-Words Approach and a LogisticRegression\n",
    "- (4 points) Train a model.\n",
    "- (2 points) Predict the sentiment labels\n",
    "- (4 points) Compute the accuracy, precision, recall, F1 score, and provide a comprehensive classification report.\n",
    "- (2 points) Visualize the confusion matrix."
   ]
  },
  {
   "cell_type": "code",
   "execution_count": 15,
   "metadata": {},
   "outputs": [
    {
     "data": {
      "text/html": [
       "<style>#sk-container-id-1 {color: black;background-color: white;}#sk-container-id-1 pre{padding: 0;}#sk-container-id-1 div.sk-toggleable {background-color: white;}#sk-container-id-1 label.sk-toggleable__label {cursor: pointer;display: block;width: 100%;margin-bottom: 0;padding: 0.3em;box-sizing: border-box;text-align: center;}#sk-container-id-1 label.sk-toggleable__label-arrow:before {content: \"▸\";float: left;margin-right: 0.25em;color: #696969;}#sk-container-id-1 label.sk-toggleable__label-arrow:hover:before {color: black;}#sk-container-id-1 div.sk-estimator:hover label.sk-toggleable__label-arrow:before {color: black;}#sk-container-id-1 div.sk-toggleable__content {max-height: 0;max-width: 0;overflow: hidden;text-align: left;background-color: #f0f8ff;}#sk-container-id-1 div.sk-toggleable__content pre {margin: 0.2em;color: black;border-radius: 0.25em;background-color: #f0f8ff;}#sk-container-id-1 input.sk-toggleable__control:checked~div.sk-toggleable__content {max-height: 200px;max-width: 100%;overflow: auto;}#sk-container-id-1 input.sk-toggleable__control:checked~label.sk-toggleable__label-arrow:before {content: \"▾\";}#sk-container-id-1 div.sk-estimator input.sk-toggleable__control:checked~label.sk-toggleable__label {background-color: #d4ebff;}#sk-container-id-1 div.sk-label input.sk-toggleable__control:checked~label.sk-toggleable__label {background-color: #d4ebff;}#sk-container-id-1 input.sk-hidden--visually {border: 0;clip: rect(1px 1px 1px 1px);clip: rect(1px, 1px, 1px, 1px);height: 1px;margin: -1px;overflow: hidden;padding: 0;position: absolute;width: 1px;}#sk-container-id-1 div.sk-estimator {font-family: monospace;background-color: #f0f8ff;border: 1px dotted black;border-radius: 0.25em;box-sizing: border-box;margin-bottom: 0.5em;}#sk-container-id-1 div.sk-estimator:hover {background-color: #d4ebff;}#sk-container-id-1 div.sk-parallel-item::after {content: \"\";width: 100%;border-bottom: 1px solid gray;flex-grow: 1;}#sk-container-id-1 div.sk-label:hover label.sk-toggleable__label {background-color: #d4ebff;}#sk-container-id-1 div.sk-serial::before {content: \"\";position: absolute;border-left: 1px solid gray;box-sizing: border-box;top: 0;bottom: 0;left: 50%;z-index: 0;}#sk-container-id-1 div.sk-serial {display: flex;flex-direction: column;align-items: center;background-color: white;padding-right: 0.2em;padding-left: 0.2em;position: relative;}#sk-container-id-1 div.sk-item {position: relative;z-index: 1;}#sk-container-id-1 div.sk-parallel {display: flex;align-items: stretch;justify-content: center;background-color: white;position: relative;}#sk-container-id-1 div.sk-item::before, #sk-container-id-1 div.sk-parallel-item::before {content: \"\";position: absolute;border-left: 1px solid gray;box-sizing: border-box;top: 0;bottom: 0;left: 50%;z-index: -1;}#sk-container-id-1 div.sk-parallel-item {display: flex;flex-direction: column;z-index: 1;position: relative;background-color: white;}#sk-container-id-1 div.sk-parallel-item:first-child::after {align-self: flex-end;width: 50%;}#sk-container-id-1 div.sk-parallel-item:last-child::after {align-self: flex-start;width: 50%;}#sk-container-id-1 div.sk-parallel-item:only-child::after {width: 0;}#sk-container-id-1 div.sk-dashed-wrapped {border: 1px dashed gray;margin: 0 0.4em 0.5em 0.4em;box-sizing: border-box;padding-bottom: 0.4em;background-color: white;}#sk-container-id-1 div.sk-label label {font-family: monospace;font-weight: bold;display: inline-block;line-height: 1.2em;}#sk-container-id-1 div.sk-label-container {text-align: center;}#sk-container-id-1 div.sk-container {/* jupyter's `normalize.less` sets `[hidden] { display: none; }` but bootstrap.min.css set `[hidden] { display: none !important; }` so we also need the `!important` here to be able to override the default hidden behavior on the sphinx rendered scikit-learn.org. See: https://github.com/scikit-learn/scikit-learn/issues/21755 */display: inline-block !important;position: relative;}#sk-container-id-1 div.sk-text-repr-fallback {display: none;}</style><div id=\"sk-container-id-1\" class=\"sk-top-container\"><div class=\"sk-text-repr-fallback\"><pre>LogisticRegression(max_iter=1000)</pre><b>In a Jupyter environment, please rerun this cell to show the HTML representation or trust the notebook. <br />On GitHub, the HTML representation is unable to render, please try loading this page with nbviewer.org.</b></div><div class=\"sk-container\" hidden><div class=\"sk-item\"><div class=\"sk-estimator sk-toggleable\"><input class=\"sk-toggleable__control sk-hidden--visually\" id=\"sk-estimator-id-1\" type=\"checkbox\" checked><label for=\"sk-estimator-id-1\" class=\"sk-toggleable__label sk-toggleable__label-arrow\">LogisticRegression</label><div class=\"sk-toggleable__content\"><pre>LogisticRegression(max_iter=1000)</pre></div></div></div></div></div>"
      ],
      "text/plain": [
       "LogisticRegression(max_iter=1000)"
      ]
     },
     "execution_count": 15,
     "metadata": {},
     "output_type": "execute_result"
    }
   ],
   "source": [
    "# Create a Bag-of-Words model\n",
    "vectorizer = CountVectorizer()\n",
    "X_train_bow = vectorizer.fit_transform(train_df['cleaned_review'])\n",
    "\n",
    "# Train a logistic regression model\n",
    "model = LogisticRegression(max_iter=1000)\n",
    "model.fit(X_train_bow, train_df['sentiment'])"
   ]
  },
  {
   "cell_type": "code",
   "execution_count": 16,
   "metadata": {},
   "outputs": [],
   "source": [
    "# Transform the test data to the same format as the training data\n",
    "X_test_bow = vectorizer.transform(test_df['cleaned_review'])\n",
    "\n",
    "# Predict sentiment labels on the test set\n",
    "y_pred = model.predict(X_test_bow)"
   ]
  },
  {
   "cell_type": "code",
   "execution_count": 17,
   "metadata": {},
   "outputs": [
    {
     "name": "stdout",
     "output_type": "stream",
     "text": [
      "Accuracy: 0.8873168266801414\n",
      "Precision: 0.8837950966713175\n",
      "Recall: 0.8928715263793798\n",
      "F1 Score: 0.8883101272162677\n"
     ]
    }
   ],
   "source": [
    "# Calculate accuracy, precision, recall, and F1 score\n",
    "accuracy = accuracy_score(test_df['sentiment'], y_pred)\n",
    "precision = precision_score(test_df['sentiment'], y_pred, pos_label='positive')\n",
    "recall = recall_score(test_df['sentiment'], y_pred, pos_label='positive')\n",
    "f1 = f1_score(test_df['sentiment'], y_pred, pos_label='positive')\n",
    "\n",
    "# Print the scores\n",
    "print(f'Accuracy: {accuracy}')\n",
    "print(f'Precision: {precision}')\n",
    "print(f'Recall: {recall}')\n",
    "print(f'F1 Score: {f1}')"
   ]
  },
  {
   "cell_type": "code",
   "execution_count": 18,
   "metadata": {},
   "outputs": [
    {
     "name": "stdout",
     "output_type": "stream",
     "text": [
      "              precision    recall  f1-score   support\n",
      "\n",
      "    negative       0.89      0.88      0.89      4929\n",
      "    positive       0.88      0.89      0.89      4966\n",
      "\n",
      "    accuracy                           0.89      9895\n",
      "   macro avg       0.89      0.89      0.89      9895\n",
      "weighted avg       0.89      0.89      0.89      9895\n",
      "\n"
     ]
    }
   ],
   "source": [
    "# Comprehensive classification report\n",
    "print(classification_report(test_df['sentiment'], y_pred))"
   ]
  },
  {
   "cell_type": "code",
   "execution_count": 19,
   "metadata": {},
   "outputs": [
    {
     "data": {
      "image/png": "[encoded data removed]",
      "text/plain": [
       "<Figure size 640x480 with 2 Axes>"
      ]
     },
     "metadata": {},
     "output_type": "display_data"
    }
   ],
   "source": [
    "# Generate a confusion matrix\n",
    "cm = confusion_matrix(test_df['sentiment'], y_pred)\n",
    "\n",
    "# Plot the confusion matrix\n",
    "sns.heatmap(cm, annot=True, fmt='d', cmap='Blues')\n",
    "plt.xlabel('Predicted')\n",
    "plt.ylabel('True')\n",
    "plt.title('Confusion Matrix')\n",
    "plt.show()"
   ]
  },
  {
   "cell_type": "markdown",
   "metadata": {},
   "source": [
    "### 2.2 (30 points) Exploring Advanced Techniques for Tuning the Bag-of-Words Model\n",
    "Try using n-grams, characters, tf-idf rescaling and possibly other ways to tune the BoW model. Be aware that you might need to adjust the (regularization of the) linear model for different feature sets"
   ]
  },
  {
   "cell_type": "code",
   "execution_count": 20,
   "metadata": {},
   "outputs": [
    {
     "data": {
      "text/html": [
       "<style>#sk-container-id-2 {color: black;background-color: white;}#sk-container-id-2 pre{padding: 0;}#sk-container-id-2 div.sk-toggleable {background-color: white;}#sk-container-id-2 label.sk-toggleable__label {cursor: pointer;display: block;width: 100%;margin-bottom: 0;padding: 0.3em;box-sizing: border-box;text-align: center;}#sk-container-id-2 label.sk-toggleable__label-arrow:before {content: \"▸\";float: left;margin-right: 0.25em;color: #696969;}#sk-container-id-2 label.sk-toggleable__label-arrow:hover:before {color: black;}#sk-container-id-2 div.sk-estimator:hover label.sk-toggleable__label-arrow:before {color: black;}#sk-container-id-2 div.sk-toggleable__content {max-height: 0;max-width: 0;overflow: hidden;text-align: left;background-color: #f0f8ff;}#sk-container-id-2 div.sk-toggleable__content pre {margin: 0.2em;color: black;border-radius: 0.25em;background-color: #f0f8ff;}#sk-container-id-2 input.sk-toggleable__control:checked~div.sk-toggleable__content {max-height: 200px;max-width: 100%;overflow: auto;}#sk-container-id-2 input.sk-toggleable__control:checked~label.sk-toggleable__label-arrow:before {content: \"▾\";}#sk-container-id-2 div.sk-estimator input.sk-toggleable__control:checked~label.sk-toggleable__label {background-color: #d4ebff;}#sk-container-id-2 div.sk-label input.sk-toggleable__control:checked~label.sk-toggleable__label {background-color: #d4ebff;}#sk-container-id-2 input.sk-hidden--visually {border: 0;clip: rect(1px 1px 1px 1px);clip: rect(1px, 1px, 1px, 1px);height: 1px;margin: -1px;overflow: hidden;padding: 0;position: absolute;width: 1px;}#sk-container-id-2 div.sk-estimator {font-family: monospace;background-color: #f0f8ff;border: 1px dotted black;border-radius: 0.25em;box-sizing: border-box;margin-bottom: 0.5em;}#sk-container-id-2 div.sk-estimator:hover {background-color: #d4ebff;}#sk-container-id-2 div.sk-parallel-item::after {content: \"\";width: 100%;border-bottom: 1px solid gray;flex-grow: 1;}#sk-container-id-2 div.sk-label:hover label.sk-toggleable__label {background-color: #d4ebff;}#sk-container-id-2 div.sk-serial::before {content: \"\";position: absolute;border-left: 1px solid gray;box-sizing: border-box;top: 0;bottom: 0;left: 50%;z-index: 0;}#sk-container-id-2 div.sk-serial {display: flex;flex-direction: column;align-items: center;background-color: white;padding-right: 0.2em;padding-left: 0.2em;position: relative;}#sk-container-id-2 div.sk-item {position: relative;z-index: 1;}#sk-container-id-2 div.sk-parallel {display: flex;align-items: stretch;justify-content: center;background-color: white;position: relative;}#sk-container-id-2 div.sk-item::before, #sk-container-id-2 div.sk-parallel-item::before {content: \"\";position: absolute;border-left: 1px solid gray;box-sizing: border-box;top: 0;bottom: 0;left: 50%;z-index: -1;}#sk-container-id-2 div.sk-parallel-item {display: flex;flex-direction: column;z-index: 1;position: relative;background-color: white;}#sk-container-id-2 div.sk-parallel-item:first-child::after {align-self: flex-end;width: 50%;}#sk-container-id-2 div.sk-parallel-item:last-child::after {align-self: flex-start;width: 50%;}#sk-container-id-2 div.sk-parallel-item:only-child::after {width: 0;}#sk-container-id-2 div.sk-dashed-wrapped {border: 1px dashed gray;margin: 0 0.4em 0.5em 0.4em;box-sizing: border-box;padding-bottom: 0.4em;background-color: white;}#sk-container-id-2 div.sk-label label {font-family: monospace;font-weight: bold;display: inline-block;line-height: 1.2em;}#sk-container-id-2 div.sk-label-container {text-align: center;}#sk-container-id-2 div.sk-container {/* jupyter's `normalize.less` sets `[hidden] { display: none; }` but bootstrap.min.css set `[hidden] { display: none !important; }` so we also need the `!important` here to be able to override the default hidden behavior on the sphinx rendered scikit-learn.org. See: https://github.com/scikit-learn/scikit-learn/issues/21755 */display: inline-block !important;position: relative;}#sk-container-id-2 div.sk-text-repr-fallback {display: none;}</style><div id=\"sk-container-id-2\" class=\"sk-top-container\"><div class=\"sk-text-repr-fallback\"><pre>LogisticRegression(max_iter=1000)</pre><b>In a Jupyter environment, please rerun this cell to show the HTML representation or trust the notebook. <br />On GitHub, the HTML representation is unable to render, please try loading this page with nbviewer.org.</b></div><div class=\"sk-container\" hidden><div class=\"sk-item\"><div class=\"sk-estimator sk-toggleable\"><input class=\"sk-toggleable__control sk-hidden--visually\" id=\"sk-estimator-id-2\" type=\"checkbox\" checked><label for=\"sk-estimator-id-2\" class=\"sk-toggleable__label sk-toggleable__label-arrow\">LogisticRegression</label><div class=\"sk-toggleable__content\"><pre>LogisticRegression(max_iter=1000)</pre></div></div></div></div></div>"
      ],
      "text/plain": [
       "LogisticRegression(max_iter=1000)"
      ]
     },
     "execution_count": 20,
     "metadata": {},
     "output_type": "execute_result"
    }
   ],
   "source": [
    "# Create a Bag-of-Words model with n-grams\n",
    "vectorizer_ngram = CountVectorizer(ngram_range=(1, 2))\n",
    "X_train_ngram = vectorizer_ngram.fit_transform(train_df['cleaned_review'])\n",
    "\n",
    "# Train a logistic regression model on the n-gram data\n",
    "model_ngram = LogisticRegression(max_iter=1000)\n",
    "model_ngram.fit(X_train_ngram, train_df['sentiment'])"
   ]
  },
  {
   "cell_type": "code",
   "execution_count": 21,
   "metadata": {},
   "outputs": [
    {
     "data": {
      "text/html": [
       "<style>#sk-container-id-3 {color: black;background-color: white;}#sk-container-id-3 pre{padding: 0;}#sk-container-id-3 div.sk-toggleable {background-color: white;}#sk-container-id-3 label.sk-toggleable__label {cursor: pointer;display: block;width: 100%;margin-bottom: 0;padding: 0.3em;box-sizing: border-box;text-align: center;}#sk-container-id-3 label.sk-toggleable__label-arrow:before {content: \"▸\";float: left;margin-right: 0.25em;color: #696969;}#sk-container-id-3 label.sk-toggleable__label-arrow:hover:before {color: black;}#sk-container-id-3 div.sk-estimator:hover label.sk-toggleable__label-arrow:before {color: black;}#sk-container-id-3 div.sk-toggleable__content {max-height: 0;max-width: 0;overflow: hidden;text-align: left;background-color: #f0f8ff;}#sk-container-id-3 div.sk-toggleable__content pre {margin: 0.2em;color: black;border-radius: 0.25em;background-color: #f0f8ff;}#sk-container-id-3 input.sk-toggleable__control:checked~div.sk-toggleable__content {max-height: 200px;max-width: 100%;overflow: auto;}#sk-container-id-3 input.sk-toggleable__control:checked~label.sk-toggleable__label-arrow:before {content: \"▾\";}#sk-container-id-3 div.sk-estimator input.sk-toggleable__control:checked~label.sk-toggleable__label {background-color: #d4ebff;}#sk-container-id-3 div.sk-label input.sk-toggleable__control:checked~label.sk-toggleable__label {background-color: #d4ebff;}#sk-container-id-3 input.sk-hidden--visually {border: 0;clip: rect(1px 1px 1px 1px);clip: rect(1px, 1px, 1px, 1px);height: 1px;margin: -1px;overflow: hidden;padding: 0;position: absolute;width: 1px;}#sk-container-id-3 div.sk-estimator {font-family: monospace;background-color: #f0f8ff;border: 1px dotted black;border-radius: 0.25em;box-sizing: border-box;margin-bottom: 0.5em;}#sk-container-id-3 div.sk-estimator:hover {background-color: #d4ebff;}#sk-container-id-3 div.sk-parallel-item::after {content: \"\";width: 100%;border-bottom: 1px solid gray;flex-grow: 1;}#sk-container-id-3 div.sk-label:hover label.sk-toggleable__label {background-color: #d4ebff;}#sk-container-id-3 div.sk-serial::before {content: \"\";position: absolute;border-left: 1px solid gray;box-sizing: border-box;top: 0;bottom: 0;left: 50%;z-index: 0;}#sk-container-id-3 div.sk-serial {display: flex;flex-direction: column;align-items: center;background-color: white;padding-right: 0.2em;padding-left: 0.2em;position: relative;}#sk-container-id-3 div.sk-item {position: relative;z-index: 1;}#sk-container-id-3 div.sk-parallel {display: flex;align-items: stretch;justify-content: center;background-color: white;position: relative;}#sk-container-id-3 div.sk-item::before, #sk-container-id-3 div.sk-parallel-item::before {content: \"\";position: absolute;border-left: 1px solid gray;box-sizing: border-box;top: 0;bottom: 0;left: 50%;z-index: -1;}#sk-container-id-3 div.sk-parallel-item {display: flex;flex-direction: column;z-index: 1;position: relative;background-color: white;}#sk-container-id-3 div.sk-parallel-item:first-child::after {align-self: flex-end;width: 50%;}#sk-container-id-3 div.sk-parallel-item:last-child::after {align-self: flex-start;width: 50%;}#sk-container-id-3 div.sk-parallel-item:only-child::after {width: 0;}#sk-container-id-3 div.sk-dashed-wrapped {border: 1px dashed gray;margin: 0 0.4em 0.5em 0.4em;box-sizing: border-box;padding-bottom: 0.4em;background-color: white;}#sk-container-id-3 div.sk-label label {font-family: monospace;font-weight: bold;display: inline-block;line-height: 1.2em;}#sk-container-id-3 div.sk-label-container {text-align: center;}#sk-container-id-3 div.sk-container {/* jupyter's `normalize.less` sets `[hidden] { display: none; }` but bootstrap.min.css set `[hidden] { display: none !important; }` so we also need the `!important` here to be able to override the default hidden behavior on the sphinx rendered scikit-learn.org. See: https://github.com/scikit-learn/scikit-learn/issues/21755 */display: inline-block !important;position: relative;}#sk-container-id-3 div.sk-text-repr-fallback {display: none;}</style><div id=\"sk-container-id-3\" class=\"sk-top-container\"><div class=\"sk-text-repr-fallback\"><pre>LogisticRegression(C=0.1, max_iter=1000)</pre><b>In a Jupyter environment, please rerun this cell to show the HTML representation or trust the notebook. <br />On GitHub, the HTML representation is unable to render, please try loading this page with nbviewer.org.</b></div><div class=\"sk-container\" hidden><div class=\"sk-item\"><div class=\"sk-estimator sk-toggleable\"><input class=\"sk-toggleable__control sk-hidden--visually\" id=\"sk-estimator-id-3\" type=\"checkbox\" checked><label for=\"sk-estimator-id-3\" class=\"sk-toggleable__label sk-toggleable__label-arrow\">LogisticRegression</label><div class=\"sk-toggleable__content\"><pre>LogisticRegression(C=0.1, max_iter=1000)</pre></div></div></div></div></div>"
      ],
      "text/plain": [
       "LogisticRegression(C=0.1, max_iter=1000)"
      ]
     },
     "execution_count": 21,
     "metadata": {},
     "output_type": "execute_result"
    }
   ],
   "source": [
    "# Create a character-level Bag-of-Words model\n",
    "vectorizer_char = CountVectorizer(analyzer='char')\n",
    "X_train_char = vectorizer_char.fit_transform(train_df['cleaned_review'])\n",
    "\n",
    "# Train a logistic regression model on the character-level data\n",
    "model_char = LogisticRegression(max_iter=1000, C=0.1)\n",
    "model_char.fit(X_train_char, train_df['sentiment'])"
   ]
  },
  {
   "cell_type": "code",
   "execution_count": 22,
   "metadata": {},
   "outputs": [
    {
     "data": {
      "text/html": [
       "<style>#sk-container-id-4 {color: black;background-color: white;}#sk-container-id-4 pre{padding: 0;}#sk-container-id-4 div.sk-toggleable {background-color: white;}#sk-container-id-4 label.sk-toggleable__label {cursor: pointer;display: block;width: 100%;margin-bottom: 0;padding: 0.3em;box-sizing: border-box;text-align: center;}#sk-container-id-4 label.sk-toggleable__label-arrow:before {content: \"▸\";float: left;margin-right: 0.25em;color: #696969;}#sk-container-id-4 label.sk-toggleable__label-arrow:hover:before {color: black;}#sk-container-id-4 div.sk-estimator:hover label.sk-toggleable__label-arrow:before {color: black;}#sk-container-id-4 div.sk-toggleable__content {max-height: 0;max-width: 0;overflow: hidden;text-align: left;background-color: #f0f8ff;}#sk-container-id-4 div.sk-toggleable__content pre {margin: 0.2em;color: black;border-radius: 0.25em;background-color: #f0f8ff;}#sk-container-id-4 input.sk-toggleable__control:checked~div.sk-toggleable__content {max-height: 200px;max-width: 100%;overflow: auto;}#sk-container-id-4 input.sk-toggleable__control:checked~label.sk-toggleable__label-arrow:before {content: \"▾\";}#sk-container-id-4 div.sk-estimator input.sk-toggleable__control:checked~label.sk-toggleable__label {background-color: #d4ebff;}#sk-container-id-4 div.sk-label input.sk-toggleable__control:checked~label.sk-toggleable__label {background-color: #d4ebff;}#sk-container-id-4 input.sk-hidden--visually {border: 0;clip: rect(1px 1px 1px 1px);clip: rect(1px, 1px, 1px, 1px);height: 1px;margin: -1px;overflow: hidden;padding: 0;position: absolute;width: 1px;}#sk-container-id-4 div.sk-estimator {font-family: monospace;background-color: #f0f8ff;border: 1px dotted black;border-radius: 0.25em;box-sizing: border-box;margin-bottom: 0.5em;}#sk-container-id-4 div.sk-estimator:hover {background-color: #d4ebff;}#sk-container-id-4 div.sk-parallel-item::after {content: \"\";width: 100%;border-bottom: 1px solid gray;flex-grow: 1;}#sk-container-id-4 div.sk-label:hover label.sk-toggleable__label {background-color: #d4ebff;}#sk-container-id-4 div.sk-serial::before {content: \"\";position: absolute;border-left: 1px solid gray;box-sizing: border-box;top: 0;bottom: 0;left: 50%;z-index: 0;}#sk-container-id-4 div.sk-serial {display: flex;flex-direction: column;align-items: center;background-color: white;padding-right: 0.2em;padding-left: 0.2em;position: relative;}#sk-container-id-4 div.sk-item {position: relative;z-index: 1;}#sk-container-id-4 div.sk-parallel {display: flex;align-items: stretch;justify-content: center;background-color: white;position: relative;}#sk-container-id-4 div.sk-item::before, #sk-container-id-4 div.sk-parallel-item::before {content: \"\";position: absolute;border-left: 1px solid gray;box-sizing: border-box;top: 0;bottom: 0;left: 50%;z-index: -1;}#sk-container-id-4 div.sk-parallel-item {display: flex;flex-direction: column;z-index: 1;position: relative;background-color: white;}#sk-container-id-4 div.sk-parallel-item:first-child::after {align-self: flex-end;width: 50%;}#sk-container-id-4 div.sk-parallel-item:last-child::after {align-self: flex-start;width: 50%;}#sk-container-id-4 div.sk-parallel-item:only-child::after {width: 0;}#sk-container-id-4 div.sk-dashed-wrapped {border: 1px dashed gray;margin: 0 0.4em 0.5em 0.4em;box-sizing: border-box;padding-bottom: 0.4em;background-color: white;}#sk-container-id-4 div.sk-label label {font-family: monospace;font-weight: bold;display: inline-block;line-height: 1.2em;}#sk-container-id-4 div.sk-label-container {text-align: center;}#sk-container-id-4 div.sk-container {/* jupyter's `normalize.less` sets `[hidden] { display: none; }` but bootstrap.min.css set `[hidden] { display: none !important; }` so we also need the `!important` here to be able to override the default hidden behavior on the sphinx rendered scikit-learn.org. See: https://github.com/scikit-learn/scikit-learn/issues/21755 */display: inline-block !important;position: relative;}#sk-container-id-4 div.sk-text-repr-fallback {display: none;}</style><div id=\"sk-container-id-4\" class=\"sk-top-container\"><div class=\"sk-text-repr-fallback\"><pre>LogisticRegression(max_iter=1000)</pre><b>In a Jupyter environment, please rerun this cell to show the HTML representation or trust the notebook. <br />On GitHub, the HTML representation is unable to render, please try loading this page with nbviewer.org.</b></div><div class=\"sk-container\" hidden><div class=\"sk-item\"><div class=\"sk-estimator sk-toggleable\"><input class=\"sk-toggleable__control sk-hidden--visually\" id=\"sk-estimator-id-4\" type=\"checkbox\" checked><label for=\"sk-estimator-id-4\" class=\"sk-toggleable__label sk-toggleable__label-arrow\">LogisticRegression</label><div class=\"sk-toggleable__content\"><pre>LogisticRegression(max_iter=1000)</pre></div></div></div></div></div>"
      ],
      "text/plain": [
       "LogisticRegression(max_iter=1000)"
      ]
     },
     "execution_count": 22,
     "metadata": {},
     "output_type": "execute_result"
    }
   ],
   "source": [
    "# Create a TF-IDF model\n",
    "vectorizer_tfidf = TfidfVectorizer()\n",
    "X_train_tfidf = vectorizer_tfidf.fit_transform(train_df['cleaned_review'])\n",
    "\n",
    "# Train a logistic regression model on the TF-IDF data\n",
    "model_tfidf = LogisticRegression(max_iter=1000)\n",
    "model_tfidf.fit(X_train_tfidf, train_df['sentiment'])"
   ]
  },
  {
   "cell_type": "markdown",
   "metadata": {},
   "source": [
    "### 2.3 (4 points) Comparison"
   ]
  },
  {
   "cell_type": "markdown",
   "metadata": {},
   "source": [
    "Compare and analyze the performance results between the models in Section 2.1 and Section 2.2. Present your findings in a well-organized table and provide insightful comments on the observed differences or improvements"
   ]
  },
  {
   "cell_type": "code",
   "execution_count": 23,
   "metadata": {},
   "outputs": [],
   "source": [
    "# Transform test data and predict using the n-gram model\n",
    "X_test_ngram = vectorizer_ngram.transform(test_df['cleaned_review'])\n",
    "y_pred_ngram = model_ngram.predict(X_test_ngram)\n",
    "\n",
    "# Compute metrics for the n-gram model\n",
    "accuracy_ngram = accuracy_score(test_df['sentiment'], y_pred_ngram)\n",
    "precision_ngram = precision_score(test_df['sentiment'], y_pred_ngram, pos_label='positive')\n",
    "recall_ngram = recall_score(test_df['sentiment'], y_pred_ngram, pos_label='positive')\n",
    "f1_ngram = f1_score(test_df['sentiment'], y_pred_ngram, pos_label='positive')"
   ]
  },
  {
   "cell_type": "code",
   "execution_count": 24,
   "metadata": {},
   "outputs": [],
   "source": [
    "# Transform test data and predict using the character-level model\n",
    "X_test_char = vectorizer_char.transform(test_df['cleaned_review'])\n",
    "y_pred_char = model_char.predict(X_test_char)\n",
    "\n",
    "# Compute metrics for the character-level model\n",
    "accuracy_char = accuracy_score(test_df['sentiment'], y_pred_char)\n",
    "precision_char = precision_score(test_df['sentiment'], y_pred_char, pos_label='positive')\n",
    "recall_char = recall_score(test_df['sentiment'], y_pred_char, pos_label='positive')\n",
    "f1_char = f1_score(test_df['sentiment'], y_pred_char, pos_label='positive')"
   ]
  },
  {
   "cell_type": "code",
   "execution_count": 25,
   "metadata": {},
   "outputs": [],
   "source": [
    "# Transform test data and predict using the TF-IDF model\n",
    "X_test_tfidf = vectorizer_tfidf.transform(test_df['cleaned_review'])\n",
    "y_pred_tfidf = model_tfidf.predict(X_test_tfidf)\n",
    "\n",
    "# Compute metrics for the TF-IDF model\n",
    "accuracy_tfidf = accuracy_score(test_df['sentiment'], y_pred_tfidf)\n",
    "precision_tfidf = precision_score(test_df['sentiment'], y_pred_tfidf, pos_label='positive')\n",
    "recall_tfidf = recall_score(test_df['sentiment'], y_pred_tfidf, pos_label='positive')\n",
    "f1_tfidf = f1_score(test_df['sentiment'], y_pred_tfidf, pos_label='positive')"
   ]
  },
  {
   "cell_type": "code",
   "execution_count": 26,
   "metadata": {},
   "outputs": [
    {
     "name": "stdout",
     "output_type": "stream",
     "text": [
      "             Model  Accuracy  Precision    Recall  F1 Score\n",
      "0              BoW  0.887317   0.883795  0.892872  0.888310\n",
      "1           N-gram  0.904093   0.901299  0.908377  0.904824\n",
      "2  Character-Level  0.623345   0.624824  0.624446  0.624635\n",
      "3           TF-IDF  0.896918   0.890538  0.905961  0.898183\n"
     ]
    }
   ],
   "source": [
    "# Create a DataFrame for the comparison\n",
    "comparison_df = pd.DataFrame({\n",
    "    'Model': ['BoW', 'N-gram', 'Character-Level', 'TF-IDF'],\n",
    "    'Accuracy': [accuracy, accuracy_ngram, accuracy_char, accuracy_tfidf],\n",
    "    'Precision': [precision, precision_ngram, precision_char, precision_tfidf],\n",
    "    'Recall': [recall, recall_ngram, recall_char, recall_tfidf],\n",
    "    'F1 Score': [f1, f1_ngram, f1_char, f1_tfidf]\n",
    "})\n",
    "\n",
    "# Display the DataFrame\n",
    "print(comparison_df)"
   ]
  },
  {
   "cell_type": "markdown",
   "metadata": {},
   "source": [
    "The results from the comparison of different text representation techniques in sentiment analysis using logistic regression reveal some interesting insights. The Bag-of-Words (BoW) model, often considered a baseline in text classification tasks, shows commendable performance with an accuracy of 0.8873 and an F1 score of 0.8883. This demonstrates the effectiveness of the BoW approach in capturing sufficient information for sentiment analysis despite its simplicity.\n",
    "\n",
    "The N-gram model, which extends the BoW approach by considering combinations of adjacent words, shows a notable improvement in performance. With an accuracy of 0.9041 and an F1 score of 0.9048, it outperforms the basic BoW model. This suggests that the inclusion of bigrams (2-word combinations) provides additional contextual information that helps the model better understand the sentiment expressed in the reviews.\n",
    "\n",
    "The Character-Level model, which focuses on character sequences rather than words, significantly underperforms compared to the word-based models, with an accuracy of only 0.6233 and an F1 score of 0.6246. The need to apply stronger regularization (C=0.1) to achieve model convergence might have contributed to this underperformance. Character-level models can capture morphological patterns but may miss the broader context captured by word-level models, which is crucial in sentiment analysis.\n",
    "\n",
    "Lastly, the TF-IDF model, which rescales the BoW representation based on the words' frequency across documents, also shows strong performance. With an accuracy of 0.8969 and an F1 score of 0.8982, it closely follows the N-gram model. This indicates that the TF-IDF weighting scheme effectively highlights the most relevant words for sentiment analysis, providing a balance between word frequency and informativeness.\n",
    "\n",
    "In summary, these results underscore the importance of choosing the right text representation technique for sentiment analysis tasks. While N-gram and TF-IDF models offer improvements over the simple BoW model, demonstrating their ability to capture more nuanced linguistic patterns, the character-level approach seems less effective for this particular task. The choice of model and representation technique should thus be aligned with the specific characteristics of the dataset and the nature of the task at hand."
   ]
  },
  {
   "cell_type": "markdown",
   "metadata": {},
   "source": [
    "## Task 3 (38 points) Word Vectors\n",
    "\n",
    "### 3.1 (3 points) \n",
    "Compute and plot the distribution of the length of the reviews (in terms of the number of words)."
   ]
  },
  {
   "cell_type": "code",
   "execution_count": 27,
   "metadata": {},
   "outputs": [
    {
     "data": {
      "image/png": "[encoded data removed]",
      "text/plain": [
       "<Figure size 1000x600 with 1 Axes>"
      ]
     },
     "metadata": {},
     "output_type": "display_data"
    }
   ],
   "source": [
    "# Calculate the length of each review\n",
    "train_df['review_length'] = train_df['review'].apply(lambda x: len(x.split()))\n",
    "\n",
    "# Plotting the distribution of review lengths\n",
    "plt.figure(figsize=(10, 6))\n",
    "plt.hist(train_df['review_length'], bins=50, color='blue', edgecolor='black')\n",
    "plt.title('Distribution of Review Lengths')\n",
    "plt.xlabel('Length of Reviews (Number of Words)')\n",
    "plt.ylabel('Frequency')\n",
    "plt.show()"
   ]
  },
  {
   "cell_type": "markdown",
   "metadata": {},
   "source": [
    "### 3.2 (5 points) \n",
    "Compute the frequency of the top-k most common words in the training set."
   ]
  },
  {
   "cell_type": "code",
   "execution_count": 28,
   "metadata": {},
   "outputs": [],
   "source": [
    "# Create an instance of CountVectorizer\n",
    "vectorizer = CountVectorizer()\n",
    "\n",
    "# Fit and transform the training data\n",
    "# Assuming 'cleaned_review' is the column after preprocessing\n",
    "X_train_counts = vectorizer.fit_transform(train_df['cleaned_review'])\n",
    "\n",
    "# Sum word occurrences\n",
    "word_freq = X_train_counts.sum(axis=0)\n",
    "\n",
    "# Create a DataFrame for word frequencies\n",
    "words = vectorizer.get_feature_names_out()\n",
    "word_freq_df = pd.DataFrame(word_freq, columns=words, index=['frequency']).transpose()"
   ]
  },
  {
   "cell_type": "code",
   "execution_count": 29,
   "metadata": {},
   "outputs": [
    {
     "name": "stdout",
     "output_type": "stream",
     "text": [
      "        frequency\n",
      "br          91037\n",
      "movie       66079\n",
      "film        59169\n",
      "one         40573\n",
      "like        30865\n",
      "good        22689\n",
      "even        19539\n",
      "would       19060\n",
      "time        18492\n",
      "really      18125\n",
      "see         17679\n",
      "story       17658\n",
      "much        14938\n",
      "well        14915\n",
      "get         14423\n",
      "also        14142\n",
      "great       14088\n",
      "people      13959\n",
      "bad         13936\n",
      "first       13679\n"
     ]
    }
   ],
   "source": [
    "# Define k\n",
    "k = 20\n",
    "\n",
    "# Sort words by frequency\n",
    "top_k_words = word_freq_df.sort_values(by='frequency', ascending=False).head(k)\n",
    "\n",
    "# Display the top-k words\n",
    "print(top_k_words)"
   ]
  },
  {
   "cell_type": "markdown",
   "metadata": {
    "id": "2bBc8PqNwPnV"
   },
   "source": [
    "### 3.3 (5 points) Word2Vec Training\n",
    "\n",
    "Train a Word2Vec model on the cleaned text data in the training set. <br>\n",
    "Save the trained model to a file for later use. <br>"
   ]
  },
  {
   "cell_type": "code",
   "execution_count": 30,
   "metadata": {},
   "outputs": [],
   "source": [
    "# Splitting each review into a list of words\n",
    "sentences = [review.split() for review in train_df['cleaned_review']]\n",
    "\n",
    "# Train the Word2Vec model\n",
    "word2vec_model = Word2Vec(sentences, vector_size=100, window=5, min_count=1, workers=4)\n",
    "\n",
    "# Save the model\n",
    "word2vec_model.save(\"word2vec_model.model\")"
   ]
  },
  {
   "cell_type": "markdown",
   "metadata": {},
   "source": [
    "### 3.4 (6 points) Word Embedding Visualization\n",
    "\n",
    "Visualize the embeddings of the top-k most common words in the training set using t-SNE. <br>\n",
    "\n",
    "visualized the embeddings of specific words like \"good,\" \"bad,\" \"great,\" and \"terrible\" using t-SNE."
   ]
  },
  {
   "cell_type": "code",
   "execution_count": 31,
   "metadata": {},
   "outputs": [],
   "source": [
    "# Extract top k words from the word frequency DataFrame\n",
    "top_k_word_list = top_k_words.index.tolist()\n",
    "\n",
    "# Specific words to visualize\n",
    "specific_words = [\"good\", \"bad\", \"great\", \"terrible\"]\n",
    "\n",
    "# Combine with the top-k most common words\n",
    "words_to_visualize = specific_words + top_k_word_list\n",
    "\n",
    "# Filter out any words not present in the Word2Vec model's vocabulary\n",
    "filtered_words = [word for word in words_to_visualize if word in word2vec_model.wv.key_to_index]\n",
    "\n",
    "# Extract the word vectors\n",
    "word_vectors = [word2vec_model.wv[word] for word in filtered_words]"
   ]
  },
  {
   "cell_type": "code",
   "execution_count": 32,
   "metadata": {},
   "outputs": [
    {
     "data": {
      "image/png": "[encoded data removed]",
      "text/plain": [
       "<Figure size 1200x1200 with 1 Axes>"
      ]
     },
     "metadata": {},
     "output_type": "display_data"
    }
   ],
   "source": [
    "# Convert list of vectors to a 2D array\n",
    "word_vectors_array = np.array(word_vectors)\n",
    "\n",
    "# Adjusted perplexity value\n",
    "perplexity_value = 10\n",
    "\n",
    "# Apply t-SNE transformation with adjusted perplexity\n",
    "tsne = TSNE(n_components=2, random_state=0, perplexity=perplexity_value)\n",
    "word_vectors_2d = tsne.fit_transform(word_vectors_array)\n",
    "\n",
    "# Plotting the word embeddings\n",
    "plt.figure(figsize=(12, 12))\n",
    "for word, (x, y) in zip(filtered_words, word_vectors_2d):\n",
    "    plt.scatter(x, y)\n",
    "    plt.annotate(word, xy=(x, y), xytext=(5, 2), textcoords='offset points', ha='right', va='bottom')\n",
    "\n",
    "plt.title(\"Word Embeddings Visualized with t-SNE\")\n",
    "plt.show()"
   ]
  },
  {
   "cell_type": "markdown",
   "metadata": {},
   "source": [
    "### 3.5 (15 points) Sentiment Analysis and Evaluation"
   ]
  },
  {
   "cell_type": "markdown",
   "metadata": {},
   "source": [
    "- (3 points) Convert the cleaned text data in the test set to vectors using the trained Word2Vec model.\n",
    "- (3 points) Train a logistic regression model on the vector representations of the text data in the training set.\n",
    "- (3 points) Use the trained logistic regression model to predict the sentiment labels (positive or negative) of the text data in the test set.\n",
    "- (3 points) Calculate the accuracy, precision, recall, and F1 score of the sentiment analysis model.\n",
    "- (3 points) Visualize the confusion matrix of the sentiment analysis model."
   ]
  },
  {
   "cell_type": "code",
   "execution_count": 33,
   "metadata": {},
   "outputs": [],
   "source": [
    "def document_vector(doc):\n",
    "    \"\"\"Create document vectors by averaging word vectors.\"\"\"\n",
    "    doc = [word for word in doc if word in word2vec_model.wv.key_to_index]\n",
    "    return np.mean(word2vec_model.wv[doc], axis=0) if doc else np.zeros((word2vec_model.vector_size,))\n",
    "\n",
    "# Apply the function to each cleaned review in the test set\n",
    "X_test_vectors = np.array([document_vector(doc.split()) for doc in test_df['cleaned_review']])"
   ]
  },
  {
   "cell_type": "code",
   "execution_count": 34,
   "metadata": {},
   "outputs": [
    {
     "data": {
      "text/html": [
       "<style>#sk-container-id-5 {color: black;background-color: white;}#sk-container-id-5 pre{padding: 0;}#sk-container-id-5 div.sk-toggleable {background-color: white;}#sk-container-id-5 label.sk-toggleable__label {cursor: pointer;display: block;width: 100%;margin-bottom: 0;padding: 0.3em;box-sizing: border-box;text-align: center;}#sk-container-id-5 label.sk-toggleable__label-arrow:before {content: \"▸\";float: left;margin-right: 0.25em;color: #696969;}#sk-container-id-5 label.sk-toggleable__label-arrow:hover:before {color: black;}#sk-container-id-5 div.sk-estimator:hover label.sk-toggleable__label-arrow:before {color: black;}#sk-container-id-5 div.sk-toggleable__content {max-height: 0;max-width: 0;overflow: hidden;text-align: left;background-color: #f0f8ff;}#sk-container-id-5 div.sk-toggleable__content pre {margin: 0.2em;color: black;border-radius: 0.25em;background-color: #f0f8ff;}#sk-container-id-5 input.sk-toggleable__control:checked~div.sk-toggleable__content {max-height: 200px;max-width: 100%;overflow: auto;}#sk-container-id-5 input.sk-toggleable__control:checked~label.sk-toggleable__label-arrow:before {content: \"▾\";}#sk-container-id-5 div.sk-estimator input.sk-toggleable__control:checked~label.sk-toggleable__label {background-color: #d4ebff;}#sk-container-id-5 div.sk-label input.sk-toggleable__control:checked~label.sk-toggleable__label {background-color: #d4ebff;}#sk-container-id-5 input.sk-hidden--visually {border: 0;clip: rect(1px 1px 1px 1px);clip: rect(1px, 1px, 1px, 1px);height: 1px;margin: -1px;overflow: hidden;padding: 0;position: absolute;width: 1px;}#sk-container-id-5 div.sk-estimator {font-family: monospace;background-color: #f0f8ff;border: 1px dotted black;border-radius: 0.25em;box-sizing: border-box;margin-bottom: 0.5em;}#sk-container-id-5 div.sk-estimator:hover {background-color: #d4ebff;}#sk-container-id-5 div.sk-parallel-item::after {content: \"\";width: 100%;border-bottom: 1px solid gray;flex-grow: 1;}#sk-container-id-5 div.sk-label:hover label.sk-toggleable__label {background-color: #d4ebff;}#sk-container-id-5 div.sk-serial::before {content: \"\";position: absolute;border-left: 1px solid gray;box-sizing: border-box;top: 0;bottom: 0;left: 50%;z-index: 0;}#sk-container-id-5 div.sk-serial {display: flex;flex-direction: column;align-items: center;background-color: white;padding-right: 0.2em;padding-left: 0.2em;position: relative;}#sk-container-id-5 div.sk-item {position: relative;z-index: 1;}#sk-container-id-5 div.sk-parallel {display: flex;align-items: stretch;justify-content: center;background-color: white;position: relative;}#sk-container-id-5 div.sk-item::before, #sk-container-id-5 div.sk-parallel-item::before {content: \"\";position: absolute;border-left: 1px solid gray;box-sizing: border-box;top: 0;bottom: 0;left: 50%;z-index: -1;}#sk-container-id-5 div.sk-parallel-item {display: flex;flex-direction: column;z-index: 1;position: relative;background-color: white;}#sk-container-id-5 div.sk-parallel-item:first-child::after {align-self: flex-end;width: 50%;}#sk-container-id-5 div.sk-parallel-item:last-child::after {align-self: flex-start;width: 50%;}#sk-container-id-5 div.sk-parallel-item:only-child::after {width: 0;}#sk-container-id-5 div.sk-dashed-wrapped {border: 1px dashed gray;margin: 0 0.4em 0.5em 0.4em;box-sizing: border-box;padding-bottom: 0.4em;background-color: white;}#sk-container-id-5 div.sk-label label {font-family: monospace;font-weight: bold;display: inline-block;line-height: 1.2em;}#sk-container-id-5 div.sk-label-container {text-align: center;}#sk-container-id-5 div.sk-container {/* jupyter's `normalize.less` sets `[hidden] { display: none; }` but bootstrap.min.css set `[hidden] { display: none !important; }` so we also need the `!important` here to be able to override the default hidden behavior on the sphinx rendered scikit-learn.org. See: https://github.com/scikit-learn/scikit-learn/issues/21755 */display: inline-block !important;position: relative;}#sk-container-id-5 div.sk-text-repr-fallback {display: none;}</style><div id=\"sk-container-id-5\" class=\"sk-top-container\"><div class=\"sk-text-repr-fallback\"><pre>LogisticRegression(max_iter=1000)</pre><b>In a Jupyter environment, please rerun this cell to show the HTML representation or trust the notebook. <br />On GitHub, the HTML representation is unable to render, please try loading this page with nbviewer.org.</b></div><div class=\"sk-container\" hidden><div class=\"sk-item\"><div class=\"sk-estimator sk-toggleable\"><input class=\"sk-toggleable__control sk-hidden--visually\" id=\"sk-estimator-id-5\" type=\"checkbox\" checked><label for=\"sk-estimator-id-5\" class=\"sk-toggleable__label sk-toggleable__label-arrow\">LogisticRegression</label><div class=\"sk-toggleable__content\"><pre>LogisticRegression(max_iter=1000)</pre></div></div></div></div></div>"
      ],
      "text/plain": [
       "LogisticRegression(max_iter=1000)"
      ]
     },
     "execution_count": 34,
     "metadata": {},
     "output_type": "execute_result"
    }
   ],
   "source": [
    "# Prepare the training data vectors\n",
    "X_train_vectors = np.array([document_vector(doc.split()) for doc in train_df['cleaned_review']])\n",
    "\n",
    "# Train the logistic regression model\n",
    "logistic_model = LogisticRegression(max_iter=1000)\n",
    "logistic_model.fit(X_train_vectors, train_df['sentiment'])"
   ]
  },
  {
   "cell_type": "code",
   "execution_count": 35,
   "metadata": {},
   "outputs": [],
   "source": [
    "y_pred = logistic_model.predict(X_test_vectors)"
   ]
  },
  {
   "cell_type": "code",
   "execution_count": 36,
   "metadata": {},
   "outputs": [
    {
     "name": "stdout",
     "output_type": "stream",
     "text": [
      "Accuracy: 0.85922182920667\n",
      "Precision: 0.8543939694505058\n",
      "Recall: 0.8672976238421265\n",
      "F1 Score: 0.8607974417907465\n"
     ]
    }
   ],
   "source": [
    "accuracy = accuracy_score(test_df['sentiment'], y_pred)\n",
    "precision = precision_score(test_df['sentiment'], y_pred, pos_label='positive')\n",
    "recall = recall_score(test_df['sentiment'], y_pred, pos_label='positive')\n",
    "f1 = f1_score(test_df['sentiment'], y_pred, pos_label='positive')\n",
    "\n",
    "print(f'Accuracy: {accuracy}')\n",
    "print(f'Precision: {precision}')\n",
    "print(f'Recall: {recall}')\n",
    "print(f'F1 Score: {f1}')"
   ]
  },
  {
   "cell_type": "code",
   "execution_count": 37,
   "metadata": {},
   "outputs": [
    {
     "data": {
      "image/png": "[encoded data removed]",
      "text/plain": [
       "<Figure size 640x480 with 2 Axes>"
      ]
     },
     "metadata": {},
     "output_type": "display_data"
    }
   ],
   "source": [
    "# Generate the confusion matrix\n",
    "cm = confusion_matrix(test_df['sentiment'], y_pred)\n",
    "\n",
    "# Plot the confusion matrix\n",
    "sns.heatmap(cm, annot=True, fmt='d', cmap='Blues')\n",
    "plt.xlabel('Predicted')\n",
    "plt.ylabel('True')\n",
    "plt.title('Confusion Matrix')\n",
    "plt.show()"
   ]
  },
  {
   "cell_type": "markdown",
   "metadata": {},
   "source": [
    "### 3.6 (4 points) Does the word-embedding improve classification?"
   ]
  },
  {
   "cell_type": "markdown",
   "metadata": {},
   "source": [
    "In examining the impact of using word embeddings, particularly Word2Vec, for sentiment analysis, a notable observation emerges when comparing its performance with that of the traditional Bag-of-Words (BoW) approaches. The logistic regression model trained on Word2Vec features achieved an accuracy of approximately 85.9%, with precision, recall, and F1 score aligning closely. These metrics are respectable, especially considering the complex nature of sentiment analysis tasks.\n",
    "\n",
    "When contrasted with the BoW models, including those enhanced with n-grams and TF-IDF, the Word2Vec model presents a different performance profile. The highest performing BoW model, which employed n-grams, achieved an accuracy of around 90.4%, surpassing the Word2Vec model. This might initially suggest a superior efficacy of the n-gram approach over Word2Vec in this context. However, it's important to delve deeper into the qualitative differences between these methods.\n",
    "\n",
    "Word2Vec models capture semantic relationships between words by considering the context in which words appear. This approach can lead to a more nuanced understanding of language, potentially offering better generalization capabilities, especially with unseen data or more varied linguistic expressions. BoW models, including those with n-grams, tend to focus on the presence or absence of specific word combinations, which can limit their ability to grasp the subtleties of language. Their performance, while impressive in certain datasets, might not reflect an equally robust understanding of language semantics.\n",
    "\n",
    "Moreover, Word2Vec's lower performance could also be attributed to factors like the size and diversity of the training dataset, the dimensionality of the word vectors, and the specifics of the model's training process. In scenarios where linguistic context plays a pivotal role, such as with idiomatic expressions or nuanced sentiments, Word2Vec's ability to capture word relationships could be particularly advantageous.\n",
    "\n",
    "In conclusion, while the BoW models, particularly with n-grams, showed higher accuracy in this specific sentiment analysis task, the Word2Vec model brings a valuable dimension of semantic understanding to the table. Its slightly lower performance in this instance does not detract from its potential utility, especially in tasks where deeper linguistic comprehension is essential. The choice between these approaches should be guided by the specific requirements and characteristics of the task at hand, with an understanding that different methods bring their own strengths and limitations."
   ]
  }
 ],
 "metadata": {
  "colab": {
   "private_outputs": true,
   "provenance": []
  },
  "gpuClass": "standard",
  "kernelspec": {
   "display_name": "Python 3 (ipykernel)",
   "language": "python",
   "name": "python3"
  },
  "language_info": {
   "codemirror_mode": {
    "name": "ipython",
    "version": 3
   },
   "file_extension": ".py",
   "mimetype": "text/x-python",
   "name": "python",
   "nbconvert_exporter": "python",
   "pygments_lexer": "ipython3",
   "version": "3.10.9"
  }
 },
 "nbformat": 4,
 "nbformat_minor": 4
}
