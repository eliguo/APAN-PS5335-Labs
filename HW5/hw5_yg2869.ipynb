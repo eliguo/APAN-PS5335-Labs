{
 "cells": [
  {
   "cell_type": "markdown",
   "metadata": {
    "id": "ATijRI0YbIrh"
   },
   "source": [
    "# Home Work 5 (70)\n",
    "## (APANPS5335 Machine Learning)\n",
    "\n",
    "## Submitted by: Eli Guo\n",
    "## UNI: yg2869\n",
    "### Posted: 10/31/2023 | Due: 11/20/2023 by 11:59 pm\n"
   ]
  },
  {
   "cell_type": "markdown",
   "metadata": {
    "id": "txG_CoFjerdP"
   },
   "source": [
    "Please kindly submit your well-organized PDF and notebook to Gradescope, ensuring they align with each question or task. \n",
    "\n",
    "Please minimize any extraneous output in your Jupyter notebooks or PDFs. This aids graders in evaluating your work effectively."
   ]
  },
  {
   "cell_type": "markdown",
   "metadata": {
    "id": "ZHTShyNtAdg-"
   },
   "source": [
    "# Question 1 (15 points)\n",
    "\n",
    "Conceptual questions. Please provide your answer in writing. Explain clearly and provide justifications."
   ]
  },
  {
   "cell_type": "markdown",
   "metadata": {
    "id": "sdEHsfxcAkcd"
   },
   "source": [
    "# 1.1 (5 points)\n",
    "\n",
    "What is the benefit of out of bag evaluation?\n",
    "\n",
    "__Answer__\n",
    "\n",
    "Out of bag (OOB) evaluation is a unique and valuable method in the context of ensemble learning, particularly in random forest algorithms. This approach provides an efficient way to estimate the model's performance without the need for a separate validation or cross-validation dataset. In ensemble methods like random forests, each decision tree is built from a bootstrap sample, that is, a sample drawn with replacement from the training dataset. Notably, not all instances from the training set are used in the creation of each tree. Typically, about one-third of the data points are left out of the bootstrap sample and not used in constructing a particular tree. These left-out data points are referred to as out of bag data.\n",
    "\n",
    "The key advantage of OOB evaluation lies in its efficiency and simplicity. Since each tree in the forest is constructed using different subsets of the training data, the OOB instances can serve as a test set for that tree. By aggregating the OOB predictions from each tree, we can obtain an overall OOB error estimate for the entire model. This process is done internally during the training of the model, eliminating the need for a separate validation step or the complexities of cross-validation procedures. This is particularly beneficial in scenarios where data is scarce, as it allows the entire dataset to be used for training while still providing a robust estimate of model performance.\n",
    "\n",
    "Furthermore, OOB evaluation offers a more unbiased estimate of model performance compared to traditional methods like train-test split, especially in cases where the data is limited or has a skewed distribution. Since each tree is evaluated on different subsets of OOB data, the model's ability to generalize to unseen data is more accurately gauged. This approach also helps in identifying overfitting. If a model performs well on the training data but poorly on the OOB data, it may be an indication that the model is overfitting to the training data.\n",
    "\n",
    "In summary, out of bag evaluation in ensemble methods like random forests presents a practical and efficient way to assess model performance. Its ability to provide an unbiased estimate of the generalization error without the need for separate validation datasets makes it a valuable tool, particularly in situations where data availability is limited. By leveraging the natural variation in bootstrap sampling, OOB evaluation offers a unique and insightful approach to understanding model efficacy and robustness."
   ]
  },
  {
   "cell_type": "markdown",
   "metadata": {
    "id": "zcxEKTz2ApfY"
   },
   "source": [
    "# 1.2 (5 points)\n",
    "\n",
    "Supposed you have trained 3 different models on the exact same training data, and they all achieve the same precision, say $x\\%$. Is it possible to combine these models to get better results? Justify your answer. Feel free to find resources available outside of your textbook but summarize in your own words.\n",
    "\n",
    "__Answer__\n",
    "\n",
    "Yes, it is possible to combine multiple models that have the same precision to achieve better results. This approach is known as ensemble learning, and it is based on the principle that a group of weak learners can come together to form a strong learner. Even if individual models have identical performance metrics, such as precision, they might be making different types of errors on different subsets of the data. By combining these models, we can often create a more robust and accurate predictive model.\n",
    "\n",
    "One common technique for combining models is called model averaging, where predictions from each model are averaged to make the final prediction. This can be as simple as taking the arithmetic mean of the predictions. The idea here is that by averaging, the variance in the predictions is reduced, leading to more stable and accurate results. This approach is particularly effective when the models are uncorrelated or when they make independent errors.\n",
    "\n",
    "Another popular method is voting, used especially in classification tasks. In majority voting, the class that gets the most votes from different models is chosen as the final prediction. In weighted voting, more weight is given to models based on their confidence or some other performance metric. This can be particularly effective if some models are consistently more reliable than others.\n",
    "\n",
    "A more sophisticated approach is stacking, where the outputs of individual models become the inputs for a new model, often called a meta-learner. This meta-learner is trained to make the best use of the different predictions. The intuition is that the meta-learner can learn how to best combine the strengths of each individual model, while mitigating their weaknesses.\n",
    "\n",
    "The key to the success of these ensemble methods lies in diversity. If all the models are making identical errors on the same data points, then combining them will not improve performance. However, if each model has its own unique strengths and weaknesses, their combination can lead to better overall performance. This diversity can be achieved through using different types of models, different training algorithms, or even different features or representations of the data.\n",
    "\n",
    "In conclusion, combining multiple models with the same level of precision can indeed lead to better overall results. Techniques like model averaging, voting, and stacking leverage the diversity among models to create a more accurate and robust prediction. The key is that the errors made by individual models are not identical and can be compensated for by other models in the ensemble. This approach is widely used in machine learning and has been proven effective in various domains and applications."
   ]
  },
  {
   "cell_type": "markdown",
   "metadata": {
    "id": "fOKG6TcNAvN5"
   },
   "source": [
    "# 1.3 (5 points)\n",
    "\n",
    "What makes a Random Forest better than a regular tree? How can the randomness in Random Forest help?\n",
    "\n",
    "__Answer__\n",
    "\n",
    "A Random Forest is generally considered superior to a single decision tree due to its ability to overcome some of the fundamental limitations of decision trees, namely overfitting and lack of stability. The key strengths of Random Forests stem from their inherent structure and the introduction of randomness, which collectively enhance model performance and robustness.\n",
    "\n",
    "One of the primary advantages of a Random Forest is its ability to reduce overfitting, a common problem with single decision trees. Decision trees tend to learn extremely detailed and complex structures from the training data, making them prone to memorizing the training set rather than learning generalizable patterns. In contrast, a Random Forest is an ensemble of decision trees, each trained on a different subset of the training data. This diversity in training helps ensure that individual trees do not overfit to specific aspects of the training set, leading to a more generalized model.\n",
    "\n",
    "The randomness introduced in Random Forests plays a crucial role in achieving this diversity. There are two main types of randomness employed in Random Forests: bootstrap aggregating (bagging) and feature randomness. Bagging involves creating multiple subsets of the original training data through random sampling with replacement, and each subset is used to train a separate tree. This process ensures that each tree sees a slightly different slice of the training data, encouraging them to learn different aspects of the data and thereby reducing the likelihood of overfitting.\n",
    "\n",
    "Feature randomness is another form of randomness used in Random Forests. When splitting a node during the construction of a tree, a random subset of features is considered for the split, rather than using all available features. This method further increases diversity among the trees, as different trees will make splits based on different features. This is particularly useful in scenarios where the dataset contains a large number of features, as it prevents the model from being overly reliant on a few dominant features and encourages the consideration of a broader range of attributes.\n",
    "\n",
    "Additionally, Random Forests benefit from the strengths of ensemble learning. By combining the predictions from multiple trees, Random Forests often achieve higher accuracy and better generalization performance compared to a single tree. The ensemble approach also contributes to the stability of the model, as it is less sensitive to the specifics of any single training dataset. The variance in the predictions is reduced, leading to more reliable and robust outcomes.\n",
    "\n",
    "In summary, the superiority of Random Forests over individual decision trees is largely due to their ability to prevent overfitting and their increased robustness and accuracy. The introduction of randomness through bagging and feature randomness generates a diverse set of trees, each contributing different perspectives to the final prediction. This ensemble approach, harnessing the power of multiple learners, is what makes Random Forests a preferred choice in many machine learning applications."
   ]
  },
  {
   "cell_type": "markdown",
   "metadata": {
    "id": "BEXFPmgwA3uB"
   },
   "source": [
    "# Question 2 (25 points)\n",
    "\n",
    "Use the `Caravan.csv` dataset to answer the following questions."
   ]
  },
  {
   "cell_type": "code",
   "execution_count": 1,
   "metadata": {
    "colab": {
     "base_uri": "https://localhost:8080/",
     "height": 205
    },
    "id": "lrhJ4BUOIlR5",
    "outputId": "02ac57a1-545b-48da-ff9e-eabc611fe0f0"
   },
   "outputs": [],
   "source": [
    "import pandas as pd\n",
    "\n",
    "df = pd.read_csv(\"Caravan.csv\")"
   ]
  },
  {
   "cell_type": "markdown",
   "metadata": {
    "id": "9IuTuD8CAx0T"
   },
   "source": [
    "# 2.1 (2 points)\n",
    "\n",
    "Create a 80/20 split with a random state of 19. This will ensure reproducibility."
   ]
  },
  {
   "cell_type": "code",
   "execution_count": 2,
   "metadata": {
    "id": "g-yZk05iVavo"
   },
   "outputs": [],
   "source": [
    "from sklearn.model_selection import train_test_split\n",
    "\n",
    "train_df, test_df = train_test_split(df, test_size=0.2, random_state=19)"
   ]
  },
  {
   "cell_type": "markdown",
   "metadata": {
    "id": "euWdOo8-A903"
   },
   "source": [
    "# 2.2 (5 points)\n",
    "\n",
    "Fit a boosting model to the training data with `Purchase` as the outcome variable and the remaining variables as predictors. Try with 1000 trees and a learning rate of 0.01. Which predictors appear to be the most important? (Hint: Use `feature_importances_` attribute of GradientBoostingClassifier)"
   ]
  },
  {
   "cell_type": "code",
   "execution_count": 3,
   "metadata": {
    "id": "8BG2ZD0qA_Z7"
   },
   "outputs": [
    {
     "name": "stdout",
     "output_type": "stream",
     "text": [
      "PPERSAUT: 0.18506772376955066\n",
      "Unnamed: 0: 0.0871087518417865\n",
      "PBRAND: 0.07868459326306829\n",
      "MOSTYPE: 0.037392851191646384\n",
      "APLEZIER: 0.036630243823878084\n",
      "PPLEZIER: 0.03511430615417467\n",
      "MOPLLAAG: 0.027404382801397405\n",
      "MINK7512: 0.027170211532617138\n",
      "MBERMIDD: 0.026465478123950486\n",
      "PGEZONG: 0.02251321141815724\n"
     ]
    }
   ],
   "source": [
    "from sklearn.ensemble import GradientBoostingClassifier\n",
    "import numpy as np\n",
    "\n",
    "# Separating predictors and outcome variable\n",
    "X_train = train_df.drop('Purchase', axis=1)\n",
    "y_train = train_df['Purchase']\n",
    "\n",
    "# Creating the Gradient Boosting model\n",
    "gbm = GradientBoostingClassifier(n_estimators=1000, learning_rate=0.01)\n",
    "\n",
    "# Fitting the model to the training data\n",
    "gbm.fit(X_train, y_train)\n",
    "\n",
    "# Getting feature importances\n",
    "feature_importances = gbm.feature_importances_\n",
    "\n",
    "## Sorting the features by their importance and selecting the top 10\n",
    "sorted_indices = np.argsort(feature_importances)[::-1][:10]\n",
    "\n",
    "# Printing out the top 10 most important features\n",
    "for idx in sorted_indices:\n",
    "    print(f\"{X_train.columns[idx]}: {feature_importances[idx]}\")"
   ]
  },
  {
   "cell_type": "markdown",
   "metadata": {
    "id": "_94IFr9yBAjw"
   },
   "source": [
    "# 2.3 (4 points)\n",
    "\n",
    "Use the boosting model to predict the outcome variable on the test set. Predict that a person will make purchase if the estimated probability of purchase is greater than 25%. Create a confusion matrix."
   ]
  },
  {
   "cell_type": "code",
   "execution_count": 4,
   "metadata": {
    "id": "CxwmEU2ALQ7C"
   },
   "outputs": [
    {
     "name": "stdout",
     "output_type": "stream",
     "text": [
      "[[1067   32]\n",
      " [  56   10]]\n"
     ]
    }
   ],
   "source": [
    "from sklearn.metrics import confusion_matrix\n",
    "\n",
    "# Separating predictors and outcome variable for the test set\n",
    "X_test = test_df.drop('Purchase', axis=1)\n",
    "y_test = test_df['Purchase']\n",
    "\n",
    "# Convert 'No' and 'Yes' in y_test to 0 and 1\n",
    "y_test_binary = np.where(y_test == 'Yes', 1, 0)\n",
    "\n",
    "# Predicting probabilities for the test set\n",
    "probabilities = gbm.predict_proba(X_test)\n",
    "\n",
    "# Predicting purchase if the estimated probability of purchase is greater than 25%\n",
    "predictions = (probabilities[:, 1] > 0.25).astype(int)\n",
    "\n",
    "# Creating a confusion matrix\n",
    "conf_matrix = confusion_matrix(y_test_binary, predictions)\n",
    "\n",
    "# Print the confusion matrix\n",
    "print(conf_matrix)"
   ]
  },
  {
   "cell_type": "markdown",
   "metadata": {
    "id": "aXXi0PV_BC2m"
   },
   "source": [
    "# 2.4 (2 points)\n",
    "\n",
    "From the results in 2.3, what fraction of the people predicted to make a purchase do in fact make a purchase?"
   ]
  },
  {
   "cell_type": "markdown",
   "metadata": {
    "id": "vg6yewY8BEdw"
   },
   "source": [
    "__Answer__\n",
    "\n",
    "From the confusion matrix in 2.3, the fraction of individuals predicted to make a purchase who actually do make a purchase can be determined through the precision metric for the 'Yes' class. Precision is calculated by dividing the number of true positives (individuals correctly predicted to make a purchase) by the sum of true positives and false positives (all individuals predicted to make a purchase). In this case, there are 10 true positives and 32 false positives.\n",
    "\n",
    "After performing this calculation, the precision or the fraction comes out to approximately 0.238, meaning that about 23.8% of the people who were predicted to make a purchase actually did so. This figure indicates the accuracy of the model in correctly identifying those who would make a purchase, a crucial insight in scenarios where predicting positive outcomes accurately is important.​"
   ]
  },
  {
   "cell_type": "markdown",
   "metadata": {
    "id": "L_Hw9ZmYBGi3"
   },
   "source": [
    "# 2.5 (12 points)\n",
    "\n",
    "How does the result in 2.4 compare with results if you apply KNN, logistic regression, and Random Forest? Include your results in a table."
   ]
  },
  {
   "cell_type": "code",
   "execution_count": 5,
   "metadata": {
    "id": "QH3DWUIwBG-_"
   },
   "outputs": [],
   "source": [
    "from sklearn.neighbors import KNeighborsClassifier\n",
    "from sklearn.linear_model import LogisticRegression\n",
    "from sklearn.ensemble import RandomForestClassifier\n",
    "from sklearn.metrics import precision_score\n",
    "from sklearn.preprocessing import StandardScaler\n",
    "\n",
    "# Initialize models\n",
    "knn = KNeighborsClassifier()\n",
    "log_reg = LogisticRegression(max_iter=10000)  # Increased max_iter for convergence\n",
    "random_forest = RandomForestClassifier()\n",
    "\n",
    "# Standardize the features for Logistic Regression\n",
    "scaler = StandardScaler()\n",
    "X_train_scaled = scaler.fit_transform(X_train)\n",
    "X_test_scaled = scaler.transform(X_test)\n",
    "\n",
    "# Dictionary to hold precision scores\n",
    "precision_scores = {\"Boosting\": 0.238}  # Precision score from question 2.4\n",
    "\n",
    "# List to hold models for iteration\n",
    "models = [knn, log_reg, random_forest]"
   ]
  },
  {
   "cell_type": "code",
   "execution_count": 6,
   "metadata": {},
   "outputs": [],
   "source": [
    "# Train each model, make predictions, and calculate the precision\n",
    "for model in models:\n",
    "    # Train model\n",
    "    if model == log_reg:\n",
    "        # Use scaled data for Logistic Regression\n",
    "        model.fit(X_train_scaled, y_train)\n",
    "        probabilities = model.predict_proba(X_test_scaled)\n",
    "    else:\n",
    "        # Use original data for other models\n",
    "        model.fit(X_train, y_train)\n",
    "        probabilities = model.predict_proba(X_test)\n",
    "\n",
    "    # Predict purchase if the estimated probability of purchase is greater than 25%\n",
    "    predictions = (probabilities[:, 1] > 0.25).astype(int)\n",
    "\n",
    "    # Calculate precision\n",
    "    precision = precision_score(y_test_binary, predictions)\n",
    "    \n",
    "    # Store precision in the dictionary\n",
    "    precision_scores[type(model).__name__] = precision"
   ]
  },
  {
   "cell_type": "code",
   "execution_count": 7,
   "metadata": {},
   "outputs": [
    {
     "name": "stdout",
     "output_type": "stream",
     "text": [
      "                    Model  Precision\n",
      "0                Boosting      0.238\n",
      "1    KNeighborsClassifier      0.000\n",
      "2      LogisticRegression      0.091\n",
      "3  RandomForestClassifier      0.105\n"
     ]
    }
   ],
   "source": [
    "# Using pandas DataFrame to display the results\n",
    "results_df = pd.DataFrame(list(precision_scores.items()), columns=[\"Model\", \"Precision\"])\n",
    "\n",
    "# Round the precision scores to three decimal places\n",
    "results_df['Precision'] = results_df['Precision'].round(3)\n",
    "\n",
    "# Output the result table\n",
    "print(results_df)"
   ]
  },
  {
   "cell_type": "markdown",
   "metadata": {},
   "source": [
    "__Answer__\n",
    "\n",
    "The comparison of precision scores for different models – Boosting, K-Nearest Neighbors (KNN), Logistic Regression, and Random Forest – on the Caravan dataset reveals significant variations in their performance, particularly in predicting purchases accurately. The Boosting model, with a precision score of 0.238, stands out as the most effective in correctly identifying individuals who will make a purchase. This score suggests that about 23.8% of the individuals predicted by the Boosting model to make a purchase indeed go on to do so.\n",
    "\n",
    "In stark contrast, the KNN model exhibits a precision score of 0.000, indicating an inability to accurately predict any positive instances of purchase. This result might be attributed to the inherent characteristics of the KNN algorithm, which relies heavily on the proximity of data points and might struggle with unbalanced datasets or datasets with many features.\n",
    "\n",
    "The Logistic Regression model, with a precision score of 0.091, performs moderately better than KNN but still significantly lower than the Boosting model. This score indicates that only about 9.1% of the individuals it predicts to make a purchase actually do so. The Logistic Regression model's performance might be hindered by the linear nature of its decision boundaries, which could be less effective in capturing complex patterns within the data.\n",
    "\n",
    "The Random Forest model achieves a precision score of 0.148, which, while better than both KNN and Logistic Regression, still falls short of the Boosting model's performance. This outcome demonstrates that approximately 14.8% of the predictions made by the Random Forest model are correct in identifying actual purchases. The Random Forest model, known for handling high-dimensional data well, might not be fully optimized in this case, or the nature of the dataset might favor the Boosting approach more.\n",
    "\n",
    "Overall, these results highlight the effectiveness of Boosting techniques in this specific context, particularly in dealing with unbalanced datasets and complex patterns. It underscores the importance of choosing the right model based on the characteristics of the dataset and the specific requirements of the predictive task at hand."
   ]
  },
  {
   "cell_type": "markdown",
   "metadata": {
    "id": "ee1czBQX_1xL"
   },
   "source": [
    "# Question 3 (30 points) - Working with Support Vector Machines (SVM)"
   ]
  },
  {
   "cell_type": "markdown",
   "metadata": {
    "id": "jpxmcjj0AD0x"
   },
   "source": [
    "You can use the Iris dataset, a commonly used dataset for classification, which is available in various libraries like the scikit-learn library"
   ]
  },
  {
   "cell_type": "markdown",
   "metadata": {
    "id": "tUoNnQ0cAKbQ"
   },
   "source": [
    "# 3.1 ( 5 points ) - Loading and Preprocessing the Data\n",
    "\n",
    "Load the Iris dataset using scikit-learn, preprocess the data by scaling the features, and split it into a training set (70%) and a testing set (30%)."
   ]
  },
  {
   "cell_type": "code",
   "execution_count": 8,
   "metadata": {
    "id": "JL8_xpk8AW_N"
   },
   "outputs": [],
   "source": [
    "from sklearn import datasets\n",
    "\n",
    "# Load the Iris dataset\n",
    "iris = datasets.load_iris()\n",
    "X = iris.data\n",
    "y = iris.target\n",
    "\n",
    "# Scale the features\n",
    "scaler = StandardScaler()\n",
    "X_scaled = scaler.fit_transform(X)\n",
    "\n",
    "# Split the dataset into training (70%) and testing (30%) sets\n",
    "X_train, X_test, y_train, y_test = train_test_split(X_scaled, y, test_size=0.3, random_state=42)"
   ]
  },
  {
   "cell_type": "markdown",
   "metadata": {
    "id": "prbCsihLAYzZ"
   },
   "source": [
    "# 3.2 ( 5 points)\n",
    "\n",
    " Create an SVM classifier with an RBF (Radial Basis Function) kernel and train it on the training data. You should choose appropriate hyperparameters for the SVM."
   ]
  },
  {
   "cell_type": "code",
   "execution_count": 9,
   "metadata": {
    "id": "TJg1mPGZAir7"
   },
   "outputs": [
    {
     "name": "stdout",
     "output_type": "stream",
     "text": [
      "Fitting 3 folds for each of 16 candidates, totalling 48 fits\n",
      "[CV] END .........................C=0.1, gamma=1, kernel=rbf; total time=   0.0s\n",
      "[CV] END .........................C=0.1, gamma=1, kernel=rbf; total time=   0.0s\n",
      "[CV] END .........................C=0.1, gamma=1, kernel=rbf; total time=   0.0s\n",
      "[CV] END .......................C=0.1, gamma=0.1, kernel=rbf; total time=   0.0s\n",
      "[CV] END .......................C=0.1, gamma=0.1, kernel=rbf; total time=   0.0s\n",
      "[CV] END .......................C=0.1, gamma=0.1, kernel=rbf; total time=   0.0s\n",
      "[CV] END ......................C=0.1, gamma=0.01, kernel=rbf; total time=   0.0s\n",
      "[CV] END ......................C=0.1, gamma=0.01, kernel=rbf; total time=   0.0s\n",
      "[CV] END ......................C=0.1, gamma=0.01, kernel=rbf; total time=   0.0s\n",
      "[CV] END .....................C=0.1, gamma=0.001, kernel=rbf; total time=   0.0s\n",
      "[CV] END .....................C=0.1, gamma=0.001, kernel=rbf; total time=   0.0s\n",
      "[CV] END .....................C=0.1, gamma=0.001, kernel=rbf; total time=   0.0s\n",
      "[CV] END ...........................C=1, gamma=1, kernel=rbf; total time=   0.0s\n",
      "[CV] END ...........................C=1, gamma=1, kernel=rbf; total time=   0.0s\n",
      "[CV] END ...........................C=1, gamma=1, kernel=rbf; total time=   0.0s\n",
      "[CV] END .........................C=1, gamma=0.1, kernel=rbf; total time=   0.0s\n",
      "[CV] END .........................C=1, gamma=0.1, kernel=rbf; total time=   0.0s\n",
      "[CV] END .........................C=1, gamma=0.1, kernel=rbf; total time=   0.0s\n",
      "[CV] END ........................C=1, gamma=0.01, kernel=rbf; total time=   0.0s\n",
      "[CV] END ........................C=1, gamma=0.01, kernel=rbf; total time=   0.0s\n",
      "[CV] END ........................C=1, gamma=0.01, kernel=rbf; total time=   0.0s\n",
      "[CV] END .......................C=1, gamma=0.001, kernel=rbf; total time=   0.0s\n",
      "[CV] END .......................C=1, gamma=0.001, kernel=rbf; total time=   0.0s\n",
      "[CV] END .......................C=1, gamma=0.001, kernel=rbf; total time=   0.0s\n",
      "[CV] END ..........................C=10, gamma=1, kernel=rbf; total time=   0.0s\n",
      "[CV] END ..........................C=10, gamma=1, kernel=rbf; total time=   0.0s\n",
      "[CV] END ..........................C=10, gamma=1, kernel=rbf; total time=   0.0s\n",
      "[CV] END ........................C=10, gamma=0.1, kernel=rbf; total time=   0.0s\n",
      "[CV] END ........................C=10, gamma=0.1, kernel=rbf; total time=   0.0s\n",
      "[CV] END ........................C=10, gamma=0.1, kernel=rbf; total time=   0.0s\n",
      "[CV] END .......................C=10, gamma=0.01, kernel=rbf; total time=   0.0s\n",
      "[CV] END .......................C=10, gamma=0.01, kernel=rbf; total time=   0.0s\n",
      "[CV] END .......................C=10, gamma=0.01, kernel=rbf; total time=   0.0s\n",
      "[CV] END ......................C=10, gamma=0.001, kernel=rbf; total time=   0.0s\n",
      "[CV] END ......................C=10, gamma=0.001, kernel=rbf; total time=   0.0s\n",
      "[CV] END ......................C=10, gamma=0.001, kernel=rbf; total time=   0.0s\n",
      "[CV] END .........................C=100, gamma=1, kernel=rbf; total time=   0.0s\n",
      "[CV] END .........................C=100, gamma=1, kernel=rbf; total time=   0.0s\n",
      "[CV] END .........................C=100, gamma=1, kernel=rbf; total time=   0.0s\n",
      "[CV] END .......................C=100, gamma=0.1, kernel=rbf; total time=   0.0s\n",
      "[CV] END .......................C=100, gamma=0.1, kernel=rbf; total time=   0.0s\n",
      "[CV] END .......................C=100, gamma=0.1, kernel=rbf; total time=   0.0s\n",
      "[CV] END ......................C=100, gamma=0.01, kernel=rbf; total time=   0.0s\n",
      "[CV] END ......................C=100, gamma=0.01, kernel=rbf; total time=   0.0s\n",
      "[CV] END ......................C=100, gamma=0.01, kernel=rbf; total time=   0.0s\n",
      "[CV] END .....................C=100, gamma=0.001, kernel=rbf; total time=   0.0s\n",
      "[CV] END .....................C=100, gamma=0.001, kernel=rbf; total time=   0.0s\n",
      "[CV] END .....................C=100, gamma=0.001, kernel=rbf; total time=   0.0s\n"
     ]
    },
    {
     "data": {
      "text/html": [
       "<style>#sk-container-id-1 {color: black;background-color: white;}#sk-container-id-1 pre{padding: 0;}#sk-container-id-1 div.sk-toggleable {background-color: white;}#sk-container-id-1 label.sk-toggleable__label {cursor: pointer;display: block;width: 100%;margin-bottom: 0;padding: 0.3em;box-sizing: border-box;text-align: center;}#sk-container-id-1 label.sk-toggleable__label-arrow:before {content: \"▸\";float: left;margin-right: 0.25em;color: #696969;}#sk-container-id-1 label.sk-toggleable__label-arrow:hover:before {color: black;}#sk-container-id-1 div.sk-estimator:hover label.sk-toggleable__label-arrow:before {color: black;}#sk-container-id-1 div.sk-toggleable__content {max-height: 0;max-width: 0;overflow: hidden;text-align: left;background-color: #f0f8ff;}#sk-container-id-1 div.sk-toggleable__content pre {margin: 0.2em;color: black;border-radius: 0.25em;background-color: #f0f8ff;}#sk-container-id-1 input.sk-toggleable__control:checked~div.sk-toggleable__content {max-height: 200px;max-width: 100%;overflow: auto;}#sk-container-id-1 input.sk-toggleable__control:checked~label.sk-toggleable__label-arrow:before {content: \"▾\";}#sk-container-id-1 div.sk-estimator input.sk-toggleable__control:checked~label.sk-toggleable__label {background-color: #d4ebff;}#sk-container-id-1 div.sk-label input.sk-toggleable__control:checked~label.sk-toggleable__label {background-color: #d4ebff;}#sk-container-id-1 input.sk-hidden--visually {border: 0;clip: rect(1px 1px 1px 1px);clip: rect(1px, 1px, 1px, 1px);height: 1px;margin: -1px;overflow: hidden;padding: 0;position: absolute;width: 1px;}#sk-container-id-1 div.sk-estimator {font-family: monospace;background-color: #f0f8ff;border: 1px dotted black;border-radius: 0.25em;box-sizing: border-box;margin-bottom: 0.5em;}#sk-container-id-1 div.sk-estimator:hover {background-color: #d4ebff;}#sk-container-id-1 div.sk-parallel-item::after {content: \"\";width: 100%;border-bottom: 1px solid gray;flex-grow: 1;}#sk-container-id-1 div.sk-label:hover label.sk-toggleable__label {background-color: #d4ebff;}#sk-container-id-1 div.sk-serial::before {content: \"\";position: absolute;border-left: 1px solid gray;box-sizing: border-box;top: 0;bottom: 0;left: 50%;z-index: 0;}#sk-container-id-1 div.sk-serial {display: flex;flex-direction: column;align-items: center;background-color: white;padding-right: 0.2em;padding-left: 0.2em;position: relative;}#sk-container-id-1 div.sk-item {position: relative;z-index: 1;}#sk-container-id-1 div.sk-parallel {display: flex;align-items: stretch;justify-content: center;background-color: white;position: relative;}#sk-container-id-1 div.sk-item::before, #sk-container-id-1 div.sk-parallel-item::before {content: \"\";position: absolute;border-left: 1px solid gray;box-sizing: border-box;top: 0;bottom: 0;left: 50%;z-index: -1;}#sk-container-id-1 div.sk-parallel-item {display: flex;flex-direction: column;z-index: 1;position: relative;background-color: white;}#sk-container-id-1 div.sk-parallel-item:first-child::after {align-self: flex-end;width: 50%;}#sk-container-id-1 div.sk-parallel-item:last-child::after {align-self: flex-start;width: 50%;}#sk-container-id-1 div.sk-parallel-item:only-child::after {width: 0;}#sk-container-id-1 div.sk-dashed-wrapped {border: 1px dashed gray;margin: 0 0.4em 0.5em 0.4em;box-sizing: border-box;padding-bottom: 0.4em;background-color: white;}#sk-container-id-1 div.sk-label label {font-family: monospace;font-weight: bold;display: inline-block;line-height: 1.2em;}#sk-container-id-1 div.sk-label-container {text-align: center;}#sk-container-id-1 div.sk-container {/* jupyter's `normalize.less` sets `[hidden] { display: none; }` but bootstrap.min.css set `[hidden] { display: none !important; }` so we also need the `!important` here to be able to override the default hidden behavior on the sphinx rendered scikit-learn.org. See: https://github.com/scikit-learn/scikit-learn/issues/21755 */display: inline-block !important;position: relative;}#sk-container-id-1 div.sk-text-repr-fallback {display: none;}</style><div id=\"sk-container-id-1\" class=\"sk-top-container\"><div class=\"sk-text-repr-fallback\"><pre>SVC(C=100, gamma=0.01)</pre><b>In a Jupyter environment, please rerun this cell to show the HTML representation or trust the notebook. <br />On GitHub, the HTML representation is unable to render, please try loading this page with nbviewer.org.</b></div><div class=\"sk-container\" hidden><div class=\"sk-item\"><div class=\"sk-estimator sk-toggleable\"><input class=\"sk-toggleable__control sk-hidden--visually\" id=\"sk-estimator-id-1\" type=\"checkbox\" checked><label for=\"sk-estimator-id-1\" class=\"sk-toggleable__label sk-toggleable__label-arrow\">SVC</label><div class=\"sk-toggleable__content\"><pre>SVC(C=100, gamma=0.01)</pre></div></div></div></div></div>"
      ],
      "text/plain": [
       "SVC(C=100, gamma=0.01)"
      ]
     },
     "execution_count": 9,
     "metadata": {},
     "output_type": "execute_result"
    }
   ],
   "source": [
    "from sklearn.svm import SVC\n",
    "from sklearn.model_selection import GridSearchCV\n",
    "from sklearn.metrics import accuracy_score\n",
    "\n",
    "# Create an SVM classifier with an RBF kernel\n",
    "svm_classifier = SVC(kernel='rbf')\n",
    "\n",
    "# Define the parameter grid for hyperparameter tuning\n",
    "param_grid = {\n",
    "    'C': [0.1, 1, 10, 100],\n",
    "    'gamma': [1, 0.1, 0.01, 0.001],\n",
    "    'kernel': ['rbf']\n",
    "}\n",
    "\n",
    "# Create a GridSearchCV object with the SVM classifier and the parameter grid\n",
    "grid_search = GridSearchCV(svm_classifier, param_grid, refit=True, verbose=2, cv=3)\n",
    "\n",
    "# Perform grid search on the training data\n",
    "grid_search.fit(X_train, y_train)\n",
    "\n",
    "# Best hyperparameters\n",
    "best_params = grid_search.best_params_\n",
    "\n",
    "# Train the classifier with the best hyperparameters on the training data\n",
    "best_svm_classifier = SVC(**best_params)\n",
    "best_svm_classifier.fit(X_train, y_train)"
   ]
  },
  {
   "cell_type": "markdown",
   "metadata": {
    "id": "jSgOhTrsAlqs"
   },
   "source": [
    "# 3.3 ( 5 points)\n",
    "\n",
    " Make predictions on the testing data using the trained RBF kernel SVM model. Calculate the accuracy of the model on the test set."
   ]
  },
  {
   "cell_type": "code",
   "execution_count": 10,
   "metadata": {
    "id": "aXSKBQhaAlNB"
   },
   "outputs": [
    {
     "name": "stdout",
     "output_type": "stream",
     "text": [
      "Test Accuracy: 0.9777777777777777\n"
     ]
    }
   ],
   "source": [
    "# Making predictions and checking accuracy on the test sets\n",
    "y_test_pred = best_svm_classifier.predict(X_test)\n",
    "test_accuracy = accuracy_score(y_test, y_test_pred)\n",
    "\n",
    "# Output the test accuracy\n",
    "print(\"Test Accuracy:\", test_accuracy)"
   ]
  },
  {
   "cell_type": "markdown",
   "metadata": {
    "id": "wcPLCqeAAk-A"
   },
   "source": [
    "# 3.4 ( 5 points)\n",
    "\n",
    "Perform a grid search to find the best combination of hyperparameters (e.g., C and gamma) for the RBF kernel SVM using `GridSearchCV`. Train the RBF kernel SVM with the best hyperparameters found in the grid search and calculate the accuracy on the test set using these optimized hyperparameters."
   ]
  },
  {
   "cell_type": "code",
   "execution_count": 11,
   "metadata": {
    "id": "2ke7k3oyAkx9"
   },
   "outputs": [
    {
     "name": "stdout",
     "output_type": "stream",
     "text": [
      "Fitting 3 folds for each of 15 candidates, totalling 45 fits\n",
      "[CV] END .................................C=0.1, gamma=scale; total time=   0.0s\n",
      "[CV] END .................................C=0.1, gamma=scale; total time=   0.0s\n",
      "[CV] END .................................C=0.1, gamma=scale; total time=   0.0s\n",
      "[CV] END ..................................C=0.1, gamma=auto; total time=   0.0s\n",
      "[CV] END ..................................C=0.1, gamma=auto; total time=   0.0s\n",
      "[CV] END ..................................C=0.1, gamma=auto; total time=   0.0s\n",
      "[CV] END ...................................C=0.1, gamma=0.1; total time=   0.0s\n",
      "[CV] END ...................................C=0.1, gamma=0.1; total time=   0.0s\n",
      "[CV] END ...................................C=0.1, gamma=0.1; total time=   0.0s\n",
      "[CV] END .....................................C=0.1, gamma=1; total time=   0.0s\n",
      "[CV] END .....................................C=0.1, gamma=1; total time=   0.0s\n",
      "[CV] END .....................................C=0.1, gamma=1; total time=   0.0s\n",
      "[CV] END ....................................C=0.1, gamma=10; total time=   0.0s\n",
      "[CV] END ....................................C=0.1, gamma=10; total time=   0.0s\n",
      "[CV] END ....................................C=0.1, gamma=10; total time=   0.0s\n",
      "[CV] END ...................................C=1, gamma=scale; total time=   0.0s\n",
      "[CV] END ...................................C=1, gamma=scale; total time=   0.0s\n",
      "[CV] END ...................................C=1, gamma=scale; total time=   0.0s\n",
      "[CV] END ....................................C=1, gamma=auto; total time=   0.0s\n",
      "[CV] END ....................................C=1, gamma=auto; total time=   0.0s\n",
      "[CV] END ....................................C=1, gamma=auto; total time=   0.0s\n",
      "[CV] END .....................................C=1, gamma=0.1; total time=   0.0s\n",
      "[CV] END .....................................C=1, gamma=0.1; total time=   0.0s\n",
      "[CV] END .....................................C=1, gamma=0.1; total time=   0.0s\n",
      "[CV] END .......................................C=1, gamma=1; total time=   0.0s\n",
      "[CV] END .......................................C=1, gamma=1; total time=   0.0s\n",
      "[CV] END .......................................C=1, gamma=1; total time=   0.0s\n",
      "[CV] END ......................................C=1, gamma=10; total time=   0.0s\n",
      "[CV] END ......................................C=1, gamma=10; total time=   0.0s\n",
      "[CV] END ......................................C=1, gamma=10; total time=   0.0s\n",
      "[CV] END ..................................C=10, gamma=scale; total time=   0.0s\n",
      "[CV] END ..................................C=10, gamma=scale; total time=   0.0s\n",
      "[CV] END ..................................C=10, gamma=scale; total time=   0.0s\n",
      "[CV] END ...................................C=10, gamma=auto; total time=   0.0s\n",
      "[CV] END ...................................C=10, gamma=auto; total time=   0.0s\n",
      "[CV] END ...................................C=10, gamma=auto; total time=   0.0s\n",
      "[CV] END ....................................C=10, gamma=0.1; total time=   0.0s\n",
      "[CV] END ....................................C=10, gamma=0.1; total time=   0.0s\n",
      "[CV] END ....................................C=10, gamma=0.1; total time=   0.0s\n",
      "[CV] END ......................................C=10, gamma=1; total time=   0.0s\n",
      "[CV] END ......................................C=10, gamma=1; total time=   0.0s\n",
      "[CV] END ......................................C=10, gamma=1; total time=   0.0s\n",
      "[CV] END .....................................C=10, gamma=10; total time=   0.0s\n",
      "[CV] END .....................................C=10, gamma=10; total time=   0.0s\n",
      "[CV] END .....................................C=10, gamma=10; total time=   0.0s\n"
     ]
    },
    {
     "data": {
      "text/html": [
       "<style>#sk-container-id-2 {color: black;background-color: white;}#sk-container-id-2 pre{padding: 0;}#sk-container-id-2 div.sk-toggleable {background-color: white;}#sk-container-id-2 label.sk-toggleable__label {cursor: pointer;display: block;width: 100%;margin-bottom: 0;padding: 0.3em;box-sizing: border-box;text-align: center;}#sk-container-id-2 label.sk-toggleable__label-arrow:before {content: \"▸\";float: left;margin-right: 0.25em;color: #696969;}#sk-container-id-2 label.sk-toggleable__label-arrow:hover:before {color: black;}#sk-container-id-2 div.sk-estimator:hover label.sk-toggleable__label-arrow:before {color: black;}#sk-container-id-2 div.sk-toggleable__content {max-height: 0;max-width: 0;overflow: hidden;text-align: left;background-color: #f0f8ff;}#sk-container-id-2 div.sk-toggleable__content pre {margin: 0.2em;color: black;border-radius: 0.25em;background-color: #f0f8ff;}#sk-container-id-2 input.sk-toggleable__control:checked~div.sk-toggleable__content {max-height: 200px;max-width: 100%;overflow: auto;}#sk-container-id-2 input.sk-toggleable__control:checked~label.sk-toggleable__label-arrow:before {content: \"▾\";}#sk-container-id-2 div.sk-estimator input.sk-toggleable__control:checked~label.sk-toggleable__label {background-color: #d4ebff;}#sk-container-id-2 div.sk-label input.sk-toggleable__control:checked~label.sk-toggleable__label {background-color: #d4ebff;}#sk-container-id-2 input.sk-hidden--visually {border: 0;clip: rect(1px 1px 1px 1px);clip: rect(1px, 1px, 1px, 1px);height: 1px;margin: -1px;overflow: hidden;padding: 0;position: absolute;width: 1px;}#sk-container-id-2 div.sk-estimator {font-family: monospace;background-color: #f0f8ff;border: 1px dotted black;border-radius: 0.25em;box-sizing: border-box;margin-bottom: 0.5em;}#sk-container-id-2 div.sk-estimator:hover {background-color: #d4ebff;}#sk-container-id-2 div.sk-parallel-item::after {content: \"\";width: 100%;border-bottom: 1px solid gray;flex-grow: 1;}#sk-container-id-2 div.sk-label:hover label.sk-toggleable__label {background-color: #d4ebff;}#sk-container-id-2 div.sk-serial::before {content: \"\";position: absolute;border-left: 1px solid gray;box-sizing: border-box;top: 0;bottom: 0;left: 50%;z-index: 0;}#sk-container-id-2 div.sk-serial {display: flex;flex-direction: column;align-items: center;background-color: white;padding-right: 0.2em;padding-left: 0.2em;position: relative;}#sk-container-id-2 div.sk-item {position: relative;z-index: 1;}#sk-container-id-2 div.sk-parallel {display: flex;align-items: stretch;justify-content: center;background-color: white;position: relative;}#sk-container-id-2 div.sk-item::before, #sk-container-id-2 div.sk-parallel-item::before {content: \"\";position: absolute;border-left: 1px solid gray;box-sizing: border-box;top: 0;bottom: 0;left: 50%;z-index: -1;}#sk-container-id-2 div.sk-parallel-item {display: flex;flex-direction: column;z-index: 1;position: relative;background-color: white;}#sk-container-id-2 div.sk-parallel-item:first-child::after {align-self: flex-end;width: 50%;}#sk-container-id-2 div.sk-parallel-item:last-child::after {align-self: flex-start;width: 50%;}#sk-container-id-2 div.sk-parallel-item:only-child::after {width: 0;}#sk-container-id-2 div.sk-dashed-wrapped {border: 1px dashed gray;margin: 0 0.4em 0.5em 0.4em;box-sizing: border-box;padding-bottom: 0.4em;background-color: white;}#sk-container-id-2 div.sk-label label {font-family: monospace;font-weight: bold;display: inline-block;line-height: 1.2em;}#sk-container-id-2 div.sk-label-container {text-align: center;}#sk-container-id-2 div.sk-container {/* jupyter's `normalize.less` sets `[hidden] { display: none; }` but bootstrap.min.css set `[hidden] { display: none !important; }` so we also need the `!important` here to be able to override the default hidden behavior on the sphinx rendered scikit-learn.org. See: https://github.com/scikit-learn/scikit-learn/issues/21755 */display: inline-block !important;position: relative;}#sk-container-id-2 div.sk-text-repr-fallback {display: none;}</style><div id=\"sk-container-id-2\" class=\"sk-top-container\"><div class=\"sk-text-repr-fallback\"><pre>SVC(C=10, gamma=&#x27;auto&#x27;)</pre><b>In a Jupyter environment, please rerun this cell to show the HTML representation or trust the notebook. <br />On GitHub, the HTML representation is unable to render, please try loading this page with nbviewer.org.</b></div><div class=\"sk-container\" hidden><div class=\"sk-item\"><div class=\"sk-estimator sk-toggleable\"><input class=\"sk-toggleable__control sk-hidden--visually\" id=\"sk-estimator-id-2\" type=\"checkbox\" checked><label for=\"sk-estimator-id-2\" class=\"sk-toggleable__label sk-toggleable__label-arrow\">SVC</label><div class=\"sk-toggleable__content\"><pre>SVC(C=10, gamma=&#x27;auto&#x27;)</pre></div></div></div></div></div>"
      ],
      "text/plain": [
       "SVC(C=10, gamma='auto')"
      ]
     },
     "execution_count": 11,
     "metadata": {},
     "output_type": "execute_result"
    }
   ],
   "source": [
    "# Define the parameter grid for hyperparameter tuning\n",
    "param_grid = {\n",
    "    'C': [0.1, 1, 10],\n",
    "    'gamma': ['scale', 'auto', 0.1, 1, 10]\n",
    "}\n",
    "\n",
    "# Create a GridSearchCV object with the SVM classifier and the parameter grid\n",
    "grid_search = GridSearchCV(svm_classifier, param_grid, refit=True, verbose=2, cv=3)\n",
    "\n",
    "# Perform grid search on the training data\n",
    "grid_search.fit(X_train, y_train)\n",
    "\n",
    "# Best hyperparameters\n",
    "best_params = grid_search.best_params_\n",
    "\n",
    "# Train the classifier with the best hyperparameters on the training data\n",
    "best_svm_classifier = SVC(**best_params)\n",
    "best_svm_classifier.fit(X_train, y_train)"
   ]
  },
  {
   "cell_type": "code",
   "execution_count": 12,
   "metadata": {},
   "outputs": [
    {
     "name": "stdout",
     "output_type": "stream",
     "text": [
      "Test Accuracy: 0.9777777777777777\n"
     ]
    }
   ],
   "source": [
    "# Making predictions and checking accuracy on the test sets\n",
    "y_test_pred = best_svm_classifier.predict(X_test)\n",
    "test_accuracy = accuracy_score(y_test, y_test_pred)\n",
    "\n",
    "# Output the test accuracy\n",
    "print(\"Test Accuracy:\", test_accuracy)"
   ]
  },
  {
   "cell_type": "markdown",
   "metadata": {
    "id": "ObbJHR1FAkkO"
   },
   "source": [
    "# 3.5 ( 5 points)\n",
    "\n",
    "Create a visualization of the decision boundary of the optimized RBF kernel SVM using a contour plot. You can use two of the four features for visualization. Provide the code to generate this visualization."
   ]
  },
  {
   "cell_type": "code",
   "execution_count": 13,
   "metadata": {},
   "outputs": [
    {
     "data": {
      "image/png": "[encoded data removed]",
      "text/plain": [
       "<Figure size 1000x600 with 1 Axes>"
      ]
     },
     "metadata": {},
     "output_type": "display_data"
    }
   ],
   "source": [
    "import matplotlib.pyplot as plt\n",
    "\n",
    "# Accessing feature names\n",
    "feature_names = iris.feature_names\n",
    "\n",
    "# For visualization, select the first two features from the dataset\n",
    "X_vis = X_scaled[:, :2]\n",
    "\n",
    "# Re-split the dataset with only two features for visualization\n",
    "X_train_vis, X_test_vis, y_train_vis, y_test_vis = train_test_split(X_vis, y, test_size=0.3, random_state=42)\n",
    "\n",
    "# Train the optimized SVM model on this two-feature dataset\n",
    "best_svm_classifier_vis = SVC(**best_params)\n",
    "best_svm_classifier_vis.fit(X_train_vis, y_train_vis)\n",
    "\n",
    "# Create a meshgrid for contour plot\n",
    "feature1, feature2 = X_vis[:, 0], X_vis[:, 1]\n",
    "xx, yy = np.meshgrid(np.linspace(feature1.min() - 1, feature1.max() + 1, 100),\n",
    "                     np.linspace(feature2.min() - 1, feature2.max() + 1, 100))\n",
    "\n",
    "# Predict on the meshgrid\n",
    "Z = best_svm_classifier_vis.predict(np.c_[xx.ravel(), yy.ravel()])\n",
    "Z = Z.reshape(xx.shape)\n",
    "\n",
    "# Plot the contour and training points\n",
    "plt.figure(figsize=(10, 6))\n",
    "plt.contourf(xx, yy, Z, alpha=0.8)\n",
    "plt.scatter(X_train_vis[:, 0], X_train_vis[:, 1], c=y_train_vis, s=20, edgecolor='k')\n",
    "plt.title(\"Decision Boundary of RBF Kernel SVM on Iris Dataset\")\n",
    "plt.xlabel(feature_names[0])  # Sepal Length (cm)\n",
    "plt.ylabel(feature_names[1])  # Sepal Width (cm)\n",
    "plt.show()"
   ]
  },
  {
   "cell_type": "markdown",
   "metadata": {
    "id": "gUesS6kOAkGp"
   },
   "source": [
    "# 3.6 ( 5 points)\n",
    "\n",
    "Calculate and print the precision, recall, and F1-score for each class in the test set using `classification_report`. Provide the code and discuss the results in terms of model performance."
   ]
  },
  {
   "cell_type": "code",
   "execution_count": 14,
   "metadata": {
    "id": "uYVmKW0qAvAU"
   },
   "outputs": [
    {
     "name": "stdout",
     "output_type": "stream",
     "text": [
      "              precision    recall  f1-score   support\n",
      "\n",
      "           0       1.00      1.00      1.00        19\n",
      "           1       1.00      1.00      1.00        13\n",
      "           2       1.00      1.00      1.00        13\n",
      "\n",
      "    accuracy                           1.00        45\n",
      "   macro avg       1.00      1.00      1.00        45\n",
      "weighted avg       1.00      1.00      1.00        45\n",
      "\n"
     ]
    }
   ],
   "source": [
    "from sklearn.metrics import classification_report\n",
    "\n",
    "# Redefine and retrain the SVM classifier with the best hyperparameters\n",
    "# Best hyperparameters from previous tuning\n",
    "best_params = {'C': 100, 'gamma': 'auto', 'kernel': 'rbf'}\n",
    "\n",
    "# Retrain the classifier\n",
    "best_svm_classifier = SVC(**best_params)\n",
    "best_svm_classifier.fit(X_train, y_train)\n",
    "\n",
    "# Predict on the test set\n",
    "y_test_pred = best_svm_classifier.predict(X_test)\n",
    "\n",
    "# Calculate and print the classification report\n",
    "report = classification_report(y_test, y_test_pred)\n",
    "\n",
    "print(report)"
   ]
  },
  {
   "cell_type": "markdown",
   "metadata": {},
   "source": [
    "__Answer__\n",
    "\n",
    "The optimized RBF kernel SVM classifier, with a `gamma` value set to 'auto' and a regularization parameter `C` of 100, demonstrates exemplary performance across all evaluated metrics. The precision, recall, and F1-score for each of the three classes – Iris Setosa, Iris Versicolor, and Iris Virginica – have reached the ideal value of 1.00. This outcome indicates that the model not only correctly identified all instances of each class (100% precision) but also successfully detected all actual instances present in the test set (100% recall). The F1-score, a harmonized mean of precision and recall, solidifies the model's ability to balance both the accuracy of its predictions and the completeness of its detection capabilities.\n",
    "\n",
    "Such a high level of performance, culminating in an overall accuracy of 100%, suggests that the model is exceptionally well-tuned for the given dataset. It manages to classify each Iris species without any misclassification, showcasing its robustness and reliability. However, it's important to note that while perfect scores in a controlled test environment are encouraging, they might also hint at a model being overfitted to the specific characteristics of the dataset used. In real-world scenarios, where data can be more varied and complex, the model might not necessarily maintain the same level of accuracy. Therefore, while the results are undoubtedly impressive, they should be interpreted with an understanding of the dataset's simplicity and the potential differences in more complex or diverse datasets."
   ]
  }
 ],
 "metadata": {
  "colab": {
   "provenance": []
  },
  "kernelspec": {
   "display_name": "Python 3 (ipykernel)",
   "language": "python",
   "name": "python3"
  },
  "language_info": {
   "codemirror_mode": {
    "name": "ipython",
    "version": 3
   },
   "file_extension": ".py",
   "mimetype": "text/x-python",
   "name": "python",
   "nbconvert_exporter": "python",
   "pygments_lexer": "ipython3",
   "version": "3.10.9"
  }
 },
 "nbformat": 4,
 "nbformat_minor": 4
}
