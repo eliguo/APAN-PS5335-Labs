{
 "cells": [
  {
   "cell_type": "markdown",
   "id": "995ca364-cb8c-45c3-aa4c-a6507759b147",
   "metadata": {
    "id": "995ca364-cb8c-45c3-aa4c-a6507759b147"
   },
   "source": [
    "# Final Project (175)\n",
    "## (APANPS5335_002_2023_3 - MACHINE LEARNING: CONCEPTS & APPLICATION)\n",
    "\n",
    "## Submitted by: Eli Guo\n",
    "## UNI: yg2869\n",
    "### Posted: 10/27/2023 | Due: 12/05/2023 by 11:59 pm"
   ]
  },
  {
   "cell_type": "markdown",
   "id": "ecd1c629-219c-4f58-9826-fc49d2120d70",
   "metadata": {
    "id": "ecd1c629-219c-4f58-9826-fc49d2120d70"
   },
   "source": [
    "## Section 1 (75 points)"
   ]
  },
  {
   "cell_type": "markdown",
   "id": "89fcc044-5198-48d1-a654-5cc77155a664",
   "metadata": {
    "id": "89fcc044-5198-48d1-a654-5cc77155a664"
   },
   "source": [
    "This dataset contains information about Citi bike rides in NYC including information about the destinations of bike rides, time of ride, distance, and activity level at different bike stations. The goal of this dataset is to predict the trip duration of the ride (make sure to remove the stop time as our goal is to predict the duration and including stop time has this information).\n",
    "- Target variable: bike ride trip duration\n",
    "\n",
    "\n",
    "\n",
    "\n",
    "\n",
    "\n"
   ]
  },
  {
   "cell_type": "code",
   "execution_count": 1,
   "id": "a4da8de5",
   "metadata": {},
   "outputs": [],
   "source": [
    "# Import necessary libraries and modules\n",
    "import pandas as pd\n",
    "import numpy as np\n",
    "import matplotlib.pyplot as plt\n",
    "import seaborn as sns\n",
    "\n",
    "from sklearn.model_selection import train_test_split\n",
    "from sklearn.preprocessing import StandardScaler\n",
    "from sklearn.metrics import mean_squared_error, mean_absolute_error, r2_score\n",
    "\n",
    "from sklearn.linear_model import LinearRegression\n",
    "from sklearn.tree import DecisionTreeRegressor\n",
    "from sklearn.ensemble import RandomForestRegressor, GradientBoostingRegressor"
   ]
  },
  {
   "cell_type": "markdown",
   "id": "o2Ie0UGB3EiV",
   "metadata": {
    "id": "o2Ie0UGB3EiV"
   },
   "source": [
    "### 1. Data preprocessing (15 points):\n",
    "- Load the dataset and select the dataset for September 2023 - https://s3.amazonaws.com/tripdata/index.html.\n",
    "\n",
    "- Check for missing values and remove them if necessary.\n",
    "- Convert the data type of features as required (e.g. datetime to timestamp)."
   ]
  },
  {
   "cell_type": "code",
   "execution_count": 2,
   "id": "ae4a94ad",
   "metadata": {},
   "outputs": [
    {
     "data": {
      "text/html": [
       "<div>\n",
       "<style scoped>\n",
       "    .dataframe tbody tr th:only-of-type {\n",
       "        vertical-align: middle;\n",
       "    }\n",
       "\n",
       "    .dataframe tbody tr th {\n",
       "        vertical-align: top;\n",
       "    }\n",
       "\n",
       "    .dataframe thead th {\n",
       "        text-align: right;\n",
       "    }\n",
       "</style>\n",
       "<table border=\"1\" class=\"dataframe\">\n",
       "  <thead>\n",
       "    <tr style=\"text-align: right;\">\n",
       "      <th></th>\n",
       "      <th>ride_id</th>\n",
       "      <th>rideable_type</th>\n",
       "      <th>started_at</th>\n",
       "      <th>ended_at</th>\n",
       "      <th>start_station_name</th>\n",
       "      <th>start_station_id</th>\n",
       "      <th>end_station_name</th>\n",
       "      <th>end_station_id</th>\n",
       "      <th>start_lat</th>\n",
       "      <th>start_lng</th>\n",
       "      <th>end_lat</th>\n",
       "      <th>end_lng</th>\n",
       "      <th>member_casual</th>\n",
       "    </tr>\n",
       "  </thead>\n",
       "  <tbody>\n",
       "    <tr>\n",
       "      <th>0</th>\n",
       "      <td>B0A0F1DEFA4B72FC</td>\n",
       "      <td>electric_bike</td>\n",
       "      <td>2023-09-03 10:20:41</td>\n",
       "      <td>2023-09-03 10:24:16</td>\n",
       "      <td>E 1 St &amp; Bowery</td>\n",
       "      <td>5636.13</td>\n",
       "      <td>E 10 St &amp; 2 Ave</td>\n",
       "      <td>5746.02</td>\n",
       "      <td>40.724861</td>\n",
       "      <td>-73.992131</td>\n",
       "      <td>40.729708</td>\n",
       "      <td>-73.986598</td>\n",
       "      <td>member</td>\n",
       "    </tr>\n",
       "    <tr>\n",
       "      <th>1</th>\n",
       "      <td>2B26AB15647BF4EE</td>\n",
       "      <td>classic_bike</td>\n",
       "      <td>2023-09-27 15:44:23</td>\n",
       "      <td>2023-09-27 15:53:25</td>\n",
       "      <td>Pearl St &amp; Hanover Square</td>\n",
       "      <td>4993.02</td>\n",
       "      <td>Allen St &amp; Rivington St</td>\n",
       "      <td>5414.06</td>\n",
       "      <td>40.704650</td>\n",
       "      <td>-74.009133</td>\n",
       "      <td>40.720196</td>\n",
       "      <td>-73.989978</td>\n",
       "      <td>member</td>\n",
       "    </tr>\n",
       "    <tr>\n",
       "      <th>2</th>\n",
       "      <td>9D2B5971CA4E513F</td>\n",
       "      <td>classic_bike</td>\n",
       "      <td>2023-09-19 13:40:48</td>\n",
       "      <td>2023-09-19 13:48:11</td>\n",
       "      <td>E 1 St &amp; Bowery</td>\n",
       "      <td>5636.13</td>\n",
       "      <td>E 10 St &amp; 2 Ave</td>\n",
       "      <td>5746.02</td>\n",
       "      <td>40.724753</td>\n",
       "      <td>-73.992116</td>\n",
       "      <td>40.729708</td>\n",
       "      <td>-73.986598</td>\n",
       "      <td>member</td>\n",
       "    </tr>\n",
       "    <tr>\n",
       "      <th>3</th>\n",
       "      <td>17E6760596DC3ABE</td>\n",
       "      <td>classic_bike</td>\n",
       "      <td>2023-09-30 16:27:50</td>\n",
       "      <td>2023-09-30 16:56:35</td>\n",
       "      <td>Central Ave &amp; Himrod St</td>\n",
       "      <td>4713.01</td>\n",
       "      <td>Mott St &amp; Prince St</td>\n",
       "      <td>5561.04</td>\n",
       "      <td>40.696706</td>\n",
       "      <td>-73.922935</td>\n",
       "      <td>40.723180</td>\n",
       "      <td>-73.994800</td>\n",
       "      <td>member</td>\n",
       "    </tr>\n",
       "    <tr>\n",
       "      <th>4</th>\n",
       "      <td>97EFF376A7E2DC70</td>\n",
       "      <td>classic_bike</td>\n",
       "      <td>2023-09-21 16:59:53</td>\n",
       "      <td>2023-09-21 17:07:36</td>\n",
       "      <td>St Marks Pl &amp; 2 Ave</td>\n",
       "      <td>5669.10</td>\n",
       "      <td>Mott St &amp; Prince St</td>\n",
       "      <td>5561.04</td>\n",
       "      <td>40.728419</td>\n",
       "      <td>-73.987140</td>\n",
       "      <td>40.723180</td>\n",
       "      <td>-73.994800</td>\n",
       "      <td>member</td>\n",
       "    </tr>\n",
       "  </tbody>\n",
       "</table>\n",
       "</div>"
      ],
      "text/plain": [
       "            ride_id  rideable_type           started_at             ended_at   \n",
       "0  B0A0F1DEFA4B72FC  electric_bike  2023-09-03 10:20:41  2023-09-03 10:24:16  \\\n",
       "1  2B26AB15647BF4EE   classic_bike  2023-09-27 15:44:23  2023-09-27 15:53:25   \n",
       "2  9D2B5971CA4E513F   classic_bike  2023-09-19 13:40:48  2023-09-19 13:48:11   \n",
       "3  17E6760596DC3ABE   classic_bike  2023-09-30 16:27:50  2023-09-30 16:56:35   \n",
       "4  97EFF376A7E2DC70   classic_bike  2023-09-21 16:59:53  2023-09-21 17:07:36   \n",
       "\n",
       "          start_station_name start_station_id         end_station_name   \n",
       "0            E 1 St & Bowery          5636.13          E 10 St & 2 Ave  \\\n",
       "1  Pearl St & Hanover Square          4993.02  Allen St & Rivington St   \n",
       "2            E 1 St & Bowery          5636.13          E 10 St & 2 Ave   \n",
       "3    Central Ave & Himrod St          4713.01      Mott St & Prince St   \n",
       "4        St Marks Pl & 2 Ave          5669.10      Mott St & Prince St   \n",
       "\n",
       "  end_station_id  start_lat  start_lng    end_lat    end_lng member_casual  \n",
       "0        5746.02  40.724861 -73.992131  40.729708 -73.986598        member  \n",
       "1        5414.06  40.704650 -74.009133  40.720196 -73.989978        member  \n",
       "2        5746.02  40.724753 -73.992116  40.729708 -73.986598        member  \n",
       "3        5561.04  40.696706 -73.922935  40.723180 -73.994800        member  \n",
       "4        5561.04  40.728419 -73.987140  40.723180 -73.994800        member  "
      ]
     },
     "execution_count": 2,
     "metadata": {},
     "output_type": "execute_result"
    }
   ],
   "source": [
    "# Read data\n",
    "df = pd.read_csv('202309-citibike-tripdata.csv', dtype={5: str, 7: str})\n",
    "\n",
    "df.head()"
   ]
  },
  {
   "cell_type": "code",
   "execution_count": 3,
   "id": "b8ad6279",
   "metadata": {},
   "outputs": [
    {
     "name": "stdout",
     "output_type": "stream",
     "text": [
      "<class 'pandas.core.frame.DataFrame'>\n",
      "RangeIndex: 3575162 entries, 0 to 3575161\n",
      "Data columns (total 13 columns):\n",
      " #   Column              Dtype  \n",
      "---  ------              -----  \n",
      " 0   ride_id             object \n",
      " 1   rideable_type       object \n",
      " 2   started_at          object \n",
      " 3   ended_at            object \n",
      " 4   start_station_name  object \n",
      " 5   start_station_id    object \n",
      " 6   end_station_name    object \n",
      " 7   end_station_id      object \n",
      " 8   start_lat           float64\n",
      " 9   start_lng           float64\n",
      " 10  end_lat             float64\n",
      " 11  end_lng             float64\n",
      " 12  member_casual       object \n",
      "dtypes: float64(4), object(9)\n",
      "memory usage: 354.6+ MB\n"
     ]
    }
   ],
   "source": [
    "df.info()"
   ]
  },
  {
   "cell_type": "code",
   "execution_count": 4,
   "id": "61553306",
   "metadata": {},
   "outputs": [
    {
     "name": "stdout",
     "output_type": "stream",
     "text": [
      "ride_id                   0\n",
      "rideable_type             0\n",
      "started_at                0\n",
      "ended_at                  0\n",
      "start_station_name     2560\n",
      "start_station_id       2560\n",
      "end_station_name      13595\n",
      "end_station_id        13595\n",
      "start_lat                 0\n",
      "start_lng                 0\n",
      "end_lat                3735\n",
      "end_lng                3735\n",
      "member_casual             0\n",
      "dtype: int64\n"
     ]
    }
   ],
   "source": [
    "# Checking for missing values in each column\n",
    "print(df.isnull().sum())"
   ]
  },
  {
   "cell_type": "code",
   "execution_count": 5,
   "id": "b18df143",
   "metadata": {},
   "outputs": [
    {
     "name": "stdout",
     "output_type": "stream",
     "text": [
      "ride_id               0.000000\n",
      "rideable_type         0.000000\n",
      "started_at            0.000000\n",
      "ended_at              0.000000\n",
      "start_station_name    0.071605\n",
      "start_station_id      0.071605\n",
      "end_station_name      0.380262\n",
      "end_station_id        0.380262\n",
      "start_lat             0.000000\n",
      "start_lng             0.000000\n",
      "end_lat               0.104471\n",
      "end_lng               0.104471\n",
      "member_casual         0.000000\n",
      "dtype: float64\n"
     ]
    }
   ],
   "source": [
    "# Percentage of missing values\n",
    "print(df.isnull().mean() * 100)"
   ]
  },
  {
   "cell_type": "code",
   "execution_count": 6,
   "id": "8ddd43db",
   "metadata": {},
   "outputs": [
    {
     "name": "stdout",
     "output_type": "stream",
     "text": [
      "(3560331, 13)\n"
     ]
    }
   ],
   "source": [
    "# Remove rows with missing values\n",
    "df = df.dropna()\n",
    "\n",
    "print(df.shape)"
   ]
  },
  {
   "cell_type": "code",
   "execution_count": 7,
   "id": "a64205c7",
   "metadata": {},
   "outputs": [],
   "source": [
    "# Convert 'started_at' to datetime format\n",
    "df['started_at'] = pd.to_datetime(df['started_at'])\n",
    "\n",
    "# Convert 'ended_at' to datetime format\n",
    "df['ended_at'] = pd.to_datetime(df['ended_at'])"
   ]
  },
  {
   "cell_type": "markdown",
   "id": "Smdr5LrF3GYW",
   "metadata": {
    "id": "Smdr5LrF3GYW"
   },
   "source": [
    "### 2. Feature engineering (20 points):\n",
    "\n",
    "- Create a new feature called `ride_time` that calculates the time of the day when the ride occurred (morning, afternoon, evening, or night).\n",
    "\n",
    "- Create a new feature called `trip_duration` that calculates the duration of the ride in minutes."
   ]
  },
  {
   "cell_type": "code",
   "execution_count": 8,
   "id": "211a60c5",
   "metadata": {},
   "outputs": [],
   "source": [
    "# Function to categorize the time of day\n",
    "def categorize_time_of_day(hour):\n",
    "    if 6 <= hour < 12:\n",
    "        return 'morning'\n",
    "    elif 12 <= hour < 18:\n",
    "        return 'afternoon'\n",
    "    elif 18 <= hour < 24:\n",
    "        return 'evening'\n",
    "    else:\n",
    "        return 'night'\n",
    "\n",
    "# Apply function to create 'ride_time' feature\n",
    "df['ride_time'] = df['started_at'].dt.hour.apply(categorize_time_of_day)\n",
    "\n",
    "# Calculate trip duration in minutes and create 'trip_duration' feature\n",
    "df['trip_duration'] = (df['ended_at'] - df['started_at']).dt.total_seconds() / 60"
   ]
  },
  {
   "cell_type": "code",
   "execution_count": 9,
   "id": "6c4d9c26",
   "metadata": {},
   "outputs": [],
   "source": [
    "# Define the Haversine formula to calculate distance between two lat-lng points\n",
    "def haversine(lat1, lon1, lat2, lon2):\n",
    "    # Convert latitude and longitude from degrees to radians\n",
    "    lat1, lon1, lat2, lon2 = map(np.radians, [lat1, lon1, lat2, lon2])\n",
    "\n",
    "    # Haversine formula\n",
    "    dlat = lat2 - lat1 \n",
    "    dlon = lon2 - lon1 \n",
    "    a = np.sin(dlat/2)**2 + np.cos(lat1) * np.cos(lat2) * np.sin(dlon/2)**2\n",
    "    c = 2 * np.arcsin(np.sqrt(a)) \n",
    "    r = 6371 # Radius of earth in kilometers. Use 3956 for miles\n",
    "    return c * r\n",
    "\n",
    "# Calculate the distance and add it as a new column\n",
    "df['ride_distance'] = haversine(df['start_lat'], df['start_lng'], df['end_lat'], df['end_lng'])"
   ]
  },
  {
   "cell_type": "code",
   "execution_count": 10,
   "id": "95e3766d",
   "metadata": {},
   "outputs": [
    {
     "data": {
      "text/html": [
       "<div>\n",
       "<style scoped>\n",
       "    .dataframe tbody tr th:only-of-type {\n",
       "        vertical-align: middle;\n",
       "    }\n",
       "\n",
       "    .dataframe tbody tr th {\n",
       "        vertical-align: top;\n",
       "    }\n",
       "\n",
       "    .dataframe thead th {\n",
       "        text-align: right;\n",
       "    }\n",
       "</style>\n",
       "<table border=\"1\" class=\"dataframe\">\n",
       "  <thead>\n",
       "    <tr style=\"text-align: right;\">\n",
       "      <th></th>\n",
       "      <th>ride_id</th>\n",
       "      <th>rideable_type</th>\n",
       "      <th>started_at</th>\n",
       "      <th>ended_at</th>\n",
       "      <th>start_station_name</th>\n",
       "      <th>start_station_id</th>\n",
       "      <th>end_station_name</th>\n",
       "      <th>end_station_id</th>\n",
       "      <th>start_lat</th>\n",
       "      <th>start_lng</th>\n",
       "      <th>end_lat</th>\n",
       "      <th>end_lng</th>\n",
       "      <th>member_casual</th>\n",
       "      <th>ride_time</th>\n",
       "      <th>trip_duration</th>\n",
       "      <th>ride_distance</th>\n",
       "    </tr>\n",
       "  </thead>\n",
       "  <tbody>\n",
       "    <tr>\n",
       "      <th>0</th>\n",
       "      <td>B0A0F1DEFA4B72FC</td>\n",
       "      <td>electric_bike</td>\n",
       "      <td>2023-09-03 10:20:41</td>\n",
       "      <td>2023-09-03 10:24:16</td>\n",
       "      <td>E 1 St &amp; Bowery</td>\n",
       "      <td>5636.13</td>\n",
       "      <td>E 10 St &amp; 2 Ave</td>\n",
       "      <td>5746.02</td>\n",
       "      <td>40.724861</td>\n",
       "      <td>-73.992131</td>\n",
       "      <td>40.729708</td>\n",
       "      <td>-73.986598</td>\n",
       "      <td>member</td>\n",
       "      <td>morning</td>\n",
       "      <td>3.583333</td>\n",
       "      <td>0.712654</td>\n",
       "    </tr>\n",
       "    <tr>\n",
       "      <th>1</th>\n",
       "      <td>2B26AB15647BF4EE</td>\n",
       "      <td>classic_bike</td>\n",
       "      <td>2023-09-27 15:44:23</td>\n",
       "      <td>2023-09-27 15:53:25</td>\n",
       "      <td>Pearl St &amp; Hanover Square</td>\n",
       "      <td>4993.02</td>\n",
       "      <td>Allen St &amp; Rivington St</td>\n",
       "      <td>5414.06</td>\n",
       "      <td>40.704650</td>\n",
       "      <td>-74.009133</td>\n",
       "      <td>40.720196</td>\n",
       "      <td>-73.989978</td>\n",
       "      <td>member</td>\n",
       "      <td>afternoon</td>\n",
       "      <td>9.033333</td>\n",
       "      <td>2.365258</td>\n",
       "    </tr>\n",
       "    <tr>\n",
       "      <th>2</th>\n",
       "      <td>9D2B5971CA4E513F</td>\n",
       "      <td>classic_bike</td>\n",
       "      <td>2023-09-19 13:40:48</td>\n",
       "      <td>2023-09-19 13:48:11</td>\n",
       "      <td>E 1 St &amp; Bowery</td>\n",
       "      <td>5636.13</td>\n",
       "      <td>E 10 St &amp; 2 Ave</td>\n",
       "      <td>5746.02</td>\n",
       "      <td>40.724753</td>\n",
       "      <td>-73.992116</td>\n",
       "      <td>40.729708</td>\n",
       "      <td>-73.986598</td>\n",
       "      <td>member</td>\n",
       "      <td>afternoon</td>\n",
       "      <td>7.383333</td>\n",
       "      <td>0.720939</td>\n",
       "    </tr>\n",
       "    <tr>\n",
       "      <th>3</th>\n",
       "      <td>17E6760596DC3ABE</td>\n",
       "      <td>classic_bike</td>\n",
       "      <td>2023-09-30 16:27:50</td>\n",
       "      <td>2023-09-30 16:56:35</td>\n",
       "      <td>Central Ave &amp; Himrod St</td>\n",
       "      <td>4713.01</td>\n",
       "      <td>Mott St &amp; Prince St</td>\n",
       "      <td>5561.04</td>\n",
       "      <td>40.696706</td>\n",
       "      <td>-73.922935</td>\n",
       "      <td>40.723180</td>\n",
       "      <td>-73.994800</td>\n",
       "      <td>member</td>\n",
       "      <td>afternoon</td>\n",
       "      <td>28.750000</td>\n",
       "      <td>6.734791</td>\n",
       "    </tr>\n",
       "    <tr>\n",
       "      <th>4</th>\n",
       "      <td>97EFF376A7E2DC70</td>\n",
       "      <td>classic_bike</td>\n",
       "      <td>2023-09-21 16:59:53</td>\n",
       "      <td>2023-09-21 17:07:36</td>\n",
       "      <td>St Marks Pl &amp; 2 Ave</td>\n",
       "      <td>5669.10</td>\n",
       "      <td>Mott St &amp; Prince St</td>\n",
       "      <td>5561.04</td>\n",
       "      <td>40.728419</td>\n",
       "      <td>-73.987140</td>\n",
       "      <td>40.723180</td>\n",
       "      <td>-73.994800</td>\n",
       "      <td>member</td>\n",
       "      <td>afternoon</td>\n",
       "      <td>7.716667</td>\n",
       "      <td>0.869534</td>\n",
       "    </tr>\n",
       "  </tbody>\n",
       "</table>\n",
       "</div>"
      ],
      "text/plain": [
       "            ride_id  rideable_type          started_at            ended_at   \n",
       "0  B0A0F1DEFA4B72FC  electric_bike 2023-09-03 10:20:41 2023-09-03 10:24:16  \\\n",
       "1  2B26AB15647BF4EE   classic_bike 2023-09-27 15:44:23 2023-09-27 15:53:25   \n",
       "2  9D2B5971CA4E513F   classic_bike 2023-09-19 13:40:48 2023-09-19 13:48:11   \n",
       "3  17E6760596DC3ABE   classic_bike 2023-09-30 16:27:50 2023-09-30 16:56:35   \n",
       "4  97EFF376A7E2DC70   classic_bike 2023-09-21 16:59:53 2023-09-21 17:07:36   \n",
       "\n",
       "          start_station_name start_station_id         end_station_name   \n",
       "0            E 1 St & Bowery          5636.13          E 10 St & 2 Ave  \\\n",
       "1  Pearl St & Hanover Square          4993.02  Allen St & Rivington St   \n",
       "2            E 1 St & Bowery          5636.13          E 10 St & 2 Ave   \n",
       "3    Central Ave & Himrod St          4713.01      Mott St & Prince St   \n",
       "4        St Marks Pl & 2 Ave          5669.10      Mott St & Prince St   \n",
       "\n",
       "  end_station_id  start_lat  start_lng    end_lat    end_lng member_casual   \n",
       "0        5746.02  40.724861 -73.992131  40.729708 -73.986598        member  \\\n",
       "1        5414.06  40.704650 -74.009133  40.720196 -73.989978        member   \n",
       "2        5746.02  40.724753 -73.992116  40.729708 -73.986598        member   \n",
       "3        5561.04  40.696706 -73.922935  40.723180 -73.994800        member   \n",
       "4        5561.04  40.728419 -73.987140  40.723180 -73.994800        member   \n",
       "\n",
       "   ride_time  trip_duration  ride_distance  \n",
       "0    morning       3.583333       0.712654  \n",
       "1  afternoon       9.033333       2.365258  \n",
       "2  afternoon       7.383333       0.720939  \n",
       "3  afternoon      28.750000       6.734791  \n",
       "4  afternoon       7.716667       0.869534  "
      ]
     },
     "execution_count": 10,
     "metadata": {},
     "output_type": "execute_result"
    }
   ],
   "source": [
    "df.head()"
   ]
  },
  {
   "cell_type": "markdown",
   "id": "xLteaIn93ICw",
   "metadata": {
    "id": "xLteaIn93ICw"
   },
   "source": [
    "### 3. Model training and testing (25 points):\n",
    "- Split the dataset into training and testing sets.\n",
    "- Train a linear regression model to predict the trip duration.\n",
    "- Train a decision tree regressor model to predict the trip duration.\n",
    "- Train a random forest regressor model to predict the trip duration.\n",
    "- Evaluate the models using the mean squared error, mean absolute error, and R-squared\n",
    "metrics.\n",
    "- Determine which model performs the best and select it as the final model."
   ]
  },
  {
   "cell_type": "code",
   "execution_count": 11,
   "id": "6e0e4219",
   "metadata": {},
   "outputs": [
    {
     "data": {
      "text/html": [
       "<div>\n",
       "<style scoped>\n",
       "    .dataframe tbody tr th:only-of-type {\n",
       "        vertical-align: middle;\n",
       "    }\n",
       "\n",
       "    .dataframe tbody tr th {\n",
       "        vertical-align: top;\n",
       "    }\n",
       "\n",
       "    .dataframe thead th {\n",
       "        text-align: right;\n",
       "    }\n",
       "</style>\n",
       "<table border=\"1\" class=\"dataframe\">\n",
       "  <thead>\n",
       "    <tr style=\"text-align: right;\">\n",
       "      <th></th>\n",
       "      <th>start_lat</th>\n",
       "      <th>start_lng</th>\n",
       "      <th>end_lat</th>\n",
       "      <th>end_lng</th>\n",
       "      <th>ride_distance</th>\n",
       "      <th>rideable_type_electric_bike</th>\n",
       "      <th>member_casual_member</th>\n",
       "      <th>ride_time_evening</th>\n",
       "      <th>ride_time_morning</th>\n",
       "      <th>ride_time_night</th>\n",
       "    </tr>\n",
       "  </thead>\n",
       "  <tbody>\n",
       "    <tr>\n",
       "      <th>0</th>\n",
       "      <td>-0.345493</td>\n",
       "      <td>-0.696998</td>\n",
       "      <td>-0.222666</td>\n",
       "      <td>-0.500684</td>\n",
       "      <td>-0.675146</td>\n",
       "      <td>1</td>\n",
       "      <td>1</td>\n",
       "      <td>0</td>\n",
       "      <td>1</td>\n",
       "      <td>0</td>\n",
       "    </tr>\n",
       "    <tr>\n",
       "      <th>1</th>\n",
       "      <td>-0.837800</td>\n",
       "      <td>-1.292924</td>\n",
       "      <td>-0.454536</td>\n",
       "      <td>-0.618938</td>\n",
       "      <td>0.236112</td>\n",
       "      <td>0</td>\n",
       "      <td>1</td>\n",
       "      <td>0</td>\n",
       "      <td>0</td>\n",
       "      <td>0</td>\n",
       "    </tr>\n",
       "    <tr>\n",
       "      <th>2</th>\n",
       "      <td>-0.348123</td>\n",
       "      <td>-0.696459</td>\n",
       "      <td>-0.222666</td>\n",
       "      <td>-0.500684</td>\n",
       "      <td>-0.670577</td>\n",
       "      <td>0</td>\n",
       "      <td>1</td>\n",
       "      <td>0</td>\n",
       "      <td>0</td>\n",
       "      <td>0</td>\n",
       "    </tr>\n",
       "    <tr>\n",
       "      <th>3</th>\n",
       "      <td>-1.031292</td>\n",
       "      <td>1.728476</td>\n",
       "      <td>-0.381803</td>\n",
       "      <td>-0.787624</td>\n",
       "      <td>2.645505</td>\n",
       "      <td>0</td>\n",
       "      <td>1</td>\n",
       "      <td>0</td>\n",
       "      <td>0</td>\n",
       "      <td>0</td>\n",
       "    </tr>\n",
       "    <tr>\n",
       "      <th>4</th>\n",
       "      <td>-0.258842</td>\n",
       "      <td>-0.522026</td>\n",
       "      <td>-0.381803</td>\n",
       "      <td>-0.787624</td>\n",
       "      <td>-0.588641</td>\n",
       "      <td>0</td>\n",
       "      <td>1</td>\n",
       "      <td>0</td>\n",
       "      <td>0</td>\n",
       "      <td>0</td>\n",
       "    </tr>\n",
       "  </tbody>\n",
       "</table>\n",
       "</div>"
      ],
      "text/plain": [
       "   start_lat  start_lng   end_lat   end_lng  ride_distance   \n",
       "0  -0.345493  -0.696998 -0.222666 -0.500684      -0.675146  \\\n",
       "1  -0.837800  -1.292924 -0.454536 -0.618938       0.236112   \n",
       "2  -0.348123  -0.696459 -0.222666 -0.500684      -0.670577   \n",
       "3  -1.031292   1.728476 -0.381803 -0.787624       2.645505   \n",
       "4  -0.258842  -0.522026 -0.381803 -0.787624      -0.588641   \n",
       "\n",
       "   rideable_type_electric_bike  member_casual_member  ride_time_evening   \n",
       "0                            1                     1                  0  \\\n",
       "1                            0                     1                  0   \n",
       "2                            0                     1                  0   \n",
       "3                            0                     1                  0   \n",
       "4                            0                     1                  0   \n",
       "\n",
       "   ride_time_morning  ride_time_night  \n",
       "0                  1                0  \n",
       "1                  0                0  \n",
       "2                  0                0  \n",
       "3                  0                0  \n",
       "4                  0                0  "
      ]
     },
     "execution_count": 11,
     "metadata": {},
     "output_type": "execute_result"
    }
   ],
   "source": [
    "# Selecting relevant features and target variable\n",
    "features = df[['rideable_type', 'start_lat', 'start_lng', 'end_lat', 'end_lng', 'member_casual', 'ride_time', 'ride_distance']].copy()\n",
    "target = df['trip_duration']\n",
    "\n",
    "# Update the list of numeric features to include 'ride_distance'\n",
    "numeric_features = ['start_lat', 'start_lng', 'end_lat', 'end_lng', 'ride_distance']\n",
    "\n",
    "# Standardizing numeric features\n",
    "scaler = StandardScaler()\n",
    "features[numeric_features] = scaler.fit_transform(features[numeric_features])\n",
    "\n",
    "# Apply get_dummies to the categorical variables\n",
    "features_encoded = pd.get_dummies(features, columns=['rideable_type', 'member_casual', 'ride_time'], drop_first=True, dtype=int)\n",
    "\n",
    "# Display the first few rows of the encoded features\n",
    "features_encoded.head()"
   ]
  },
  {
   "cell_type": "code",
   "execution_count": 12,
   "id": "056d5012",
   "metadata": {},
   "outputs": [
    {
     "data": {
      "image/png": "[encoded data removed]",
      "text/plain": [
       "<Figure size 800x600 with 2 Axes>"
      ]
     },
     "metadata": {},
     "output_type": "display_data"
    }
   ],
   "source": [
    "# Combine features and target into a single DataFrame\n",
    "combined_data = pd.concat([features_encoded, target], axis=1)\n",
    "\n",
    "# Calculate the correlation matrix\n",
    "corr_matrix = combined_data.corr()\n",
    "\n",
    "# Plot the heatmap\n",
    "plt.figure(figsize=(8, 6))\n",
    "sns.heatmap(corr_matrix, annot=True, fmt='.2f', cmap='coolwarm')\n",
    "plt.title('Correlation Matrix Heatmap')\n",
    "plt.show()"
   ]
  },
  {
   "cell_type": "markdown",
   "id": "2f782b34",
   "metadata": {},
   "source": [
    "**Observations:**\n",
    "\n",
    "The correlation heatmap presented indicates the degree to which various features in the dataset might predict the target variable, which in this case is `trip_duration`. The latitude and longitude features (`start_lat`, `start_lng`, `end_lat`, `end_lng`) are highly correlated with one another, which is expected given their geographical nature, but they show only a slight correlation with `trip_duration`. This suggests that while the start and end points of a trip provide some contextual data, they are not strong indicators of how long the trip will take. The `ride_distance` feature, surprisingly, has a very low correlation with `trip_duration`. Typically, one would expect the distance of the ride to be a significant predictor of duration, but the data does not seem to support this assumption strongly.\n",
    "\n",
    "Looking at the categorical features, `rideable_type_electric_bike` and `member_casual_member`, both show a very low correlation with `trip_duration`. This could imply that the type of bike used and whether the rider is a casual user or a member don't play a major role in the duration of the trip. The time of the ride (`ride_time_evening`, `ride_time_morning`, `ride_time_night`) also seems to have a negligible correlation with the duration, indicating that the time of day the trip is taken has little effect on how long it will last.\n",
    "\n",
    "Overall, the heatmap reveals that the features included in the dataset may not have a strong predictive relationship with `trip_duration`. Since machine learning models rely on finding patterns in the features that correlate with the target variable, the absence of strong correlations in this data suggests that the models might struggle to make accurate predictions. The weak relationships indicated by the heatmap would lead to models that do not generalize well, resulting in low accuracy when making predictions about `trip duration`."
   ]
  },
  {
   "cell_type": "code",
   "execution_count": 13,
   "id": "c0acfb2f",
   "metadata": {},
   "outputs": [],
   "source": [
    "# Splitting the dataset\n",
    "X_train, X_test, y_train, y_test = train_test_split(features_encoded, target, test_size=0.2, random_state=42)"
   ]
  },
  {
   "cell_type": "code",
   "execution_count": 14,
   "id": "0f85fd1d",
   "metadata": {},
   "outputs": [
    {
     "name": "stdout",
     "output_type": "stream",
     "text": [
      "Linear Regression:\n",
      " MSE: 1002.9090587468514, MAE: 7.053185570549262, R²: 0.055150762273978526\n",
      "\n"
     ]
    }
   ],
   "source": [
    "# Train a Linear Regression model\n",
    "lr_model = LinearRegression()\n",
    "lr_model.fit(X_train, y_train)\n",
    "\n",
    "# Predict and evaluate the model\n",
    "y_pred_lr = lr_model.predict(X_test)\n",
    "mse_lr = mean_squared_error(y_test, y_pred_lr)\n",
    "mae_lr = mean_absolute_error(y_test, y_pred_lr)\n",
    "r2_lr = r2_score(y_test, y_pred_lr)\n",
    "\n",
    "print(f\"Linear Regression:\\n MSE: {mse_lr}, MAE: {mae_lr}, R²: {r2_lr}\\n\")"
   ]
  },
  {
   "cell_type": "code",
   "execution_count": 15,
   "id": "9954bc08",
   "metadata": {},
   "outputs": [
    {
     "name": "stdout",
     "output_type": "stream",
     "text": [
      "Decision Tree:\n",
      " MSE: 1630.915583141452, MAE: 7.982798695038595, R²: -0.5364995779898061\n",
      "\n"
     ]
    }
   ],
   "source": [
    "# Train a Decision Tree Regressor\n",
    "dt_model = DecisionTreeRegressor(random_state=42)\n",
    "dt_model.fit(X_train, y_train)\n",
    "\n",
    "# Predict and evaluate the model\n",
    "y_pred_dt = dt_model.predict(X_test)\n",
    "mse_dt = mean_squared_error(y_test, y_pred_dt)\n",
    "mae_dt = mean_absolute_error(y_test, y_pred_dt)\n",
    "r2_dt = r2_score(y_test, y_pred_dt)\n",
    "\n",
    "print(f\"Decision Tree:\\n MSE: {mse_dt}, MAE: {mae_dt}, R²: {r2_dt}\\n\")"
   ]
  },
  {
   "cell_type": "code",
   "execution_count": 16,
   "id": "b16d7ee0",
   "metadata": {},
   "outputs": [
    {
     "name": "stdout",
     "output_type": "stream",
     "text": [
      "Random Forest:\n",
      " MSE: 1144.1440123765517, MAE: 6.9512203044662755, R²: -0.07790790053642094\n",
      "\n"
     ]
    }
   ],
   "source": [
    "# Train a Random Forest Regressor\n",
    "rf_model = RandomForestRegressor(random_state=42)\n",
    "rf_model.fit(X_train, y_train)\n",
    "\n",
    "# Predict and evaluate the model\n",
    "y_pred_rf = rf_model.predict(X_test)\n",
    "mse_rf = mean_squared_error(y_test, y_pred_rf)\n",
    "mae_rf = mean_absolute_error(y_test, y_pred_rf)\n",
    "r2_rf = r2_score(y_test, y_pred_rf)\n",
    "\n",
    "print(f\"Random Forest:\\n MSE: {mse_rf}, MAE: {mae_rf}, R²: {r2_rf}\\n\")"
   ]
  },
  {
   "cell_type": "markdown",
   "id": "cc82a121",
   "metadata": {},
   "source": [
    "**Which model performs the best?**\n",
    "\n",
    "Analyzing the results from the three different models, it's clear that each model has its strengths and weaknesses, but overall, the Linear Regression model appears to perform the best for this particular dataset and prediction task. The primary metrics for evaluation are Mean Squared Error (MSE), Mean Absolute Error (MAE), and R-squared (R²).\n",
    "\n",
    "Starting with the Linear Regression model, it achieved an MSE of 1002.91, an MAE of 7.05, and an R² of 0.055. While the R² value is relatively low, indicating that the model explains only a small fraction of the variance in the trip duration, it is still positive and higher than those of the other two models. The MSE and MAE values are also the lowest among the three models, suggesting that, on average, the Linear Regression model's predictions are closer to the actual values.\n",
    "\n",
    "The Decision Tree model, on the other hand, showed a significantly higher MSE (1630.92) and a slightly higher MAE (7.98), along with a negative R² value (-0.536). This negative R² indicates that the model is performing worse than a simple horizontal line drawn at the mean of the target variable. Such a result can occur with decision trees when they overfit the training data, capturing noise instead of the underlying data pattern.\n",
    "\n",
    "Similarly, the Random Forest model, despite being a more complex and usually more powerful model, did not perform well in this case. It showed an MSE of 1144.14, an MAE of 6.95, and a negative R² value (-0.078). The negative R² again suggests that the model's predictions are generally worse than the simple mean of the data. While Random Forests are typically less prone to overfitting than individual decision trees, the negative R² might indicate that the model complexity could be too high for this data, or essential explanatory variables are missing or improperly processed.\n",
    "\n",
    "In conclusion, while none of the models show particularly strong predictive power (as indicated by the low or negative R² values), the Linear Regression model performs the best among the three. It has the lowest MSE and MAE, and its R², while modest, is positive. This suggests that for this dataset, a simpler model like Linear Regression is more suitable than more complex models like Decision Trees or Random Forests. However, the overall low performance across all models indicates that there may be limitations in the available data or feature selection and engineering, and further investigation and refinement might be necessary to improve predictive accuracy."
   ]
  },
  {
   "cell_type": "markdown",
   "id": "d8b0b4da",
   "metadata": {},
   "source": [
    "**Why all the models underperform?**\n",
    "\n",
    "The analysis of the model performances aligns with the insights from the correlation heatmap. The Linear Regression model, which assumes that there is a linear relationship between the features and the target variable, could not find a strong signal in the features due to their weak correlations with `trip_duration`. This is reflected in the model's low R-squared value, which suggests that only a small fraction of the variability in trip duration is being captured by the model. The Decision Tree and Random Forest models, which are capable of capturing non-linear relationships, also performed poorly. The negative R-squared values from these models suggest that they are not only failing to fit the data but are performing worse than a model that would simply predict the mean trip duration for all observations. This further indicates that the features provided do not have enough predictive power, and the models are likely overfitting to noise rather than underlying data patterns. The lack of strong, informative predictors is a probable cause for the models' inability to accurately forecast trip durations. This points to a need for more relevant features that could better encapsulate the factors influencing trip duration, such as traffic conditions, rider behavior, and route specifics, which were not included in the current dataset."
   ]
  },
  {
   "cell_type": "markdown",
   "id": "emyVC4lw3K6y",
   "metadata": {
    "id": "emyVC4lw3K6y"
   },
   "source": [
    "### 4. Design your own model (15 points):\n",
    "- Based on the information you have learnt from the previous part, devise and implement\n",
    "your own appropriate model for this dataset. Evaluate the model using the MSE, and R-squared metrics.\n",
    "      \n",
    "- Explain in detail why you have picked this particular model, and its advantages and disadvantages over other models."
   ]
  },
  {
   "cell_type": "markdown",
   "id": "058a725a",
   "metadata": {},
   "source": [
    "Given the context of the dataset and the low predictive power of the features used in the previous models, it might be beneficial to approach the problem with a model that can capture complex patterns and interactions between features more effectively. Considering this, a **Gradient Boosting Regressor** could be a suitable choice.\n",
    "\n",
    "Gradient Boosting Regressor is an ensemble learning technique that builds multiple decision trees sequentially, with each new tree attempting to correct the errors of the previous ones. This model is particularly adept at handling a variety of data types and distributions, and it can uncover complex relationships in the data.\n",
    "\n",
    "The **advantages** of using a Gradient Boosting Regressor include its flexibility and power in capturing complex patterns and interactions between variables, which might not be possible with simpler linear models. It is also less prone to overfitting, especially with the right choice of parameters like the number of trees, depth of trees, and learning rate.\n",
    "\n",
    "However, there are **disadvantages** as well. Gradient Boosting can be computationally expensive and time-consuming to train, especially with large datasets. It also requires careful tuning of several hyperparameters to prevent overfitting and to optimize performance. Moreover, like other complex models, it can be less interpretable than simpler models like linear regression.\n",
    "\n",
    "Considering the low predictability of the features in the dataset, Gradient Boosting offers a way to extract as much information as possible from the available data. Its ability to model complex relationships could potentially uncover subtle patterns that simpler models might miss, which could be beneficial given the challenging nature of the prediction task at hand.\n",
    "\n",
    "The implementation of the Gradient Boosting Regressor model in Python can be done using Scikit-Learn's `GradientBoostingRegressor` class:"
   ]
  },
  {
   "cell_type": "code",
   "execution_count": 17,
   "id": "5b139cf8",
   "metadata": {},
   "outputs": [
    {
     "name": "stdout",
     "output_type": "stream",
     "text": [
      "Gradient Boosting Regressor:\n",
      " MSE: 995.8449672544531, R²: 0.061805903538889706\n",
      "\n"
     ]
    }
   ],
   "source": [
    "# Train a Gradient Boosting Regressor model\n",
    "gbr_model = GradientBoostingRegressor(random_state=42)\n",
    "gbr_model.fit(X_train, y_train)\n",
    "\n",
    "# Predict and evaluate the model\n",
    "y_pred_gbr = gbr_model.predict(X_test)\n",
    "mse_gbr = mean_squared_error(y_test, y_pred_gbr)\n",
    "r2_gbr = r2_score(y_test, y_pred_gbr)\n",
    "\n",
    "print(f\"Gradient Boosting Regressor:\\n MSE: {mse_gbr}, R²: {r2_gbr}\\n\")"
   ]
  },
  {
   "cell_type": "markdown",
   "id": "4449c9ef",
   "metadata": {},
   "source": [
    "The Gradient Boosting Regressor's performance, indicated by an MSE of 995.84 and an R² of 0.0618, shows a slight improvement over the previously tested models. Compared to the Linear Regression, Decision Tree, and Random Forest models, the Gradient Boosting Regressor achieved a marginally lower Mean Squared Error (MSE) and a slightly higher R-squared (R²) value. This suggests that it was more effective in capturing the complex patterns in the dataset, albeit the improvement is modest. The small increase in R² indicates that while the Gradient Boosting model was able to explain a slightly higher proportion of the variance in trip duration, the overall predictive power of the features remains limited. This aligns with the previous observation that the features in the dataset might inherently have low predictability for the target variable."
   ]
  },
  {
   "cell_type": "markdown",
   "id": "x5Tjg75kklHv",
   "metadata": {
    "id": "x5Tjg75kklHv"
   },
   "source": [
    "# Section 2 (100 points)\n",
    "\n",
    "# Species Classification using Convolutional Neural Networks\n",
    "\n",
    "In this section, you will build your own Deep Learning Model for \"Species Labeling\".\n",
    "\n",
    "There are a total of 204 species, each of which is labeled with a distinct `category_id` in the `categories.csv` file.\n",
    "\n",
    "The `train_dir` directory consists of 10000 animal JPEG images from these 204 categories.\n",
    "\n",
    "The `annotations.csv` file contains a mapping between each image found in `train_dir` and its `category_id`.\n",
    "\n",
    "## Part 1 - Loading the data"
   ]
  },
  {
   "cell_type": "markdown",
   "id": "s2hg8QMwh_HR",
   "metadata": {
    "id": "s2hg8QMwh_HR"
   },
   "source": [
    "## Question 10 (10 points)\n",
    "\n",
    "Read the `annotations.csv` file using `pandas`/`csv` libraries in Python. Use the `image_id` label found in each record in the CSV file to locate the image in `train_dir`.\n",
    "\n",
    "Note, the first 10000 records in the `annotations.csv` file can be found in `train_dir`. Rest of the records should be ignored.\n",
    "\n",
    "Use the `cv2` library in Python to read the images and resize them to `(32, 32)` pixels. Append these resized images to the `images` list. Additionally, the `category_id` for these images should be appended into `labels` list.\n",
    "\n",
    "Make sure to cast these arrays into numpy arrays."
   ]
  },
  {
   "cell_type": "code",
   "execution_count": 18,
   "id": "2EX42ZOrb08M",
   "metadata": {
    "id": "2EX42ZOrb08M"
   },
   "outputs": [],
   "source": [
    "import csv\n",
    "import cv2\n",
    "import os\n",
    "import numpy as np\n",
    "\n",
    "TRAIN_DIR = 'train_dir'\n",
    "\n",
    "# Initialize lists to store the images and labels\n",
    "images = []\n",
    "labels = []\n",
    "\n",
    "# Read the CSV file using pandas\n",
    "annotations = pd.read_csv('annotations.csv')\n",
    "\n",
    "# Process the first 10000 records\n",
    "for index, row in annotations.iterrows():\n",
    "    if index < 10000:\n",
    "        # Construct the path to the image\n",
    "        image_path = os.path.join(TRAIN_DIR, row['image_id'] + '.jpg')\n",
    "\n",
    "        # Read and resize the image\n",
    "        image = cv2.imread(image_path)\n",
    "        resized_image = cv2.resize(image, (32, 32))\n",
    "\n",
    "        # Append the resized image and its label to the respective lists\n",
    "        images.append(resized_image)\n",
    "        labels.append(row['category_id'])\n",
    "\n",
    "    else:\n",
    "        # Ignore records beyond the first 10000\n",
    "        break\n",
    "\n",
    "# Convert the lists to numpy arrays\n",
    "images_np = np.array(images)\n",
    "labels_np = np.array(labels)"
   ]
  },
  {
   "cell_type": "markdown",
   "id": "3edchorvmIdF",
   "metadata": {
    "id": "3edchorvmIdF"
   },
   "source": [
    "## Question 11 (5 points)\n",
    "\n",
    "Use the `matplotlib` package and visualize the first 9 images in a `3x3` grid."
   ]
  },
  {
   "cell_type": "code",
   "execution_count": 19,
   "id": "R7F-_vZpmI62",
   "metadata": {
    "id": "R7F-_vZpmI62"
   },
   "outputs": [
    {
     "data": {
      "image/png": "[encoded data removed]",
      "text/plain": [
       "<Figure size 1000x1000 with 9 Axes>"
      ]
     },
     "metadata": {},
     "output_type": "display_data"
    }
   ],
   "source": [
    "# Create a 3x3 grid of subplots\n",
    "fig, axes = plt.subplots(3, 3, figsize=(10, 10))\n",
    "\n",
    "# Flatten the array of axes for easy indexing\n",
    "axes = axes.flatten()\n",
    "\n",
    "# Loop through the first 9 images\n",
    "for i in range(9):\n",
    "    # Select the subplot to plot on\n",
    "    ax = axes[i]\n",
    "\n",
    "    # Plot the image\n",
    "    ax.imshow(images_np[i])\n",
    "\n",
    "    # Optionally, add a title with the label\n",
    "    ax.set_title(f'Label: {labels_np[i]}')\n",
    "\n",
    "    # Remove axis ticks\n",
    "    ax.set_xticks([])\n",
    "    ax.set_yticks([])\n",
    "\n",
    "# Adjust layout to prevent overlap\n",
    "plt.tight_layout()\n",
    "\n",
    "# Display the plot\n",
    "plt.show()"
   ]
  },
  {
   "cell_type": "markdown",
   "id": "zkXVEVSHkt-4",
   "metadata": {
    "id": "zkXVEVSHkt-4"
   },
   "source": [
    "## Part 2 - Building your Convolutional Neural Network\n",
    "\n",
    "In this part, you will build your own CNN using the Keras API for species classification."
   ]
  },
  {
   "cell_type": "markdown",
   "id": "k519GkMathD3",
   "metadata": {
    "id": "k519GkMathD3"
   },
   "source": [
    "## Question 12\n",
    "\n",
    "In this part, we will use the `keras` library to build a Convolutional Neural Network classifier for species identification.\n",
    "\n",
    "Please don't remove the following code snippet, it will ensure that your outputs match with the answer key.\n",
    "\n",
    "Note: All the required APIs for this exercise have been imported for you."
   ]
  },
  {
   "cell_type": "code",
   "execution_count": 20,
   "id": "XpUd07AftOoe",
   "metadata": {
    "id": "XpUd07AftOoe"
   },
   "outputs": [],
   "source": [
    "import tensorflow as tf\n",
    "\n",
    "tf.keras.utils.set_random_seed(10) # Please don't remove\n",
    "np.random.seed(921)\n",
    "\n",
    "from tensorflow.keras.utils import to_categorical\n",
    "from keras.models import Sequential\n",
    "from keras.layers import Convolution2D, Dense, MaxPool2D, Activation, Dropout, \\\n",
    "                         Flatten\n",
    "from tensorflow.keras.optimizers import Adam\n",
    "from sklearn.model_selection import train_test_split\n",
    "from sklearn.metrics import f1_score\n",
    "from tensorflow.keras.layers import BatchNormalization"
   ]
  },
  {
   "cell_type": "markdown",
   "id": "Sym4ykCej8zb",
   "metadata": {
    "id": "Sym4ykCej8zb"
   },
   "source": [
    "## Question 12.1 (10 points)\n",
    "\n",
    "Rename the `train_images, train_labels, test_images, test_labels` variables to `X_train, y_train, X_test, y_test` and set the type of `y_train` and `y_test` as `int`. Please use a `train set:test set` ratio of `80:20`."
   ]
  },
  {
   "cell_type": "code",
   "execution_count": 21,
   "id": "jc7Fuaf-y9Mw",
   "metadata": {
    "id": "jc7Fuaf-y9Mw"
   },
   "outputs": [],
   "source": [
    "# Split the dataset into training and testing sets with an 80:20 ratio\n",
    "X_train, X_test, y_train, y_test = train_test_split(images_np, labels_np, test_size=0.2, random_state=921)\n",
    "\n",
    "# Convert the labels to int type\n",
    "y_train = y_train.astype(int)\n",
    "y_test = y_test.astype(int)"
   ]
  },
  {
   "cell_type": "markdown",
   "id": "tplB5iZkzFNV",
   "metadata": {
    "id": "tplB5iZkzFNV"
   },
   "source": [
    "## Question 12.2 (10 points)\n",
    "\n",
    "Add an extra dimension at the beginning of all the numpy arrays (`X_train, y_train, X_test, y_test`). This is to ensure that keras can find an extra dimension at the beginning for iterating over batches of the dataset. Normalize the pixel values of these images by dividing with `255`."
   ]
  },
  {
   "cell_type": "code",
   "execution_count": 22,
   "id": "mWDH8NPszuof",
   "metadata": {
    "id": "mWDH8NPszuof"
   },
   "outputs": [],
   "source": [
    "# Add an extra dimension\n",
    "# X_train = np.expand_dims(X_train, axis=0)\n",
    "# X_test = np.expand_dims(X_test, axis=0)\n",
    "# y_train = np.expand_dims(y_train, axis=0)\n",
    "# y_test = np.expand_dims(y_test, axis=0)\n",
    "\n",
    "# Normalize the pixel values\n",
    "X_train = X_train.astype('float32') / 255\n",
    "X_test = X_test.astype('float32') / 255"
   ]
  },
  {
   "cell_type": "markdown",
   "id": "392fed77",
   "metadata": {},
   "source": [
    "**Explanation for not adding an extra dimension**\n",
    "\n",
    "Upon further consideration, I've realized that adding an extra dimension to our data in step 12.2 is not necessary and, in fact, would cause issues with the model training in Keras. The data, in its current form, is already suitable for processing by the CNN model. Typically, image data is structured in a four-dimensional format (number of samples, height, width, channels), which Keras expects for image classification tasks. Adding an extra dimension would lead to the model interpreting the entire dataset as a single sample, which would cause issues in step 12.8. By keeping the data in its original four-dimensional shape, I adhere to the standard practices of image processing in Keras, ensuring that the model can correctly iterate over the dataset in batches during training."
   ]
  },
  {
   "cell_type": "markdown",
   "id": "ZsOQDMxsz6uv",
   "metadata": {
    "id": "ZsOQDMxsz6uv"
   },
   "source": [
    "## Question 12.3 (10 points)\n",
    "\n",
    "Now, convert the labels (`y_train, y_test`) into one hot representation. More information about one-hot encoding can be found [here](https://www.educative.io/blog/one-hot-encoding)."
   ]
  },
  {
   "cell_type": "code",
   "execution_count": 23,
   "id": "7L3JwuT4z9iN",
   "metadata": {
    "id": "7L3JwuT4z9iN",
    "scrolled": true
   },
   "outputs": [],
   "source": [
    "# Load the 'categories.csv' file\n",
    "categories_df = pd.read_csv('categories.csv')\n",
    "\n",
    "# Create a mapping from category_id to a continuous index\n",
    "category_to_index = {row['id']: idx for idx, row in categories_df.iterrows()}\n",
    "\n",
    "# Flatten the arrays to 1D if they are not already.\n",
    "y_train_flat = y_train.flatten()\n",
    "y_test_flat = y_test.flatten()\n",
    "\n",
    "# Now use the mapping to update your labels\n",
    "y_train_mapped = np.array([category_to_index.get(category_id) for category_id in y_train_flat])\n",
    "y_test_mapped = np.array([category_to_index.get(category_id) for category_id in y_test_flat])\n",
    "\n",
    "# Check if there are any None values and filter them out\n",
    "y_train_mapped = y_train_mapped[~np.isnan(y_train_mapped)]\n",
    "y_test_mapped = y_test_mapped[~np.isnan(y_test_mapped)]\n",
    "\n",
    "# Convert the mapped labels to one-hot encoding\n",
    "# Use the length of the category_to_index mapping as the number of classes\n",
    "num_classes = len(category_to_index)\n",
    "y_train_one_hot = to_categorical(y_train_mapped, num_classes=num_classes)\n",
    "y_test_one_hot = to_categorical(y_test_mapped, num_classes=num_classes)"
   ]
  },
  {
   "cell_type": "markdown",
   "id": "abf5182b",
   "metadata": {},
   "source": [
    "## Question 12.4 (10 points)\n",
    "\n",
    "Create a sequential model using the Keras `Sequential()` API and add the following layers:\n",
    "<ol>\n",
    "<li> Convolution2D layer with 32 filters, Kernel size of 3 x 3 and input shape as 32 x 32 x 3. Use \"same\" padding.\n",
    "<li> A Batch Normalization Layer.\n",
    "<li> A \"relu\" activation layer.\n",
    "<li> A Dropout layer with rate = 0.35 to reduce overfitting.\n",
    "<li> A Maxpool2D layer with pool size as 2 x 2 and \"same\" padding.\n",
    "</ol>"
   ]
  },
  {
   "cell_type": "code",
   "execution_count": 24,
   "id": "ynk_4byN4b19",
   "metadata": {
    "id": "ynk_4byN4b19"
   },
   "outputs": [],
   "source": [
    "# Create a Sequential model\n",
    "model = Sequential()\n",
    "\n",
    "# Add a Convolution2D layer\n",
    "model.add(Convolution2D(32, kernel_size=(3, 3), padding='same', input_shape=(32, 32, 3)))\n",
    "\n",
    "# Add a Batch Normalization layer\n",
    "model.add(BatchNormalization())\n",
    "\n",
    "# Add a \"relu\" activation layer\n",
    "model.add(Activation('relu'))\n",
    "\n",
    "# Add a Dropout layer with a rate of 0.35\n",
    "model.add(Dropout(0.35))\n",
    "\n",
    "# Add a MaxPooling2D layer\n",
    "model.add(MaxPool2D(pool_size=(2, 2), padding='same'))"
   ]
  },
  {
   "cell_type": "markdown",
   "id": "2KS47VdO5dGB",
   "metadata": {
    "id": "2KS47VdO5dGB"
   },
   "source": [
    "## Question 12.5 (10 points)\n",
    "\n",
    "Add the following layers to the same sequential model:\n",
    "<ol>\n",
    "<li> Convolution2D layer with 64 filters, Kernel size of 3 x 3. Use \"same\" padding. (Input shape is not required here, it will be automatically inferred by Keras)\n",
    "<li> A Batch Normalization Layer.\n",
    "<li> A \"relu\" activation layer.\n",
    "<li> A Dropout layer with rate = 0.45 to reduce overfitting.\n",
    "<li> A Maxpool2D layer with pool size as 2 x 2 and \"same\" padding.\n",
    "</ol>"
   ]
  },
  {
   "cell_type": "code",
   "execution_count": 25,
   "id": "UimcQ4K56CD3",
   "metadata": {
    "id": "UimcQ4K56CD3"
   },
   "outputs": [],
   "source": [
    "# Add a second Convolution2D layer\n",
    "model.add(Convolution2D(64, kernel_size=(3, 3), padding='same'))\n",
    "\n",
    "# Add a Batch Normalization layer\n",
    "model.add(BatchNormalization())\n",
    "\n",
    "# Add a \"relu\" activation layer\n",
    "model.add(Activation('relu'))\n",
    "\n",
    "# Add a Dropout layer with a rate of 0.45\n",
    "model.add(Dropout(0.45))\n",
    "\n",
    "# Add a MaxPooling2D layer\n",
    "model.add(MaxPool2D(pool_size=(2, 2), padding='same'))"
   ]
  },
  {
   "cell_type": "markdown",
   "id": "qHXDHn926c_i",
   "metadata": {
    "id": "qHXDHn926c_i"
   },
   "source": [
    "## Question 12.6 (10 points)\n",
    "\n",
    "Add the following layers to the same sequential model:\n",
    "<ol>\n",
    "<li> Add a Flatten Layer. This will reshape the the output of the previous layer into a single tensor.\n",
    "<li> A Dense Layer with 1024 units and \"relu\" as the activation of the output.\n",
    "<li> A Batch Normalization layer.\n",
    "<li> A Relu Activation layer.\n",
    "<li> A Dropout layer with rate = 0.75 to reduce overfitting.\n",
    "</ol>"
   ]
  },
  {
   "cell_type": "code",
   "execution_count": 26,
   "id": "N2b8UvpG6la_",
   "metadata": {
    "id": "N2b8UvpG6la_"
   },
   "outputs": [],
   "source": [
    "# Add a Flatten layer\n",
    "model.add(Flatten())\n",
    "\n",
    "# Add a Dense layer with 1024 units\n",
    "model.add(Dense(1024))\n",
    "model.add(BatchNormalization())  # Add a Batch Normalization layer\n",
    "model.add(Activation('relu'))    # Add a ReLU Activation layer\n",
    "\n",
    "# Add a Dropout layer with a rate of 0.75\n",
    "model.add(Dropout(0.75))"
   ]
  },
  {
   "cell_type": "markdown",
   "id": "ALoftFLH7TaD",
   "metadata": {
    "id": "ALoftFLH7TaD"
   },
   "source": [
    "## Question 12.7 (5 points)\n",
    "\n",
    "Add a Dense layer to the same sequential API, and this time set the output activation to \"softmax\". Note, this the output layer - the number of units has to be `max(labels) + 1`."
   ]
  },
  {
   "cell_type": "code",
   "execution_count": 27,
   "id": "HBE7nmpA6b6t",
   "metadata": {
    "id": "HBE7nmpA6b6t"
   },
   "outputs": [],
   "source": [
    "# Calculate the number of output units\n",
    "# num_output_units = max(labels) + 1\n",
    "num_output_units = 205\n",
    "\n",
    "# Add the output Dense layer with softmax activation\n",
    "model.add(Dense(num_output_units, activation='softmax'))"
   ]
  },
  {
   "cell_type": "markdown",
   "id": "28191594",
   "metadata": {},
   "source": [
    "**Why not use `max(labels) + 1` as the number of units?**\n",
    "\n",
    "In 12.3, I have already mapped all 205 labels (including 'empty') to a range from 0 to 204 based on the 'categories.csv' file."
   ]
  },
  {
   "cell_type": "markdown",
   "id": "6csR32Wh9Bzp",
   "metadata": {
    "id": "6csR32Wh9Bzp"
   },
   "source": [
    "## Question 12.8 (5 points)\n",
    "\n",
    "Compile the Sequential model API with \"categorical cross entropy\" loss and \"Adam\" optimizer. Set the metrics to \"accuracy\".\n",
    "\n",
    "Fit the model with `batch_size = 128` and a validation split of `0.2`. Run the training on `15` epochs."
   ]
  },
  {
   "cell_type": "code",
   "execution_count": 28,
   "id": "T_iV0f5g8zU-",
   "metadata": {
    "id": "T_iV0f5g8zU-"
   },
   "outputs": [
    {
     "name": "stdout",
     "output_type": "stream",
     "text": [
      "Epoch 1/15\n",
      "50/50 [==============================] - 3s 54ms/step - loss: 2.0791 - accuracy: 0.5450 - val_loss: 4.0015 - val_accuracy: 0.0463\n",
      "Epoch 2/15\n",
      "50/50 [==============================] - 3s 51ms/step - loss: 1.1167 - accuracy: 0.6930 - val_loss: 4.7681 - val_accuracy: 0.0463\n",
      "Epoch 3/15\n",
      "50/50 [==============================] - 3s 52ms/step - loss: 0.8497 - accuracy: 0.7548 - val_loss: 5.3054 - val_accuracy: 0.0463\n",
      "Epoch 4/15\n",
      "50/50 [==============================] - 3s 52ms/step - loss: 0.7002 - accuracy: 0.7878 - val_loss: 5.6082 - val_accuracy: 0.0775\n",
      "Epoch 5/15\n",
      "50/50 [==============================] - 3s 52ms/step - loss: 0.5903 - accuracy: 0.8191 - val_loss: 5.2962 - val_accuracy: 0.0587\n",
      "Epoch 6/15\n",
      "50/50 [==============================] - 3s 51ms/step - loss: 0.5180 - accuracy: 0.8355 - val_loss: 5.6899 - val_accuracy: 0.0600\n",
      "Epoch 7/15\n",
      "50/50 [==============================] - 3s 52ms/step - loss: 0.4618 - accuracy: 0.8534 - val_loss: 5.1378 - val_accuracy: 0.0675\n",
      "Epoch 8/15\n",
      "50/50 [==============================] - 3s 51ms/step - loss: 0.4270 - accuracy: 0.8616 - val_loss: 4.0026 - val_accuracy: 0.0725\n",
      "Epoch 9/15\n",
      "50/50 [==============================] - 3s 52ms/step - loss: 0.3828 - accuracy: 0.8753 - val_loss: 3.3305 - val_accuracy: 0.0656\n",
      "Epoch 10/15\n",
      "50/50 [==============================] - 3s 52ms/step - loss: 0.3594 - accuracy: 0.8858 - val_loss: 3.2671 - val_accuracy: 0.0694\n",
      "Epoch 11/15\n",
      "50/50 [==============================] - 3s 53ms/step - loss: 0.3333 - accuracy: 0.8917 - val_loss: 3.0355 - val_accuracy: 0.1019\n",
      "Epoch 12/15\n",
      "50/50 [==============================] - 3s 53ms/step - loss: 0.3085 - accuracy: 0.8981 - val_loss: 1.7800 - val_accuracy: 0.4487\n",
      "Epoch 13/15\n",
      "50/50 [==============================] - 3s 52ms/step - loss: 0.2917 - accuracy: 0.9056 - val_loss: 1.4911 - val_accuracy: 0.5213\n",
      "Epoch 14/15\n",
      "50/50 [==============================] - 3s 53ms/step - loss: 0.2737 - accuracy: 0.9114 - val_loss: 1.0838 - val_accuracy: 0.7244\n",
      "Epoch 15/15\n",
      "50/50 [==============================] - 3s 52ms/step - loss: 0.2733 - accuracy: 0.9073 - val_loss: 0.8165 - val_accuracy: 0.7694\n"
     ]
    }
   ],
   "source": [
    "# Compile the model\n",
    "model.compile(loss='categorical_crossentropy', \n",
    "              optimizer='adam', \n",
    "              metrics=['accuracy'])\n",
    "\n",
    "# Fit the model\n",
    "history = model.fit(X_train, y_train_one_hot, \n",
    "                    batch_size=128, \n",
    "                    epochs=15, \n",
    "                    validation_split=0.2)"
   ]
  },
  {
   "cell_type": "markdown",
   "id": "PBsg4rbl8-7X",
   "metadata": {
    "id": "PBsg4rbl8-7X"
   },
   "source": [
    "## Question 12.9 (5 points)\n",
    "\n",
    "Compute the accuracy of the model on the test set."
   ]
  },
  {
   "cell_type": "code",
   "execution_count": 29,
   "id": "5xXDNOAf8_Vn",
   "metadata": {
    "id": "5xXDNOAf8_Vn"
   },
   "outputs": [
    {
     "name": "stdout",
     "output_type": "stream",
     "text": [
      "63/63 [==============================] - 0s 7ms/step - loss: 0.8427 - accuracy: 0.7710\n",
      "Test accuracy: 77.10%\n"
     ]
    }
   ],
   "source": [
    "# Compute accuracy on the test set\n",
    "test_loss, test_accuracy = model.evaluate(X_test, y_test_one_hot)\n",
    "print(f\"Test accuracy: {test_accuracy * 100:.2f}%\")"
   ]
  },
  {
   "cell_type": "markdown",
   "id": "oPN7Zm-T-EKY",
   "metadata": {
    "id": "oPN7Zm-T-EKY"
   },
   "source": [
    "## Question 12.10 (10 points)\n",
    "\n",
    "Compute Micro and Macro F1 scores on the test set."
   ]
  },
  {
   "cell_type": "code",
   "execution_count": 30,
   "id": "aXzb3zgFufax",
   "metadata": {
    "id": "aXzb3zgFufax"
   },
   "outputs": [
    {
     "name": "stdout",
     "output_type": "stream",
     "text": [
      "63/63 [==============================] - 0s 7ms/step\n",
      "Micro F1 score: 0.77\n",
      "Macro F1 score: 0.45\n"
     ]
    }
   ],
   "source": [
    "# Make predictions on the test set\n",
    "predictions = model.predict(X_test)\n",
    "\n",
    "# Convert predictions from one-hot encoding to class labels\n",
    "predicted_labels = np.argmax(predictions, axis=1)\n",
    "\n",
    "# Convert y_test from one-hot encoding to class labels for comparison\n",
    "y_test_labels = np.argmax(y_test_one_hot, axis=1)\n",
    "\n",
    "# Compute Micro and Macro F1 scores\n",
    "f1_micro = f1_score(y_test_labels, predicted_labels, average='micro')\n",
    "f1_macro = f1_score(y_test_labels, predicted_labels, average='macro')\n",
    "\n",
    "print(f\"Micro F1 score: {f1_micro:.2f}\")\n",
    "print(f\"Macro F1 score: {f1_macro:.2f}\")"
   ]
  },
  {
   "cell_type": "markdown",
   "id": "aea1f018",
   "metadata": {},
   "source": [
    "**Comment:**\n",
    "\n",
    "The performance of the CNN model, as evidenced by the training and testing results, demonstrates a reasonably high level of accuracy and effectiveness in species classification. After undergoing 15 epochs of training, the model achieved a significant improvement in validation accuracy, culminating at approximately 76.94%. This progressive improvement indicates that the model was effectively learning from the training data. However, when evaluated on the test set, the model's accuracy slightly decreased to 77.10%, which is still a commendable figure for such a complex task involving a large number of species categories.\n",
    "\n",
    "The Micro F1 score of 0.77 aligns closely with the accuracy metric, suggesting consistent performance across various classes. However, the Macro F1 score of 0.45 is notably lower. This discrepancy indicates a variation in the model's performance across different classes, with some classes likely being predicted more accurately than others. This could be attributed to class imbalance or certain species being more challenging to distinguish. Overall, while the model shows promising results in general accuracy, the lower Macro F1 score suggests room for improvement, particularly in achieving more uniform performance across all species categories. Further model tuning, data augmentation, or addressing class imbalances could potentially enhance these metrics."
   ]
  }
 ],
 "metadata": {
  "colab": {
   "provenance": []
  },
  "kernelspec": {
   "display_name": "Python 3 (ipykernel)",
   "language": "python",
   "name": "python3"
  },
  "language_info": {
   "codemirror_mode": {
    "name": "ipython",
    "version": 3
   },
   "file_extension": ".py",
   "mimetype": "text/x-python",
   "name": "python",
   "nbconvert_exporter": "python",
   "pygments_lexer": "ipython3",
   "version": "3.10.9"
  }
 },
 "nbformat": 4,
 "nbformat_minor": 5
}
