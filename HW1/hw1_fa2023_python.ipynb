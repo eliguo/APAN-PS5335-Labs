{
 "cells": [
  {
   "cell_type": "markdown",
   "id": "6281dd98",
   "metadata": {
    "id": "6281dd98"
   },
   "source": [
    "# Home Work 1 (72)\n",
    "## (APANPS5335_002_2023_3 Machine Learning)\n",
    "\n",
    "## Submitted by: Eli Guo\n",
    "## UNI: yg2869\n",
    "### Posted: 9/5/2023 | Due: 9/10/2023 by 11:59 pm"
   ]
  },
  {
   "cell_type": "code",
   "execution_count": 1,
   "id": "e59755ea-79e9-4ce0-9843-e0d776f0e6a8",
   "metadata": {
    "id": "e59755ea-79e9-4ce0-9843-e0d776f0e6a8"
   },
   "outputs": [],
   "source": [
    "!export PATH=/Library/TeX/texbin:$PATH"
   ]
  },
  {
   "cell_type": "markdown",
   "id": "5b5d9436",
   "metadata": {
    "id": "5b5d9436"
   },
   "source": [
    "The goal of this assignment will to build proficiency in Data analytics and using Jupyter Notebook. You may use R to answer the questions. If you have any trouble, Google probably already has the answer.\n",
    "\n",
    "\n",
    "__Instructions__: Please submit both the Jupyter notebook file and a PDF version. html is also allowed but PDF is recommended. Make sure to complete the name and UNI in the header of this document.\n",
    "\n",
    "__Python Resources__: If you want to use Python, the simplest would be to install Anaconda Python distribution. You can download for free from https://www.anaconda.com/products/individual\n",
    "\n",
    "For help with setting up Anaconda, this is one of many such videos https://www.youtube.com/watch?v=C4OPn58BLaU you will find on YouTube.\n",
    "\n",
    "The process is the same for Windows and Mac."
   ]
  },
  {
   "cell_type": "code",
   "execution_count": 2,
   "id": "0dcf0767",
   "metadata": {
    "id": "0dcf0767"
   },
   "outputs": [],
   "source": [
    "# Load necessary libraries\n",
    "\n",
    "import numpy as np\n",
    "import pandas as pd\n",
    "\n",
    "# Load other functions for added functionality\n",
    "\n",
    "# The following glimpse() function is a replicate of R's glimpse function\n",
    "# https://gist.github.com/sainathadapa/08c1028c92684fe1ec89ecb5d5629a57\n",
    "\n",
    "def glimpse(df, maxvals=10, maxlen=110):\n",
    "    print('Shape: ', df.shape)\n",
    "\n",
    "    def pad(y):\n",
    "        max_len = max([len(x) for x in y])\n",
    "        return [x.ljust(max_len) for x in y]\n",
    "\n",
    "    # Column Name\n",
    "    toprnt = pad(df.columns.tolist())\n",
    "\n",
    "    # Column Type\n",
    "    toprnt = pad([toprnt[i] + ' ' + str(df.iloc[:,i].dtype) for i in range(df.shape[1])])\n",
    "\n",
    "    # Num NAs\n",
    "    num_nas = [df.iloc[:,i].isnull().sum() for i in range(df.shape[1])]\n",
    "    num_nas_ratio = [int(round(x*100/df.shape[0])) for x in num_nas]\n",
    "    num_nas_str = [str(x) + ' (' + str(y) + '%)' for x,y in zip(num_nas, num_nas_ratio)]\n",
    "    max_len = max([len(x) for x in num_nas_str])\n",
    "    num_nas_str = [x.rjust(max_len) for x in num_nas_str]\n",
    "    toprnt = [x + ' ' + y + ' NAs' for x,y in zip(toprnt, num_nas_str)]\n",
    "\n",
    "    # Separator\n",
    "    toprnt = [x + ' : ' for x in toprnt]\n",
    "\n",
    "    # Values\n",
    "    toprnt = [toprnt[i] + ', '.join([str(y) for y in df.iloc[:min([maxvals,df.shape[0]]), i]]) for i in range(df.shape[1])]\n",
    "\n",
    "    # Trim to maxlen\n",
    "    toprnt = [x[:min(maxlen, len(x))] for x in toprnt]\n",
    "\n",
    "    for x in toprnt:\n",
    "        print(x)\n"
   ]
  },
  {
   "cell_type": "markdown",
   "id": "bec216ce",
   "metadata": {
    "id": "bec216ce"
   },
   "source": [
    "# 1 (3 points)\n",
    "\n",
    "Install Python, Anaconda or any distribution of your choice. Check the python version. There are varieties of way to do this. One way is to use the `sys` module and sys.version to check the python version."
   ]
  },
  {
   "cell_type": "code",
   "execution_count": 3,
   "id": "6yUqx13S3mUY",
   "metadata": {
    "colab": {
     "base_uri": "https://localhost:8080/"
    },
    "executionInfo": {
     "elapsed": 132,
     "status": "ok",
     "timestamp": 1693865259542,
     "user": {
      "displayName": "Siddhartha R Dalal",
      "userId": "03093357113072700624"
     },
     "user_tz": 240
    },
    "id": "6yUqx13S3mUY",
    "outputId": "18a2eb72-a744-48f0-a109-2821fc1e64c3"
   },
   "outputs": [
    {
     "name": "stdout",
     "output_type": "stream",
     "text": [
      "3.10.9 (main, Jan 27 2023, 21:02:51) [Clang 14.0.0 (clang-1400.0.29.202)]\n"
     ]
    }
   ],
   "source": [
    "import sys\n",
    "\n",
    "def check_version():\n",
    "    #ToDo\n",
    "    return sys.version\n",
    "\n",
    "print(check_version())"
   ]
  },
  {
   "cell_type": "markdown",
   "id": "00a00020",
   "metadata": {
    "id": "00a00020"
   },
   "source": [
    "# Question 2 (6 points)\n",
    "\n",
    "Complete the Table with your responses for each of the following questions. Please also submit the responses to this form https://forms.gle/tJvXQw22cVxxFvcs5"
   ]
  },
  {
   "cell_type": "code",
   "execution_count": 4,
   "id": "f3d40b7c",
   "metadata": {
    "colab": {
     "base_uri": "https://localhost:8080/",
     "height": 269
    },
    "executionInfo": {
     "elapsed": 128,
     "status": "ok",
     "timestamp": 1693865270350,
     "user": {
      "displayName": "Siddhartha R Dalal",
      "userId": "03093357113072700624"
     },
     "user_tz": 240
    },
    "id": "f3d40b7c",
    "outputId": "6c436cf0-1a2a-4beb-d298-9a8992776929"
   },
   "outputs": [
    {
     "data": {
      "text/html": [
       "<div>\n",
       "<style scoped>\n",
       "    .dataframe tbody tr th:only-of-type {\n",
       "        vertical-align: middle;\n",
       "    }\n",
       "\n",
       "    .dataframe tbody tr th {\n",
       "        vertical-align: top;\n",
       "    }\n",
       "\n",
       "    .dataframe thead th {\n",
       "        text-align: right;\n",
       "    }\n",
       "</style>\n",
       "<table border=\"1\" class=\"dataframe\">\n",
       "  <thead>\n",
       "    <tr style=\"text-align: right;\">\n",
       "      <th></th>\n",
       "      <th>Question</th>\n",
       "      <th>Your answer</th>\n",
       "    </tr>\n",
       "  </thead>\n",
       "  <tbody>\n",
       "    <tr>\n",
       "      <th>0</th>\n",
       "      <td>What was your last degree program (BA, MS, PhD, etc), major, and year?</td>\n",
       "      <td>BBA, Accounting and Finance, 2022</td>\n",
       "    </tr>\n",
       "    <tr>\n",
       "      <th>1</th>\n",
       "      <td>What is your proficiency in calculus? 1 (poor) - 5 (excellent)</td>\n",
       "      <td>4</td>\n",
       "    </tr>\n",
       "    <tr>\n",
       "      <th>2</th>\n",
       "      <td>What is your proficiency in linear algebra? 1 (poor) - 5 (excellent)</td>\n",
       "      <td>4</td>\n",
       "    </tr>\n",
       "    <tr>\n",
       "      <th>3</th>\n",
       "      <td>What is your proficiency in probability and statistics? 1 (poor) - 5 (excellent)</td>\n",
       "      <td>4</td>\n",
       "    </tr>\n",
       "    <tr>\n",
       "      <th>4</th>\n",
       "      <td>What is your proficiency in statistical inference (i.e., regression)? 1 (poor) - 5 (excellent)</td>\n",
       "      <td>4</td>\n",
       "    </tr>\n",
       "    <tr>\n",
       "      <th>5</th>\n",
       "      <td>What is your proficiency with Python programming? 1 (poor) - 5 (excellent)</td>\n",
       "      <td>5</td>\n",
       "    </tr>\n",
       "    <tr>\n",
       "      <th>6</th>\n",
       "      <td>TOTAL score (please add up the response scores)</td>\n",
       "      <td>21</td>\n",
       "    </tr>\n",
       "  </tbody>\n",
       "</table>\n",
       "</div>"
      ],
      "text/plain": [
       "                                                                                         Question   \n",
       "0                          What was your last degree program (BA, MS, PhD, etc), major, and year?  \\\n",
       "1                                  What is your proficiency in calculus? 1 (poor) - 5 (excellent)   \n",
       "2                            What is your proficiency in linear algebra? 1 (poor) - 5 (excellent)   \n",
       "3                What is your proficiency in probability and statistics? 1 (poor) - 5 (excellent)   \n",
       "4  What is your proficiency in statistical inference (i.e., regression)? 1 (poor) - 5 (excellent)   \n",
       "5                      What is your proficiency with Python programming? 1 (poor) - 5 (excellent)   \n",
       "6                                                 TOTAL score (please add up the response scores)   \n",
       "\n",
       "                         Your answer  \n",
       "0  BBA, Accounting and Finance, 2022  \n",
       "1                                  4  \n",
       "2                                  4  \n",
       "3                                  4  \n",
       "4                                  4  \n",
       "5                                  5  \n",
       "6                                 21  "
      ]
     },
     "execution_count": 4,
     "metadata": {},
     "output_type": "execute_result"
    }
   ],
   "source": [
    "# Import pandas library\n",
    "import pandas as pd\n",
    "pd.set_option('max_colwidth', 400)\n",
    "\n",
    "# initialize list of lists\n",
    "data = [\n",
    "    ['What was your last degree program (BA, MS, PhD, etc), major, and year?', 'BBA, Accounting and Finance, 2022'],\n",
    "    ['What is your proficiency in calculus? 1 (poor) - 5 (excellent)', '4'],\n",
    "    ['What is your proficiency in linear algebra? 1 (poor) - 5 (excellent)', '4' ],\n",
    "    ['What is your proficiency in probability and statistics? 1 (poor) - 5 (excellent)', '4'],\n",
    "    ['What is your proficiency in statistical inference (i.e., regression)? 1 (poor) - 5 (excellent)', '4'],\n",
    "    ['What is your proficiency with Python programming? 1 (poor) - 5 (excellent)', '5'],\n",
    "    ['TOTAL score (please add up the response scores)', '21']\n",
    "]\n",
    "\n",
    "\n",
    "# Create the pandas DataFrame\n",
    "df = pd.DataFrame(data, columns = ['Question', 'Your answer'])\n",
    "\n",
    "# print dataframe.\n",
    "df"
   ]
  },
  {
   "cell_type": "markdown",
   "id": "4e757a01",
   "metadata": {
    "id": "4e757a01"
   },
   "source": [
    "\n",
    "# Question 3 (3 points)\n",
    "\n",
    "Create a function that sums all of the odd numbers from 1 to 100. You can create a function in Python using the following:"
   ]
  },
  {
   "cell_type": "code",
   "execution_count": 5,
   "id": "8b541bab",
   "metadata": {
    "colab": {
     "base_uri": "https://localhost:8080/"
    },
    "executionInfo": {
     "elapsed": 107,
     "status": "ok",
     "timestamp": 1693865275148,
     "user": {
      "displayName": "Siddhartha R Dalal",
      "userId": "03093357113072700624"
     },
     "user_tz": 240
    },
    "id": "8b541bab",
    "outputId": "0bd353ac-9449-4075-b1cf-c875eece9cc2"
   },
   "outputs": [
    {
     "data": {
      "text/plain": [
       "2500"
      ]
     },
     "execution_count": 5,
     "metadata": {},
     "output_type": "execute_result"
    }
   ],
   "source": [
    "x=list(range(1,101))\n",
    "def odd_sum(x):\n",
    "    #ToDo\n",
    "    return sum(i for i in x if i % 2 != 0) \n",
    "\n",
    "# Sum all of the odd numbers from 1 to 100\n",
    "odd_sum(x)"
   ]
  },
  {
   "cell_type": "code",
   "execution_count": 6,
   "id": "3e543c0c",
   "metadata": {
    "colab": {
     "base_uri": "https://localhost:8080/"
    },
    "executionInfo": {
     "elapsed": 111,
     "status": "ok",
     "timestamp": 1693865277907,
     "user": {
      "displayName": "Siddhartha R Dalal",
      "userId": "03093357113072700624"
     },
     "user_tz": 240
    },
    "id": "3e543c0c",
    "outputId": "7f10c784-b5fe-4ed4-a458-9455acfe5e38"
   },
   "outputs": [
    {
     "data": {
      "text/plain": [
       "2500"
      ]
     },
     "execution_count": 6,
     "metadata": {},
     "output_type": "execute_result"
    }
   ],
   "source": [
    "def add_odd_numbers(a, b):\n",
    "    # ToDo\n",
    "    return sum(i for i in range(a, b) if i % 2 != 0)\n",
    "\n",
    "# Sum all of the odd numbers from 1 to 100\n",
    "add_odd_numbers(1, 101)"
   ]
  },
  {
   "cell_type": "markdown",
   "id": "c00d99d8",
   "metadata": {
    "id": "c00d99d8"
   },
   "source": [
    "\n",
    "# Question 4 (3 points)\n",
    "\n",
    "Create a function that uses vector operations to add all of the odd numbers from 1 to 100. *Hint: use the modulus operator `%` to determine parity.*"
   ]
  },
  {
   "cell_type": "code",
   "execution_count": 7,
   "id": "30af332b",
   "metadata": {
    "colab": {
     "base_uri": "https://localhost:8080/"
    },
    "executionInfo": {
     "elapsed": 92,
     "status": "ok",
     "timestamp": 1693865315213,
     "user": {
      "displayName": "Siddhartha R Dalal",
      "userId": "03093357113072700624"
     },
     "user_tz": 240
    },
    "id": "30af332b",
    "outputId": "9ed5f4f7-8d16-442c-9cba-96bd3ebf2396"
   },
   "outputs": [
    {
     "data": {
      "text/plain": [
       "2500"
      ]
     },
     "execution_count": 7,
     "metadata": {},
     "output_type": "execute_result"
    }
   ],
   "source": [
    "def add_odd_vectorized(a):\n",
    "    # ToDo\n",
    "    arr = np.arange(1, a)\n",
    "    return np.sum(arr[arr % 2 != 0])\n",
    "\n",
    "# Add all of the odd numbers from 1 to 100\n",
    "add_odd_vectorized(101)"
   ]
  },
  {
   "cell_type": "markdown",
   "id": "ed3ba7b2",
   "metadata": {
    "id": "ed3ba7b2"
   },
   "source": [
    "# Question 5\n",
    "\n",
    "Load and explore the diabetes data set. The compressed file contains two CSV files you can open with Excel or any text editor. The data set was downloaded from https://archive-beta.ics.uci.edu/ml/datasets/diabetes+130+us+hospitals+for+years+1999+2008\n",
    "\n",
    "\n",
    "Feel free to visit the link above to find additional information.\n"
   ]
  },
  {
   "cell_type": "markdown",
   "id": "456b7d4c",
   "metadata": {
    "id": "456b7d4c"
   },
   "source": [
    "\n",
    "## 5.1 (2 point)\n",
    "Load the data set and print the number of rows. Call the source data as `df_src`"
   ]
  },
  {
   "cell_type": "code",
   "execution_count": 8,
   "id": "LOx4OQY2Rl_u",
   "metadata": {
    "colab": {
     "base_uri": "https://localhost:8080/"
    },
    "executionInfo": {
     "elapsed": 758,
     "status": "ok",
     "timestamp": 1693866169844,
     "user": {
      "displayName": "Siddhartha R Dalal",
      "userId": "03093357113072700624"
     },
     "user_tz": 240
    },
    "id": "LOx4OQY2Rl_u",
    "outputId": "1e921beb-8400-472b-eec5-efdbcbfbf02b"
   },
   "outputs": [],
   "source": [
    "# import zipfile\n",
    "# !unzip -u \"/content/drive/My Drive/Sid_DL_Datasets/diabetes+130-us+hospitals+for+years+1999-2008.zip\" -d \"/content/drive/My Drive/Sid_DL_Datasets/diabetes\""
   ]
  },
  {
   "cell_type": "code",
   "execution_count": 9,
   "id": "H7MLs5lLTEL2",
   "metadata": {
    "executionInfo": {
     "elapsed": 407,
     "status": "ok",
     "timestamp": 1693866347190,
     "user": {
      "displayName": "Siddhartha R Dalal",
      "userId": "03093357113072700624"
     },
     "user_tz": 240
    },
    "id": "H7MLs5lLTEL2"
   },
   "outputs": [],
   "source": [
    "# ToDo: load the data as df_src\n",
    "df_src = pd.read_csv('diabetic_data.csv')"
   ]
  },
  {
   "cell_type": "code",
   "execution_count": 10,
   "id": "dy2lT8cxTWtl",
   "metadata": {
    "colab": {
     "base_uri": "https://localhost:8080/"
    },
    "executionInfo": {
     "elapsed": 121,
     "status": "ok",
     "timestamp": 1693866656292,
     "user": {
      "displayName": "Siddhartha R Dalal",
      "userId": "03093357113072700624"
     },
     "user_tz": 240
    },
    "id": "dy2lT8cxTWtl",
    "outputId": "47b39580-6cc7-48a2-829a-6f8bfe2275a5"
   },
   "outputs": [
    {
     "name": "stdout",
     "output_type": "stream",
     "text": [
      "(101766, 50)\n",
      "Index(['encounter_id', 'patient_nbr', 'race', 'gender', 'age', 'weight',\n",
      "       'admission_type_id', 'discharge_disposition_id', 'admission_source_id',\n",
      "       'time_in_hospital', 'payer_code', 'medical_specialty',\n",
      "       'num_lab_procedures', 'num_procedures', 'num_medications',\n",
      "       'number_outpatient', 'number_emergency', 'number_inpatient', 'diag_1',\n",
      "       'diag_2', 'diag_3', 'number_diagnoses', 'max_glu_serum', 'A1Cresult',\n",
      "       'metformin', 'repaglinide', 'nateglinide', 'chlorpropamide',\n",
      "       'glimepiride', 'acetohexamide', 'glipizide', 'glyburide', 'tolbutamide',\n",
      "       'pioglitazone', 'rosiglitazone', 'acarbose', 'miglitol', 'troglitazone',\n",
      "       'tolazamide', 'examide', 'citoglipton', 'insulin',\n",
      "       'glyburide-metformin', 'glipizide-metformin',\n",
      "       'glimepiride-pioglitazone', 'metformin-rosiglitazone',\n",
      "       'metformin-pioglitazone', 'change', 'diabetesMed', 'readmitted'],\n",
      "      dtype='object')\n"
     ]
    }
   ],
   "source": [
    "print(df_src.shape)\n",
    "print(df_src.columns)"
   ]
  },
  {
   "cell_type": "markdown",
   "id": "1a59036b",
   "metadata": {
    "id": "1a59036b"
   },
   "source": [
    "\n",
    "## 5.2 (2 point)\n",
    "\n",
    "Create a smaller data set and name it `df` with the following columns only\n",
    "\n",
    "\"encounter_id\", \"patient_nbr\", \"race\", \"gender\", age\",\n",
    "\"weight\", \"admission_type_id\", \"discharge_disposition_id\",\n",
    "\"A1Cresult\", \"readmitted\""
   ]
  },
  {
   "cell_type": "code",
   "execution_count": 11,
   "id": "dbb9a40d",
   "metadata": {
    "id": "dbb9a40d"
   },
   "outputs": [],
   "source": [
    "# ToDo: create the smaller dataset as df\n",
    "df = df_src[[\"encounter_id\", \"patient_nbr\", \"race\", \"gender\", \"age\", \"weight\", \"admission_type_id\", \"discharge_disposition_id\", \"A1Cresult\", \"readmitted\"]]"
   ]
  },
  {
   "cell_type": "code",
   "execution_count": 12,
   "id": "16ec4d2b",
   "metadata": {
    "id": "16ec4d2b"
   },
   "outputs": [
    {
     "name": "stdout",
     "output_type": "stream",
     "text": [
      "Shape:  (101766, 10)\n",
      "encounter_id             int64       0 (0%) NAs : 2278392, 149190, 64410, 500364, 16680, 35754, 55842, 63768, \n",
      "patient_nbr              int64       0 (0%) NAs : 8222157, 55629189, 86047875, 82442376, 42519267, 82637451, 8\n",
      "race                     object      0 (0%) NAs : Caucasian, Caucasian, AfricanAmerican, Caucasian, Caucasian,\n",
      "gender                   object      0 (0%) NAs : Female, Female, Female, Male, Male, Male, Male, Male, Female\n",
      "age                      object      0 (0%) NAs : [0-10), [10-20), [20-30), [30-40), [40-50), [50-60), [60-70)\n",
      "weight                   object      0 (0%) NAs : ?, ?, ?, ?, ?, ?, ?, ?, ?, ?\n",
      "admission_type_id        int64       0 (0%) NAs : 6, 1, 1, 1, 1, 2, 3, 1, 2, 3\n",
      "discharge_disposition_id int64       0 (0%) NAs : 25, 1, 1, 1, 1, 1, 1, 1, 1, 3\n",
      "A1Cresult                object 84748 (83%) NAs : nan, nan, nan, nan, nan, nan, nan, nan, nan, nan\n",
      "readmitted               object      0 (0%) NAs : NO, >30, NO, NO, NO, >30, NO, >30, NO, NO\n"
     ]
    }
   ],
   "source": [
    "glimpse(df)"
   ]
  },
  {
   "cell_type": "markdown",
   "id": "bd70090e",
   "metadata": {
    "id": "bd70090e"
   },
   "source": [
    "\n",
    "## 5.3 (2 + 2 points)\n",
    "\n",
    "Explore if there is any missing values in any of the columns. A missing value may be just an empty cell, NULL value, a question mark (?) or any other unusual character. Suppose, for this data set, any cell with a question mark is missing. There are other values such as \"None\" but lets keep them as they are.  \n",
    "\n",
    "Properly encode each cell with a question mark as missing value(i.e., NA)\n",
    "\n",
    "Additionally, perform a profile analysis on the newly created data set. A profile analysis may contain\n",
    "\n",
    "- number of records in the entire data set\n",
    "- number of complete records for each column in the data set\n",
    "- rate of missingness in each column\n",
    "- minimum value in each numeric column\n",
    "- maximum value in each numeric column\n",
    "\n",
    "You may use any library/package of your choice."
   ]
  },
  {
   "cell_type": "code",
   "execution_count": 13,
   "id": "f5738904",
   "metadata": {
    "id": "f5738904"
   },
   "outputs": [],
   "source": [
    "# Replace all instance of `?` with missing values `np.nan`\n",
    "df = df.replace('?', np.nan)"
   ]
  },
  {
   "cell_type": "code",
   "execution_count": 14,
   "id": "6105eee6",
   "metadata": {
    "id": "6105eee6"
   },
   "outputs": [
    {
     "name": "stdout",
     "output_type": "stream",
     "text": [
      "Number of records in the entire data set: 101766\n",
      "\n",
      "Number of complete records for each column in the data set:\n",
      "encounter_id                101766\n",
      "patient_nbr                 101766\n",
      "race                         99493\n",
      "gender                      101766\n",
      "age                         101766\n",
      "weight                        3197\n",
      "admission_type_id           101766\n",
      "discharge_disposition_id    101766\n",
      "A1Cresult                    17018\n",
      "readmitted                  101766\n",
      "dtype: int64\n",
      "\n",
      "Rate of missingness in each column:\n",
      "encounter_id                0.000000\n",
      "patient_nbr                 0.000000\n",
      "race                        0.022336\n",
      "gender                      0.000000\n",
      "age                         0.000000\n",
      "weight                      0.968585\n",
      "admission_type_id           0.000000\n",
      "discharge_disposition_id    0.000000\n",
      "A1Cresult                   0.832773\n",
      "readmitted                  0.000000\n",
      "dtype: float64\n",
      "\n",
      "Minimum value in each numeric column:\n",
      "encounter_id                12522\n",
      "patient_nbr                   135\n",
      "admission_type_id               1\n",
      "discharge_disposition_id        1\n",
      "dtype: int64\n",
      "\n",
      "Maximum value in each numeric column:\n",
      "encounter_id                443867222\n",
      "patient_nbr                 189502619\n",
      "admission_type_id                   8\n",
      "discharge_disposition_id           28\n",
      "dtype: int64\n"
     ]
    }
   ],
   "source": [
    "# Check if it is working as expected\n",
    "# Profile analysis\n",
    "\n",
    "# Number of records in the entire data set\n",
    "total_records = df.shape[0]\n",
    "\n",
    "# Number of complete records for each column\n",
    "complete_records = df.notna().sum()\n",
    "\n",
    "# Rate of missingness in each column\n",
    "missingness_rate = df.isna().mean()\n",
    "\n",
    "# For numeric columns only:\n",
    "numeric_columns = df.select_dtypes(include='number')\n",
    "\n",
    "# Minimum value in each numeric column\n",
    "min_values = numeric_columns.min()\n",
    "\n",
    "# Maximum value in each numeric column\n",
    "max_values = numeric_columns.max()\n",
    "\n",
    "print(f\"Number of records in the entire data set: {total_records}\")\n",
    "print(f\"\\nNumber of complete records for each column in the data set:\\n{complete_records}\")\n",
    "print(f\"\\nRate of missingness in each column:\\n{missingness_rate}\")\n",
    "print(f\"\\nMinimum value in each numeric column:\\n{min_values}\")\n",
    "print(f\"\\nMaximum value in each numeric column:\\n{max_values}\")"
   ]
  },
  {
   "cell_type": "markdown",
   "id": "ca16dd67",
   "metadata": {
    "id": "ca16dd67"
   },
   "source": [
    "\n",
    "## 5.4 (2 + 2 points)\n",
    "\n",
    "Notice that the encounter_id and patient_nbr columns are numerical. Update the data set by converting these two columns to character. And perform the profile analysis of the updated data set."
   ]
  },
  {
   "cell_type": "code",
   "execution_count": 15,
   "id": "e5d559c8",
   "metadata": {},
   "outputs": [],
   "source": [
    "# Convert columns to character\n",
    "df['encounter_id'] = df['encounter_id'].astype(str)\n",
    "df['patient_nbr'] = df['patient_nbr'].astype(str)"
   ]
  },
  {
   "cell_type": "code",
   "execution_count": 16,
   "id": "43dbc36d",
   "metadata": {},
   "outputs": [
    {
     "name": "stdout",
     "output_type": "stream",
     "text": [
      "Number of records in the entire data set: 101766\n",
      "\n",
      "Number of complete records for each column in the data set:\n",
      "encounter_id                101766\n",
      "patient_nbr                 101766\n",
      "race                         99493\n",
      "gender                      101766\n",
      "age                         101766\n",
      "weight                        3197\n",
      "admission_type_id           101766\n",
      "discharge_disposition_id    101766\n",
      "A1Cresult                    17018\n",
      "readmitted                  101766\n",
      "dtype: int64\n",
      "\n",
      "Rate of missingness in each column:\n",
      "encounter_id                0.000000\n",
      "patient_nbr                 0.000000\n",
      "race                        0.022336\n",
      "gender                      0.000000\n",
      "age                         0.000000\n",
      "weight                      0.968585\n",
      "admission_type_id           0.000000\n",
      "discharge_disposition_id    0.000000\n",
      "A1Cresult                   0.832773\n",
      "readmitted                  0.000000\n",
      "dtype: float64\n",
      "\n",
      "Minimum value in each numeric column:\n",
      "admission_type_id           1\n",
      "discharge_disposition_id    1\n",
      "dtype: int64\n",
      "\n",
      "Maximum value in each numeric column:\n",
      "admission_type_id            8\n",
      "discharge_disposition_id    28\n",
      "dtype: int64\n"
     ]
    }
   ],
   "source": [
    "# Profile analysis\n",
    "\n",
    "# Number of records in the entire data set\n",
    "total_records = df.shape[0]\n",
    "\n",
    "# Number of complete records for each column\n",
    "complete_records = df.notna().sum()\n",
    "\n",
    "# Rate of missingness in each column\n",
    "missingness_rate = df.isna().mean()\n",
    "\n",
    "# For numeric columns only:\n",
    "numeric_columns = df.select_dtypes(include='number')\n",
    "\n",
    "# Minimum value in each numeric column\n",
    "min_values = numeric_columns.min()\n",
    "\n",
    "# Maximum value in each numeric column\n",
    "max_values = numeric_columns.max()\n",
    "\n",
    "print(f\"Number of records in the entire data set: {total_records}\")\n",
    "print(f\"\\nNumber of complete records for each column in the data set:\\n{complete_records}\")\n",
    "print(f\"\\nRate of missingness in each column:\\n{missingness_rate}\")\n",
    "print(f\"\\nMinimum value in each numeric column:\\n{min_values}\")\n",
    "print(f\"\\nMaximum value in each numeric column:\\n{max_values}\")"
   ]
  },
  {
   "cell_type": "markdown",
   "id": "1154c3e8",
   "metadata": {
    "id": "1154c3e8"
   },
   "source": [
    "\n",
    "## 5.5 (2 points)\n",
    "\n",
    "Notice that there are two columns in the data-- one is `encounter_id` and the other is `patient_nbr`. These are self explanatory. Each patient is identified with with a unique `patient_nbr`. There can be multiple records of a single patient, i.e., the `patient_nbr` may appear multiple times. However, the `encounter_id` should be unique as it represent a specific encouter (visit).\n",
    "\n",
    "Verify whether the encounter numbers are unique.\n",
    "\n"
   ]
  },
  {
   "cell_type": "code",
   "execution_count": 17,
   "id": "01c6e1ca",
   "metadata": {
    "id": "01c6e1ca"
   },
   "outputs": [
    {
     "name": "stdout",
     "output_type": "stream",
     "text": [
      "101766\n"
     ]
    }
   ],
   "source": [
    "# Number of rows in the data\n",
    "print(df.shape[0])"
   ]
  },
  {
   "cell_type": "code",
   "execution_count": 18,
   "id": "ddc8b69c",
   "metadata": {
    "id": "ddc8b69c"
   },
   "outputs": [
    {
     "name": "stdout",
     "output_type": "stream",
     "text": [
      "101766\n"
     ]
    }
   ],
   "source": [
    "# Number of unique encounters\n",
    "print(len(pd.unique(df['encounter_id'])))"
   ]
  },
  {
   "cell_type": "code",
   "execution_count": 19,
   "id": "9cf5e16f",
   "metadata": {
    "id": "9cf5e16f"
   },
   "outputs": [],
   "source": [
    "# Check of the number of rows is the same as the number of unique encounter_id\n",
    "# If they are not the same, error will be raised\n",
    "assert(df.shape[0] == len(pd.unique(df['encounter_id'])))"
   ]
  },
  {
   "cell_type": "markdown",
   "id": "c4158893",
   "metadata": {
    "id": "c4158893"
   },
   "source": [
    "## 5.6 (2 points)\n",
    "\n",
    "Count how many distinct (unique) patients are there in the data."
   ]
  },
  {
   "cell_type": "code",
   "execution_count": 20,
   "id": "e828ddcf",
   "metadata": {
    "id": "e828ddcf"
   },
   "outputs": [
    {
     "name": "stdout",
     "output_type": "stream",
     "text": [
      "71518\n"
     ]
    }
   ],
   "source": [
    "print(len(pd.unique(df['patient_nbr'])))"
   ]
  },
  {
   "cell_type": "markdown",
   "id": "c6dfd3b6",
   "metadata": {
    "id": "c6dfd3b6"
   },
   "source": [
    "\n",
    "## 5.7 (4 points)\n",
    "\n",
    "Create a summary table showing the counts and percentages of encounters by admission type.\n",
    "\n",
    "You may need to use the `ID_mappings.csv` file to obtain the descriptions of each code."
   ]
  },
  {
   "cell_type": "code",
   "execution_count": 21,
   "id": "7caa8ecf",
   "metadata": {},
   "outputs": [],
   "source": [
    "#!pip install tableone"
   ]
  },
  {
   "cell_type": "code",
   "execution_count": 22,
   "id": "8e981951",
   "metadata": {
    "id": "8e981951"
   },
   "outputs": [
    {
     "data": {
      "text/html": [
       "<div>\n",
       "<style scoped>\n",
       "    .dataframe tbody tr th:only-of-type {\n",
       "        vertical-align: middle;\n",
       "    }\n",
       "\n",
       "    .dataframe tbody tr th {\n",
       "        vertical-align: top;\n",
       "    }\n",
       "\n",
       "    .dataframe thead th {\n",
       "        text-align: right;\n",
       "    }\n",
       "</style>\n",
       "<table border=\"1\" class=\"dataframe\">\n",
       "  <thead>\n",
       "    <tr style=\"text-align: right;\">\n",
       "      <th></th>\n",
       "      <th></th>\n",
       "      <th>Missing</th>\n",
       "      <th>Overall</th>\n",
       "    </tr>\n",
       "  </thead>\n",
       "  <tbody>\n",
       "    <tr>\n",
       "      <th>n</th>\n",
       "      <th></th>\n",
       "      <td></td>\n",
       "      <td>101766</td>\n",
       "    </tr>\n",
       "    <tr>\n",
       "      <th rowspan=\"8\" valign=\"top\">admission_type_id, n (%)</th>\n",
       "      <th>1</th>\n",
       "      <td>0</td>\n",
       "      <td>53990 (53.1)</td>\n",
       "    </tr>\n",
       "    <tr>\n",
       "      <th>2</th>\n",
       "      <td></td>\n",
       "      <td>18480 (18.2)</td>\n",
       "    </tr>\n",
       "    <tr>\n",
       "      <th>3</th>\n",
       "      <td></td>\n",
       "      <td>18869 (18.5)</td>\n",
       "    </tr>\n",
       "    <tr>\n",
       "      <th>4</th>\n",
       "      <td></td>\n",
       "      <td>10 (0.0)</td>\n",
       "    </tr>\n",
       "    <tr>\n",
       "      <th>5</th>\n",
       "      <td></td>\n",
       "      <td>4785 (4.7)</td>\n",
       "    </tr>\n",
       "    <tr>\n",
       "      <th>6</th>\n",
       "      <td></td>\n",
       "      <td>5291 (5.2)</td>\n",
       "    </tr>\n",
       "    <tr>\n",
       "      <th>7</th>\n",
       "      <td></td>\n",
       "      <td>21 (0.0)</td>\n",
       "    </tr>\n",
       "    <tr>\n",
       "      <th>8</th>\n",
       "      <td></td>\n",
       "      <td>320 (0.3)</td>\n",
       "    </tr>\n",
       "  </tbody>\n",
       "</table>\n",
       "</div><br />"
      ],
      "text/plain": [
       "                           Missing       Overall\n",
       "n                                         101766\n",
       "admission_type_id, n (%) 1       0  53990 (53.1)\n",
       "                         2          18480 (18.2)\n",
       "                         3          18869 (18.5)\n",
       "                         4              10 (0.0)\n",
       "                         5            4785 (4.7)\n",
       "                         6            5291 (5.2)\n",
       "                         7              21 (0.0)\n",
       "                         8             320 (0.3)"
      ]
     },
     "execution_count": 22,
     "metadata": {},
     "output_type": "execute_result"
    }
   ],
   "source": [
    "# For help see https://github.com/tompollard/tableone\n",
    "from tableone import TableOne\n",
    "\n",
    "TableOne(df, columns=['admission_type_id'], categorical=['admission_type_id'])\n"
   ]
  },
  {
   "cell_type": "markdown",
   "id": "ac19cb18",
   "metadata": {
    "id": "ac19cb18"
   },
   "source": [
    "\n",
    "## 5.8 (5 points)\n",
    "\n",
    "Do the admission types differ between genders when it comes to admission at the emergency department?\n",
    "\n",
    "First, create a summary table showing frequency and percentages of each admission type by gender Then comment on whether there is a gender difference in Emergency admissions."
   ]
  },
  {
   "cell_type": "code",
   "execution_count": 23,
   "id": "658d1bfd",
   "metadata": {
    "id": "658d1bfd"
   },
   "outputs": [
    {
     "data": {
      "text/html": [
       "<div>\n",
       "<style scoped>\n",
       "    .dataframe tbody tr th:only-of-type {\n",
       "        vertical-align: middle;\n",
       "    }\n",
       "\n",
       "    .dataframe tbody tr th {\n",
       "        vertical-align: top;\n",
       "    }\n",
       "\n",
       "    .dataframe thead tr th {\n",
       "        text-align: left;\n",
       "    }\n",
       "</style>\n",
       "<table border=\"1\" class=\"dataframe\">\n",
       "  <thead>\n",
       "    <tr>\n",
       "      <th></th>\n",
       "      <th></th>\n",
       "      <th colspan=\"5\" halign=\"left\">Grouped by gender</th>\n",
       "    </tr>\n",
       "    <tr>\n",
       "      <th></th>\n",
       "      <th></th>\n",
       "      <th>Missing</th>\n",
       "      <th>Overall</th>\n",
       "      <th>Female</th>\n",
       "      <th>Male</th>\n",
       "      <th>Unknown/Invalid</th>\n",
       "    </tr>\n",
       "  </thead>\n",
       "  <tbody>\n",
       "    <tr>\n",
       "      <th>n</th>\n",
       "      <th></th>\n",
       "      <td></td>\n",
       "      <td>101766</td>\n",
       "      <td>54708</td>\n",
       "      <td>47055</td>\n",
       "      <td>3</td>\n",
       "    </tr>\n",
       "    <tr>\n",
       "      <th rowspan=\"8\" valign=\"top\">admission_type_id, n (%)</th>\n",
       "      <th>1</th>\n",
       "      <td>0</td>\n",
       "      <td>53990 (53.1)</td>\n",
       "      <td>29448 (53.8)</td>\n",
       "      <td>24540 (52.2)</td>\n",
       "      <td>2 (66.7)</td>\n",
       "    </tr>\n",
       "    <tr>\n",
       "      <th>2</th>\n",
       "      <td></td>\n",
       "      <td>18480 (18.2)</td>\n",
       "      <td>9894 (18.1)</td>\n",
       "      <td>8586 (18.2)</td>\n",
       "      <td></td>\n",
       "    </tr>\n",
       "    <tr>\n",
       "      <th>3</th>\n",
       "      <td></td>\n",
       "      <td>18869 (18.5)</td>\n",
       "      <td>9840 (18.0)</td>\n",
       "      <td>9028 (19.2)</td>\n",
       "      <td>1 (33.3)</td>\n",
       "    </tr>\n",
       "    <tr>\n",
       "      <th>4</th>\n",
       "      <td></td>\n",
       "      <td>10 (0.0)</td>\n",
       "      <td>3 (0.0)</td>\n",
       "      <td>7 (0.0)</td>\n",
       "      <td></td>\n",
       "    </tr>\n",
       "    <tr>\n",
       "      <th>5</th>\n",
       "      <td></td>\n",
       "      <td>4785 (4.7)</td>\n",
       "      <td>2609 (4.8)</td>\n",
       "      <td>2176 (4.6)</td>\n",
       "      <td></td>\n",
       "    </tr>\n",
       "    <tr>\n",
       "      <th>6</th>\n",
       "      <td></td>\n",
       "      <td>5291 (5.2)</td>\n",
       "      <td>2729 (5.0)</td>\n",
       "      <td>2562 (5.4)</td>\n",
       "      <td></td>\n",
       "    </tr>\n",
       "    <tr>\n",
       "      <th>7</th>\n",
       "      <td></td>\n",
       "      <td>21 (0.0)</td>\n",
       "      <td>9 (0.0)</td>\n",
       "      <td>12 (0.0)</td>\n",
       "      <td></td>\n",
       "    </tr>\n",
       "    <tr>\n",
       "      <th>8</th>\n",
       "      <td></td>\n",
       "      <td>320 (0.3)</td>\n",
       "      <td>176 (0.3)</td>\n",
       "      <td>144 (0.3)</td>\n",
       "      <td></td>\n",
       "    </tr>\n",
       "  </tbody>\n",
       "</table>\n",
       "</div><br />"
      ],
      "text/plain": [
       "                           Grouped by gender                                                          \n",
       "                                     Missing       Overall        Female          Male Unknown/Invalid\n",
       "n                                                   101766         54708         47055               3\n",
       "admission_type_id, n (%) 1                 0  53990 (53.1)  29448 (53.8)  24540 (52.2)        2 (66.7)\n",
       "                         2                    18480 (18.2)   9894 (18.1)   8586 (18.2)                \n",
       "                         3                    18869 (18.5)   9840 (18.0)   9028 (19.2)        1 (33.3)\n",
       "                         4                        10 (0.0)       3 (0.0)       7 (0.0)                \n",
       "                         5                      4785 (4.7)    2609 (4.8)    2176 (4.6)                \n",
       "                         6                      5291 (5.2)    2729 (5.0)    2562 (5.4)                \n",
       "                         7                        21 (0.0)       9 (0.0)      12 (0.0)                \n",
       "                         8                       320 (0.3)     176 (0.3)     144 (0.3)                "
      ]
     },
     "execution_count": 23,
     "metadata": {},
     "output_type": "execute_result"
    }
   ],
   "source": [
    "TableOne(df, columns=['admission_type_id'], categorical=['admission_type_id'], groupby='gender')"
   ]
  },
  {
   "cell_type": "markdown",
   "id": "ee9a4587",
   "metadata": {},
   "source": [
    "The observed difference in Emergency admissions between females and males is relatively small at 1.6%. While females have a slightly higher percentage of Emergency admissions than males, the difference might not be statistically significant. Therefore, we would need to conduct a statistical test, such as the chi-square test for independence. If the p-value from such a test is below a predetermined significance level (commonly 0.05), then we might conclude that there is a statistically significant gender difference in Emergency admissions."
   ]
  },
  {
   "cell_type": "markdown",
   "id": "76f0c721",
   "metadata": {
    "id": "76f0c721"
   },
   "source": [
    "## 5.9 (2 points)\n",
    "\n",
    "Using the patients admitted through the emergency only, create a frequency table for encounter volume by age group. The first column should show the age groups, and the other columns should show the frequency and percentages."
   ]
  },
  {
   "cell_type": "code",
   "execution_count": 24,
   "id": "caaba62d",
   "metadata": {
    "id": "caaba62d"
   },
   "outputs": [
    {
     "data": {
      "text/html": [
       "<div>\n",
       "<style scoped>\n",
       "    .dataframe tbody tr th:only-of-type {\n",
       "        vertical-align: middle;\n",
       "    }\n",
       "\n",
       "    .dataframe tbody tr th {\n",
       "        vertical-align: top;\n",
       "    }\n",
       "\n",
       "    .dataframe thead th {\n",
       "        text-align: right;\n",
       "    }\n",
       "</style>\n",
       "<table border=\"1\" class=\"dataframe\">\n",
       "  <thead>\n",
       "    <tr style=\"text-align: right;\">\n",
       "      <th></th>\n",
       "      <th></th>\n",
       "      <th>Missing</th>\n",
       "      <th>Overall</th>\n",
       "    </tr>\n",
       "  </thead>\n",
       "  <tbody>\n",
       "    <tr>\n",
       "      <th>n</th>\n",
       "      <th></th>\n",
       "      <td></td>\n",
       "      <td>53990</td>\n",
       "    </tr>\n",
       "    <tr>\n",
       "      <th rowspan=\"10\" valign=\"top\">age, n (%)</th>\n",
       "      <th>[0-10)</th>\n",
       "      <td>0</td>\n",
       "      <td>105 (0.2)</td>\n",
       "    </tr>\n",
       "    <tr>\n",
       "      <th>[10-20)</th>\n",
       "      <td></td>\n",
       "      <td>442 (0.8)</td>\n",
       "    </tr>\n",
       "    <tr>\n",
       "      <th>[20-30)</th>\n",
       "      <td></td>\n",
       "      <td>941 (1.7)</td>\n",
       "    </tr>\n",
       "    <tr>\n",
       "      <th>[30-40)</th>\n",
       "      <td></td>\n",
       "      <td>2071 (3.8)</td>\n",
       "    </tr>\n",
       "    <tr>\n",
       "      <th>[40-50)</th>\n",
       "      <td></td>\n",
       "      <td>5259 (9.7)</td>\n",
       "    </tr>\n",
       "    <tr>\n",
       "      <th>[50-60)</th>\n",
       "      <td></td>\n",
       "      <td>8907 (16.5)</td>\n",
       "    </tr>\n",
       "    <tr>\n",
       "      <th>[60-70)</th>\n",
       "      <td></td>\n",
       "      <td>11148 (20.6)</td>\n",
       "    </tr>\n",
       "    <tr>\n",
       "      <th>[70-80)</th>\n",
       "      <td></td>\n",
       "      <td>13474 (25.0)</td>\n",
       "    </tr>\n",
       "    <tr>\n",
       "      <th>[80-90)</th>\n",
       "      <td></td>\n",
       "      <td>9878 (18.3)</td>\n",
       "    </tr>\n",
       "    <tr>\n",
       "      <th>[90-100)</th>\n",
       "      <td></td>\n",
       "      <td>1765 (3.3)</td>\n",
       "    </tr>\n",
       "  </tbody>\n",
       "</table>\n",
       "</div><br />"
      ],
      "text/plain": [
       "                    Missing       Overall\n",
       "n                                   53990\n",
       "age, n (%) [0-10)         0     105 (0.2)\n",
       "           [10-20)              442 (0.8)\n",
       "           [20-30)              941 (1.7)\n",
       "           [30-40)             2071 (3.8)\n",
       "           [40-50)             5259 (9.7)\n",
       "           [50-60)            8907 (16.5)\n",
       "           [60-70)           11148 (20.6)\n",
       "           [70-80)           13474 (25.0)\n",
       "           [80-90)            9878 (18.3)\n",
       "           [90-100)            1765 (3.3)"
      ]
     },
     "execution_count": 24,
     "metadata": {},
     "output_type": "execute_result"
    }
   ],
   "source": [
    "# select only admission through Emergency (admission_id = 1)\n",
    "emergency_df = df[df['admission_type_id'] == 1]\n",
    "\n",
    "TableOne(emergency_df, columns=['age'], categorical=['age'])"
   ]
  },
  {
   "cell_type": "markdown",
   "id": "6ef971a0",
   "metadata": {
    "id": "6ef971a0"
   },
   "source": [
    "\n",
    "## 5.10 (5 points)\n",
    "\n",
    "Is there any association between admission type and blood glucose level (`A1Cresult`)?\n",
    "\n",
    "- Consider admission type 1, 2, 3 only\n",
    "- Exclude the cases where A1C result is not available or `None`\n",
    "\n",
    "Create two categories for the `A1Cresults` and call it`A1Cresults_coded` as\n",
    "\n",
    "- None as NA (missing value)\n",
    "- Norm as \"0: Normal\",\n",
    "- \">7\" or \">8\" as \"1: Diabetic\"`\n",
    "\n",
    "To answer this question, create a frequency table showing the `n` and `\\%` with admission types in row and glucose level on the column. Comment based on this table. No statistical test is needed.\n",
    "\n",
    "Please note, since there are multiple rows per patient, a patient may have different A1C results at different encounter. Therefore, we will only consider the highest value (>8 will have highest priority followed by >7, and 'Norm') for each patient.\n"
   ]
  },
  {
   "cell_type": "code",
   "execution_count": 25,
   "id": "8401de01",
   "metadata": {
    "id": "8401de01"
   },
   "outputs": [
    {
     "data": {
      "text/plain": [
       "A1Cresult_coded\n",
       "1: Diabetic    10055\n",
       "0: Normal       4384\n",
       "Name: count, dtype: int64"
      ]
     },
     "execution_count": 25,
     "metadata": {},
     "output_type": "execute_result"
    }
   ],
   "source": [
    "def prepare_data(df):\n",
    "\n",
    "    \"\"\"\n",
    "    Function to create the working data for this particular problem only\n",
    "    Returns the prepared data frame\n",
    "    \"\"\"\n",
    "    # ToDo\n",
    "    # exclude cases with None values for A1Cresults\n",
    "    df = df[df['A1Cresult'].notna()]\n",
    "\n",
    "    # keep only admission types 1, 2, 3\n",
    "    df = df[df['admission_type_id'].isin([1, 2, 3])]\n",
    "\n",
    "    # Create two categories for glucose levels and assign priority\n",
    "    def code_A1Cresult(row):\n",
    "        if row == 'Norm':\n",
    "            return (\"0: Normal\", 0)\n",
    "        elif row == \">7\":\n",
    "            return (\"1: Diabetic\", 1)\n",
    "        elif row == \">8\":\n",
    "            return (\"1: Diabetic\", 2)\n",
    "        \n",
    "    df['A1Cresult_coded'], df['priority'] = zip(*df['A1Cresult'].apply(code_A1Cresult))\n",
    "    \n",
    "    # Group by patient_nbr and admission_type and keep the record with the max priority for A1Cresult\n",
    "    idx = df.groupby(['patient_nbr', 'admission_type_id'])['priority'].idxmax()\n",
    "    df = df.loc[idx]\n",
    "    \n",
    "    df.drop(columns=['priority'], inplace=True)\n",
    "    \n",
    "    return df\n",
    "\n",
    "\n",
    "# Execute the function\n",
    "df_ = prepare_data(df)\n",
    "df_['A1Cresult_coded'].value_counts()"
   ]
  },
  {
   "cell_type": "code",
   "execution_count": 26,
   "id": "8777a2ba",
   "metadata": {},
   "outputs": [
    {
     "data": {
      "text/html": [
       "<div>\n",
       "<style scoped>\n",
       "    .dataframe tbody tr th:only-of-type {\n",
       "        vertical-align: middle;\n",
       "    }\n",
       "\n",
       "    .dataframe tbody tr th {\n",
       "        vertical-align: top;\n",
       "    }\n",
       "\n",
       "    .dataframe thead tr th {\n",
       "        text-align: left;\n",
       "    }\n",
       "</style>\n",
       "<table border=\"1\" class=\"dataframe\">\n",
       "  <thead>\n",
       "    <tr>\n",
       "      <th></th>\n",
       "      <th></th>\n",
       "      <th colspan=\"6\" halign=\"left\">Grouped by admission_type_id</th>\n",
       "    </tr>\n",
       "    <tr>\n",
       "      <th></th>\n",
       "      <th></th>\n",
       "      <th>Missing</th>\n",
       "      <th>Overall</th>\n",
       "      <th>1</th>\n",
       "      <th>2</th>\n",
       "      <th>3</th>\n",
       "      <th>P-Value</th>\n",
       "    </tr>\n",
       "  </thead>\n",
       "  <tbody>\n",
       "    <tr>\n",
       "      <th>n</th>\n",
       "      <th></th>\n",
       "      <td></td>\n",
       "      <td>14439</td>\n",
       "      <td>9562</td>\n",
       "      <td>3009</td>\n",
       "      <td>1868</td>\n",
       "      <td></td>\n",
       "    </tr>\n",
       "    <tr>\n",
       "      <th rowspan=\"2\" valign=\"top\">A1Cresult_coded, n (%)</th>\n",
       "      <th>0: Normal</th>\n",
       "      <td>0</td>\n",
       "      <td>4384 (30.4)</td>\n",
       "      <td>2927 (30.6)</td>\n",
       "      <td>890 (29.6)</td>\n",
       "      <td>567 (30.4)</td>\n",
       "      <td>0.561</td>\n",
       "    </tr>\n",
       "    <tr>\n",
       "      <th>1: Diabetic</th>\n",
       "      <td></td>\n",
       "      <td>10055 (69.6)</td>\n",
       "      <td>6635 (69.4)</td>\n",
       "      <td>2119 (70.4)</td>\n",
       "      <td>1301 (69.6)</td>\n",
       "      <td></td>\n",
       "    </tr>\n",
       "  </tbody>\n",
       "</table>\n",
       "</div><br />"
      ],
      "text/plain": [
       "                                   Grouped by admission_type_id                                                             \n",
       "                                                        Missing       Overall            1            2            3 P-Value\n",
       "n                                                                       14439         9562         3009         1868        \n",
       "A1Cresult_coded, n (%) 0: Normal                              0   4384 (30.4)  2927 (30.6)   890 (29.6)   567 (30.4)   0.561\n",
       "                       1: Diabetic                               10055 (69.6)  6635 (69.4)  2119 (70.4)  1301 (69.6)        "
      ]
     },
     "execution_count": 26,
     "metadata": {},
     "output_type": "execute_result"
    }
   ],
   "source": [
    "TableOne(df_, columns=['admission_type_id', 'A1Cresult_coded'], categorical=['A1Cresult_coded'], groupby='admission_type_id', pval=True)"
   ]
  },
  {
   "cell_type": "code",
   "execution_count": 27,
   "id": "fee060f7",
   "metadata": {},
   "outputs": [
    {
     "name": "stdout",
     "output_type": "stream",
     "text": [
      "                          n                             %                   \n",
      "A1Cresult_coded   0: Normal 1: Diabetic  Total  0: Normal 1: Diabetic  Total\n",
      "admission_type_id                                                           \n",
      "1                      2927        6635   9562  30.610751   69.389249  100.0\n",
      "2                       890        2119   3009  29.577933   70.422067  100.0\n",
      "3                       567        1301   1868  30.353319   69.646681  100.0\n",
      "Total                  4384       10055  14439  30.362213   69.637787  100.0\n"
     ]
    }
   ],
   "source": [
    "# Crosstab with counts for each admission type and glucose level\n",
    "freq_table = pd.crosstab(index=df_['admission_type_id'], columns=df_['A1Cresult_coded'], margins=True, margins_name=\"Total\")\n",
    "\n",
    "# Calculate the percentages\n",
    "percent_table = freq_table.div(freq_table.iloc[:,-1], axis=0) * 100\n",
    "\n",
    "# Combine both tables for n and %\n",
    "combined_table = pd.concat([freq_table, percent_table], keys=['n', '%'], axis=1)\n",
    "\n",
    "print(combined_table)"
   ]
  },
  {
   "cell_type": "markdown",
   "id": "c7282099",
   "metadata": {
    "id": "c7282099"
   },
   "source": [
    "## 5.11 (5 points)\n",
    "\n",
    "Are there patients admitted through the emergency, having A1C results 8 or more who expired (died)? If so, create a table to show volume and percentage of such patients by gender and age group."
   ]
  },
  {
   "cell_type": "code",
   "execution_count": 28,
   "id": "64361e21",
   "metadata": {
    "id": "64361e21"
   },
   "outputs": [],
   "source": [
    "def prepare_data(df):\n",
    "    # ToDo\n",
    "    df = df[(df['admission_type_id'] == 1) & \n",
    "            (df['A1Cresult'] == '>8') & \n",
    "            (df['discharge_disposition_id'].isin([11, 19, 20, 21]))]\n",
    "    \n",
    "    return df"
   ]
  },
  {
   "cell_type": "code",
   "execution_count": 29,
   "id": "8041dade",
   "metadata": {
    "id": "8041dade"
   },
   "outputs": [
    {
     "data": {
      "text/html": [
       "<div>\n",
       "<style scoped>\n",
       "    .dataframe tbody tr th:only-of-type {\n",
       "        vertical-align: middle;\n",
       "    }\n",
       "\n",
       "    .dataframe tbody tr th {\n",
       "        vertical-align: top;\n",
       "    }\n",
       "\n",
       "    .dataframe thead tr th {\n",
       "        text-align: left;\n",
       "    }\n",
       "</style>\n",
       "<table border=\"1\" class=\"dataframe\">\n",
       "  <thead>\n",
       "    <tr>\n",
       "      <th></th>\n",
       "      <th></th>\n",
       "      <th colspan=\"4\" halign=\"left\">Grouped by gender</th>\n",
       "    </tr>\n",
       "    <tr>\n",
       "      <th></th>\n",
       "      <th></th>\n",
       "      <th>Missing</th>\n",
       "      <th>Overall</th>\n",
       "      <th>Female</th>\n",
       "      <th>Male</th>\n",
       "    </tr>\n",
       "  </thead>\n",
       "  <tbody>\n",
       "    <tr>\n",
       "      <th>n</th>\n",
       "      <th></th>\n",
       "      <td></td>\n",
       "      <td>38</td>\n",
       "      <td>9</td>\n",
       "      <td>29</td>\n",
       "    </tr>\n",
       "    <tr>\n",
       "      <th rowspan=\"7\" valign=\"top\">age, n (%)</th>\n",
       "      <th>[70-80)</th>\n",
       "      <td>0</td>\n",
       "      <td>10 (26.3)</td>\n",
       "      <td>3 (33.3)</td>\n",
       "      <td>7 (24.1)</td>\n",
       "    </tr>\n",
       "    <tr>\n",
       "      <th>[80-90)</th>\n",
       "      <td></td>\n",
       "      <td>10 (26.3)</td>\n",
       "      <td>5 (55.6)</td>\n",
       "      <td>5 (17.2)</td>\n",
       "    </tr>\n",
       "    <tr>\n",
       "      <th>[90-100)</th>\n",
       "      <td></td>\n",
       "      <td>2 (5.3)</td>\n",
       "      <td>1 (11.1)</td>\n",
       "      <td>1 (3.4)</td>\n",
       "    </tr>\n",
       "    <tr>\n",
       "      <th>[20-30)</th>\n",
       "      <td></td>\n",
       "      <td>1 (2.6)</td>\n",
       "      <td></td>\n",
       "      <td>1 (3.4)</td>\n",
       "    </tr>\n",
       "    <tr>\n",
       "      <th>[40-50)</th>\n",
       "      <td></td>\n",
       "      <td>4 (10.5)</td>\n",
       "      <td></td>\n",
       "      <td>4 (13.8)</td>\n",
       "    </tr>\n",
       "    <tr>\n",
       "      <th>[50-60)</th>\n",
       "      <td></td>\n",
       "      <td>4 (10.5)</td>\n",
       "      <td></td>\n",
       "      <td>4 (13.8)</td>\n",
       "    </tr>\n",
       "    <tr>\n",
       "      <th>[60-70)</th>\n",
       "      <td></td>\n",
       "      <td>7 (18.4)</td>\n",
       "      <td></td>\n",
       "      <td>7 (24.1)</td>\n",
       "    </tr>\n",
       "  </tbody>\n",
       "</table>\n",
       "</div><br />"
      ],
      "text/plain": [
       "                    Grouped by gender                               \n",
       "                              Missing    Overall    Female      Male\n",
       "n                                             38         9        29\n",
       "age, n (%) [70-80)                  0  10 (26.3)  3 (33.3)  7 (24.1)\n",
       "           [80-90)                     10 (26.3)  5 (55.6)  5 (17.2)\n",
       "           [90-100)                      2 (5.3)  1 (11.1)   1 (3.4)\n",
       "           [20-30)                       1 (2.6)             1 (3.4)\n",
       "           [40-50)                      4 (10.5)            4 (13.8)\n",
       "           [50-60)                      4 (10.5)            4 (13.8)\n",
       "           [60-70)                      7 (18.4)            7 (24.1)"
      ]
     },
     "execution_count": 29,
     "metadata": {},
     "output_type": "execute_result"
    }
   ],
   "source": [
    "# ToDo: Creating the summary table\n",
    "\n",
    "df_ = prepare_data(df)\n",
    "\n",
    "TableOne(df_, columns=['gender', 'age'], categorical=['age'], groupby='gender')"
   ]
  },
  {
   "cell_type": "markdown",
   "id": "fb76107c",
   "metadata": {
    "id": "fb76107c"
   },
   "source": [
    "## 5.12 (5)\n",
    "\n",
    "Are there patients admitted through the emergency, having A1C results 8 or more who were readmitted within 30 days? If so, create a table by age-group and gender and show volume and percentage of such patients."
   ]
  },
  {
   "cell_type": "code",
   "execution_count": 30,
   "id": "e81fe618",
   "metadata": {
    "id": "e81fe618"
   },
   "outputs": [
    {
     "data": {
      "text/plain": [
       "(505, 10)"
      ]
     },
     "execution_count": 30,
     "metadata": {},
     "output_type": "execute_result"
    }
   ],
   "source": [
    "def prepare_data(df):\n",
    "    # ToDo\n",
    "    df = df[(df['admission_type_id'] == 1) & \n",
    "                     (df['A1Cresult'] == '>8') & \n",
    "                     (df['readmitted'] == '<30')]\n",
    "    return df\n",
    "\n",
    "df_ = prepare_data(df)\n",
    "\n",
    "df_.shape"
   ]
  },
  {
   "cell_type": "code",
   "execution_count": 31,
   "id": "32d20314",
   "metadata": {
    "id": "32d20314"
   },
   "outputs": [
    {
     "data": {
      "text/html": [
       "<div>\n",
       "<style scoped>\n",
       "    .dataframe tbody tr th:only-of-type {\n",
       "        vertical-align: middle;\n",
       "    }\n",
       "\n",
       "    .dataframe tbody tr th {\n",
       "        vertical-align: top;\n",
       "    }\n",
       "\n",
       "    .dataframe thead tr th {\n",
       "        text-align: left;\n",
       "    }\n",
       "</style>\n",
       "<table border=\"1\" class=\"dataframe\">\n",
       "  <thead>\n",
       "    <tr>\n",
       "      <th></th>\n",
       "      <th></th>\n",
       "      <th colspan=\"4\" halign=\"left\">Grouped by gender</th>\n",
       "    </tr>\n",
       "    <tr>\n",
       "      <th></th>\n",
       "      <th></th>\n",
       "      <th>Missing</th>\n",
       "      <th>Overall</th>\n",
       "      <th>Female</th>\n",
       "      <th>Male</th>\n",
       "    </tr>\n",
       "  </thead>\n",
       "  <tbody>\n",
       "    <tr>\n",
       "      <th>n</th>\n",
       "      <th></th>\n",
       "      <td></td>\n",
       "      <td>505</td>\n",
       "      <td>267</td>\n",
       "      <td>238</td>\n",
       "    </tr>\n",
       "    <tr>\n",
       "      <th rowspan=\"10\" valign=\"top\">age, n (%)</th>\n",
       "      <th>[10-20)</th>\n",
       "      <td>0</td>\n",
       "      <td>6 (1.2)</td>\n",
       "      <td>4 (1.5)</td>\n",
       "      <td>2 (0.8)</td>\n",
       "    </tr>\n",
       "    <tr>\n",
       "      <th>[20-30)</th>\n",
       "      <td></td>\n",
       "      <td>18 (3.6)</td>\n",
       "      <td>12 (4.5)</td>\n",
       "      <td>6 (2.5)</td>\n",
       "    </tr>\n",
       "    <tr>\n",
       "      <th>[30-40)</th>\n",
       "      <td></td>\n",
       "      <td>41 (8.1)</td>\n",
       "      <td>24 (9.0)</td>\n",
       "      <td>17 (7.1)</td>\n",
       "    </tr>\n",
       "    <tr>\n",
       "      <th>[40-50)</th>\n",
       "      <td></td>\n",
       "      <td>84 (16.6)</td>\n",
       "      <td>38 (14.2)</td>\n",
       "      <td>46 (19.3)</td>\n",
       "    </tr>\n",
       "    <tr>\n",
       "      <th>[50-60)</th>\n",
       "      <td></td>\n",
       "      <td>90 (17.8)</td>\n",
       "      <td>51 (19.1)</td>\n",
       "      <td>39 (16.4)</td>\n",
       "    </tr>\n",
       "    <tr>\n",
       "      <th>[60-70)</th>\n",
       "      <td></td>\n",
       "      <td>103 (20.4)</td>\n",
       "      <td>50 (18.7)</td>\n",
       "      <td>53 (22.3)</td>\n",
       "    </tr>\n",
       "    <tr>\n",
       "      <th>[70-80)</th>\n",
       "      <td></td>\n",
       "      <td>118 (23.4)</td>\n",
       "      <td>58 (21.7)</td>\n",
       "      <td>60 (25.2)</td>\n",
       "    </tr>\n",
       "    <tr>\n",
       "      <th>[80-90)</th>\n",
       "      <td></td>\n",
       "      <td>35 (6.9)</td>\n",
       "      <td>24 (9.0)</td>\n",
       "      <td>11 (4.6)</td>\n",
       "    </tr>\n",
       "    <tr>\n",
       "      <th>[90-100)</th>\n",
       "      <td></td>\n",
       "      <td>9 (1.8)</td>\n",
       "      <td>6 (2.2)</td>\n",
       "      <td>3 (1.3)</td>\n",
       "    </tr>\n",
       "    <tr>\n",
       "      <th>[0-10)</th>\n",
       "      <td></td>\n",
       "      <td>1 (0.2)</td>\n",
       "      <td></td>\n",
       "      <td>1 (0.4)</td>\n",
       "    </tr>\n",
       "  </tbody>\n",
       "</table>\n",
       "</div><br />"
      ],
      "text/plain": [
       "                    Grouped by gender                                  \n",
       "                              Missing     Overall     Female       Male\n",
       "n                                             505        267        238\n",
       "age, n (%) [10-20)                  0     6 (1.2)    4 (1.5)    2 (0.8)\n",
       "           [20-30)                       18 (3.6)   12 (4.5)    6 (2.5)\n",
       "           [30-40)                       41 (8.1)   24 (9.0)   17 (7.1)\n",
       "           [40-50)                      84 (16.6)  38 (14.2)  46 (19.3)\n",
       "           [50-60)                      90 (17.8)  51 (19.1)  39 (16.4)\n",
       "           [60-70)                     103 (20.4)  50 (18.7)  53 (22.3)\n",
       "           [70-80)                     118 (23.4)  58 (21.7)  60 (25.2)\n",
       "           [80-90)                       35 (6.9)   24 (9.0)   11 (4.6)\n",
       "           [90-100)                       9 (1.8)    6 (2.2)    3 (1.3)\n",
       "           [0-10)                         1 (0.2)               1 (0.4)"
      ]
     },
     "execution_count": 31,
     "metadata": {},
     "output_type": "execute_result"
    }
   ],
   "source": [
    "# Creating the summary table\n",
    "TableOne(df_, columns=['gender', 'age'], categorical=['age'], groupby='gender')"
   ]
  },
  {
   "cell_type": "markdown",
   "id": "zuBGfItIB8O3",
   "metadata": {
    "id": "zuBGfItIB8O3"
   },
   "source": [
    "\n",
    "# 6 (3 points)\n",
    "\n",
    "Create a function in Python to compute the cross entropy between the predicted and the observed distributions of a discrete random variable. Remember, the cross entropy between the predicted distribution ($q$) and the observed distribution ($p$) is defined as:\n",
    "\n",
    "$H(p, q) = -\\sum_{x} p(x) \\log q(x)$"
   ]
  },
  {
   "cell_type": "code",
   "execution_count": 32,
   "id": "tT63pT_7B8O4",
   "metadata": {
    "id": "tT63pT_7B8O4",
    "outputId": "7bd7bfd5-ef85-4d1f-bd39-26c18d1e8636"
   },
   "outputs": [
    {
     "name": "stdout",
     "output_type": "stream",
     "text": [
      "1.0680921393326832\n"
     ]
    }
   ],
   "source": [
    "import math\n",
    "\n",
    "def cross_entropy(p, q):\n",
    "    # ToDo\n",
    "    return -sum([p[i] * math.log(q[i]) for i in range(len(p))])\n",
    "\n",
    "print(cross_entropy([0.1, 0.2, 0.1, 0.7], [0.05, 0.25, 0.15, 0.65]))"
   ]
  },
  {
   "cell_type": "markdown",
   "id": "lTmQXLYZW374",
   "metadata": {
    "id": "lTmQXLYZW374"
   },
   "source": [
    "\n",
    "# 7 (12 points)\n",
    "\n",
    "Solve each part of Question 9, section 2.4 from An Introduction to Statistical Learning - Python (Link to Ebook: https://hastie.su.domains/ISLP/ISLP_website.pdf)\n",
    "\n",
    "Auto Dataset for the question can be found in resources here: https://www.statlearning.com/resources-python\n",
    "\n",
    "Each part (a), (b), (c), (d), (e), (f) is 2 points each"
   ]
  },
  {
   "cell_type": "code",
   "execution_count": 33,
   "id": "Nort4-JnW840",
   "metadata": {
    "id": "Nort4-JnW840"
   },
   "outputs": [
    {
     "name": "stdout",
     "output_type": "stream",
     "text": [
      "<class 'pandas.core.frame.DataFrame'>\n",
      "RangeIndex: 397 entries, 0 to 396\n",
      "Data columns (total 9 columns):\n",
      " #   Column        Non-Null Count  Dtype  \n",
      "---  ------        --------------  -----  \n",
      " 0   mpg           397 non-null    float64\n",
      " 1   cylinders     397 non-null    int64  \n",
      " 2   displacement  397 non-null    float64\n",
      " 3   horsepower    397 non-null    object \n",
      " 4   weight        397 non-null    int64  \n",
      " 5   acceleration  397 non-null    float64\n",
      " 6   year          397 non-null    int64  \n",
      " 7   origin        397 non-null    int64  \n",
      " 8   name          397 non-null    object \n",
      "dtypes: float64(3), int64(4), object(2)\n",
      "memory usage: 28.0+ KB\n",
      "None\n"
     ]
    }
   ],
   "source": [
    "#ToDo: Answer for part (a)\n",
    "\n",
    "# Load the dataset\n",
    "df = pd.read_csv('Auto.csv')\n",
    "\n",
    "# Display column data types\n",
    "print(df.info())"
   ]
  },
  {
   "cell_type": "markdown",
   "id": "7929e58f",
   "metadata": {},
   "source": [
    "Quantitative predictors: \"mpg\", \"cylinders\", \"displacement\", \"weight\", \"acceleration\", \"year\", \"origin\"  \n",
    "Qualitative predictors: \"horsepower\", \"name\""
   ]
  },
  {
   "cell_type": "code",
   "execution_count": 34,
   "id": "WP5pyX1vXMQZ",
   "metadata": {
    "id": "WP5pyX1vXMQZ"
   },
   "outputs": [
    {
     "name": "stdout",
     "output_type": "stream",
     "text": [
      "mpg: min=9.0, max=46.6\n",
      "cylinders: min=3, max=8\n",
      "displacement: min=68.0, max=455.0\n",
      "weight: min=1613, max=5140\n",
      "acceleration: min=8.0, max=24.8\n",
      "year: min=70, max=82\n",
      "origin: min=1, max=3\n"
     ]
    }
   ],
   "source": [
    "#ToDo: Answer for part (b)\n",
    "quantitative_columns = df.select_dtypes(include=['float64', 'int64']).columns\n",
    "\n",
    "for column in quantitative_columns:\n",
    "    print(f\"{column}: min={df[column].min()}, max={df[column].max()}\")"
   ]
  },
  {
   "cell_type": "code",
   "execution_count": 35,
   "id": "azxGq0HHXMg8",
   "metadata": {
    "id": "azxGq0HHXMg8"
   },
   "outputs": [
    {
     "name": "stdout",
     "output_type": "stream",
     "text": [
      "mpg: mean=23.51586901763224, standard deviation=7.815941538224256\n",
      "cylinders: mean=5.458438287153652, standard deviation=1.6994325855091355\n",
      "displacement: mean=193.53274559193954, standard deviation=104.24803997948834\n",
      "weight: mean=2970.2619647355164, standard deviation=846.8355568478047\n",
      "acceleration: mean=15.55566750629723, standard deviation=2.746529639056109\n",
      "year: mean=75.99496221662469, standard deviation=3.6853546098832237\n",
      "origin: mean=1.5743073047858942, standard deviation=0.801538090863641\n"
     ]
    }
   ],
   "source": [
    "#ToDo: Answer for part (c)\n",
    "for column in quantitative_columns:\n",
    "    mean_val = np.mean(df[column])\n",
    "    std_dev = np.std(df[column])\n",
    "    print(f\"{column}: mean={mean_val}, standard deviation={std_dev}\")"
   ]
  },
  {
   "cell_type": "code",
   "execution_count": 36,
   "id": "6uUFFe3ZXMqf",
   "metadata": {
    "id": "6uUFFe3ZXMqf"
   },
   "outputs": [
    {
     "name": "stdout",
     "output_type": "stream",
     "text": [
      "mpg: min=11.0, max=46.6, mean=24.438629283489096, standard deviation=7.895856596479212\n",
      "cylinders: min=3, max=8, mean=5.370716510903427, standard deviation=1.650908119022148\n",
      "displacement: min=68.0, max=455.0, mean=187.04984423676012, standard deviation=99.48006895812564\n",
      "weight: min=1649, max=4997, mean=2933.96261682243, standard deviation=809.3792697745698\n",
      "acceleration: min=8.5, max=24.8, mean=15.723052959501558, standard deviation=2.676335319376774\n",
      "year: min=70, max=82, mean=77.15264797507788, standard deviation=3.106379853135528\n",
      "origin: min=1, max=3, mean=1.5981308411214954, standard deviation=0.814890391698078\n"
     ]
    }
   ],
   "source": [
    "#ToDo: Answer for part (d)\n",
    "\n",
    "# Removing the 10th through 85th observations\n",
    "subset_df = df.drop(df.index[9:85])\n",
    "\n",
    "for column in quantitative_columns:\n",
    "    column_data = subset_df[column].values  # Convert the pandas Series to a numpy array\n",
    "    min_val = np.min(column_data)\n",
    "    max_val = np.max(column_data)\n",
    "    mean_val = np.mean(column_data)\n",
    "    std_dev = np.std(column_data)\n",
    "    print(f\"{column}: min={min_val}, max={max_val}, mean={mean_val}, standard deviation={std_dev}\")"
   ]
  },
  {
   "cell_type": "code",
   "execution_count": 37,
   "id": "vZtuw9RHXNHs",
   "metadata": {
    "id": "vZtuw9RHXNHs"
   },
   "outputs": [
    {
     "data": {
      "image/png": "[encoded data removed]",
      "text/plain": [
       "<Figure size 1350x300 with 3 Axes>"
      ]
     },
     "metadata": {},
     "output_type": "display_data"
    }
   ],
   "source": [
    "#ToDo: Answer for part (e)\n",
    "\n",
    "import seaborn as sns\n",
    "import matplotlib.pyplot as plt\n",
    "\n",
    "continuous_vars = ['displacement', 'weight', 'acceleration']\n",
    "\n",
    "# Create the pairplot\n",
    "sns.pairplot(df, x_vars=continuous_vars, y_vars=['mpg'], height=3, aspect=1.5)\n",
    "plt.show()"
   ]
  },
  {
   "cell_type": "markdown",
   "id": "18e55ad7",
   "metadata": {},
   "source": [
    "I plotted scatterplots focusing on mpg against displacement, weight, and acceleration to explore which continuous variables could be potential predictors for mpg. The plots revealed a negative correlation between mpg and both displacement and weight. However, there's a positive correlation between mpg and acceleration. This means that larger engine sizes and heavier cars tend to reduce fuel efficiency, while faster-accelerating cars seem to be more fuel-efficient."
   ]
  },
  {
   "cell_type": "code",
   "execution_count": 38,
   "id": "c017c476",
   "metadata": {},
   "outputs": [
    {
     "data": {
      "image/png": "[encoded data removed]",
      "text/plain": [
       "<Figure size 1200x600 with 2 Axes>"
      ]
     },
     "metadata": {},
     "output_type": "display_data"
    }
   ],
   "source": [
    "# Create a 1x2 grid for plots\n",
    "fig, axes = plt.subplots(1, 2, figsize=(12, 6))\n",
    "\n",
    "# Boxplot for mpg vs cylinders\n",
    "sns.boxplot(x='cylinders', y='mpg', data=df, ax=axes[0])\n",
    "axes[0].set_title('Boxplot of mpg vs cylinders')\n",
    "\n",
    "# Boxplot for mpg vs origin\n",
    "sns.boxplot(x='origin', y='mpg', data=df, ax=axes[1])\n",
    "axes[1].set_title('Boxplot of mpg vs origin')\n",
    "\n",
    "plt.tight_layout()\n",
    "plt.show()"
   ]
  },
  {
   "cell_type": "markdown",
   "id": "d0d4a160",
   "metadata": {},
   "source": [
    "I also plotted boxplots of mpg against cylinders and origin to explore which categorical variable could be potential predictors for mpg. \n",
    "\n",
    "According to the boxplot of mpg vs. cylinder, vehicles with 4 cylinders have the highest median mpg, suggesting they are the most fuel-efficient in this dataset. This is followed by vehicles with 5 cylinders, then 3 cylinders. On the lower end of the fuel efficiency scale are vehicles with 6 and 8 cylinders, with 8-cylinder vehicles having the lowest median mpg. This implies that as the number of cylinders increases (beyond 4 cylinders), fuel efficiency tends to decrease.\n",
    "\n",
    "The boxplot of mpg vs. origin reveals that mpg increases as origin shifts from 1 to 3.\n",
    "\n",
    "In summary, the number of cylinders a vehicle has and its origin are both significant indicators of its fuel efficiency. Generally, vehicles with fewer cylinders and those from origin 3 tend to be more fuel-efficient."
   ]
  },
  {
   "cell_type": "code",
   "execution_count": 39,
   "id": "ad87d014",
   "metadata": {},
   "outputs": [
    {
     "data": {
      "image/png": "[encoded data removed]",
      "text/plain": [
       "<Figure size 1200x600 with 1 Axes>"
      ]
     },
     "metadata": {},
     "output_type": "display_data"
    }
   ],
   "source": [
    "# Line plot for mpg vs year\n",
    "plt.figure(figsize=(12, 6))\n",
    "sns.lineplot(x='year', y='mpg', data=df, marker='o')\n",
    "plt.title('Mean mpg vs year')\n",
    "plt.show()"
   ]
  },
  {
   "cell_type": "markdown",
   "id": "ea90b5e6",
   "metadata": {},
   "source": [
    "I also plotted the trend of mpg over the years. Despite occasional sharp increases or decreases in individual years, there's a steady overall ascent in mpg as years progress, indicating continuous improvements in fuel efficiency over time."
   ]
  },
  {
   "cell_type": "code",
   "execution_count": 40,
   "id": "w50bcbLBXO5U",
   "metadata": {
    "id": "w50bcbLBXO5U"
   },
   "outputs": [],
   "source": [
    "#ToDo: Answer for part (f)\n"
   ]
  },
  {
   "cell_type": "markdown",
   "id": "08ab1125",
   "metadata": {},
   "source": [
    "Based on the above plots and analysis conducted, it's evident that both continuous and categorical predictors exhibit significant relationships with gas mileage (mpg). \n",
    "\n",
    "Starting with the continuous predictors: \"displacement\" and \"weight\" both manifest negative correlations with mpg, meaning as these values increase, fuel efficiency typically decreases. Conversely, \"acceleration\" reveals a positive correlation, suggesting vehicles with quicker acceleration tend to be more fuel-efficient. \n",
    "\n",
    "As for categorical predictors, the number of cylinders in a vehicle plays a distinct role in influencing mpg, with 4-cylinder vehicles being notably more fuel-efficient. The \"origin\" of vehicles further consolidates this pattern, with vehicles from origin 3 generally outperforming those from the other origins in terms of fuel efficiency. \n",
    "\n",
    "Lastly, the progressive trend observed across years signifies that the \"year\" of manufacture can't be overlooked as a predictor, with newer models typically boasting better fuel efficiency. \n",
    "\n",
    "It is also noteworthy to mention that although \"horsepower\" is classified as a qualitative variable (string) in the dataset, it has the potential to be transformed into a numerical variable, subsequently becoming a potent predictor for mpg. "
   ]
  },
  {
   "cell_type": "code",
   "execution_count": null,
   "id": "7723d3bf",
   "metadata": {},
   "outputs": [],
   "source": []
  }
 ],
 "metadata": {
  "colab": {
   "provenance": [
    {
     "file_id": "1bpj83yszGuQJ8IwM1ShV36kX4RaEqw7s",
     "timestamp": 1693750010218
    }
   ]
  },
  "kernelspec": {
   "display_name": "Python 3 (ipykernel)",
   "language": "python",
   "name": "python3"
  },
  "language_info": {
   "codemirror_mode": {
    "name": "ipython",
    "version": 3
   },
   "file_extension": ".py",
   "mimetype": "text/x-python",
   "name": "python",
   "nbconvert_exporter": "python",
   "pygments_lexer": "ipython3",
   "version": "3.10.9"
  }
 },
 "nbformat": 4,
 "nbformat_minor": 5
}
